{
 "cells": [
  {
   "cell_type": "markdown",
   "id": "93c6e4e6",
   "metadata": {},
   "source": [
    "### Data Load"
   ]
  },
  {
   "cell_type": "code",
   "execution_count": 31,
   "id": "88a33e6c",
   "metadata": {
    "ExecuteTime": {
     "end_time": "2021-11-23T07:03:18.951257Z",
     "start_time": "2021-11-23T07:03:18.948243Z"
    }
   },
   "outputs": [],
   "source": [
    "import pandas as pd\n",
    "import numpy as np\n",
    "import matplotlib.pyplot as plt"
   ]
  },
  {
   "cell_type": "code",
   "execution_count": 32,
   "id": "310a6ade",
   "metadata": {
    "ExecuteTime": {
     "end_time": "2021-11-23T07:03:19.380959Z",
     "start_time": "2021-11-23T07:03:19.361715Z"
    }
   },
   "outputs": [
    {
     "data": {
      "text/html": [
       "<div>\n",
       "<style scoped>\n",
       "    .dataframe tbody tr th:only-of-type {\n",
       "        vertical-align: middle;\n",
       "    }\n",
       "\n",
       "    .dataframe tbody tr th {\n",
       "        vertical-align: top;\n",
       "    }\n",
       "\n",
       "    .dataframe thead th {\n",
       "        text-align: right;\n",
       "    }\n",
       "</style>\n",
       "<table border=\"1\" class=\"dataframe\">\n",
       "  <thead>\n",
       "    <tr style=\"text-align: right;\">\n",
       "      <th></th>\n",
       "      <th>0</th>\n",
       "      <th>1</th>\n",
       "      <th>2</th>\n",
       "      <th>3</th>\n",
       "    </tr>\n",
       "  </thead>\n",
       "  <tbody>\n",
       "    <tr>\n",
       "      <th>0</th>\n",
       "      <td>22.598724</td>\n",
       "      <td>179.023686</td>\n",
       "      <td>163.249317</td>\n",
       "      <td>1</td>\n",
       "    </tr>\n",
       "    <tr>\n",
       "      <th>1</th>\n",
       "      <td>2.973941</td>\n",
       "      <td>179.892002</td>\n",
       "      <td>165.433054</td>\n",
       "      <td>1</td>\n",
       "    </tr>\n",
       "    <tr>\n",
       "      <th>2</th>\n",
       "      <td>147.763771</td>\n",
       "      <td>177.033637</td>\n",
       "      <td>165.819879</td>\n",
       "      <td>1</td>\n",
       "    </tr>\n",
       "    <tr>\n",
       "      <th>3</th>\n",
       "      <td>167.020688</td>\n",
       "      <td>177.214987</td>\n",
       "      <td>166.358002</td>\n",
       "      <td>1</td>\n",
       "    </tr>\n",
       "    <tr>\n",
       "      <th>4</th>\n",
       "      <td>154.102063</td>\n",
       "      <td>177.232321</td>\n",
       "      <td>165.434704</td>\n",
       "      <td>1</td>\n",
       "    </tr>\n",
       "  </tbody>\n",
       "</table>\n",
       "</div>"
      ],
      "text/plain": [
       "            0           1           2  3\n",
       "0   22.598724  179.023686  163.249317  1\n",
       "1    2.973941  179.892002  165.433054  1\n",
       "2  147.763771  177.033637  165.819879  1\n",
       "3  167.020688  177.214987  166.358002  1\n",
       "4  154.102063  177.232321  165.434704  1"
      ]
     },
     "execution_count": 32,
     "metadata": {},
     "output_type": "execute_result"
    }
   ],
   "source": [
    "df_click = pd.read_csv('dataset/dataset_click.csv')\n",
    "del df_click['Unnamed: 0']\n",
    "df_click.head()"
   ]
  },
  {
   "cell_type": "code",
   "execution_count": 33,
   "id": "7a84475a",
   "metadata": {
    "ExecuteTime": {
     "end_time": "2021-11-23T07:03:19.824074Z",
     "start_time": "2021-11-23T07:03:19.805444Z"
    }
   },
   "outputs": [
    {
     "data": {
      "text/html": [
       "<div>\n",
       "<style scoped>\n",
       "    .dataframe tbody tr th:only-of-type {\n",
       "        vertical-align: middle;\n",
       "    }\n",
       "\n",
       "    .dataframe tbody tr th {\n",
       "        vertical-align: top;\n",
       "    }\n",
       "\n",
       "    .dataframe thead th {\n",
       "        text-align: right;\n",
       "    }\n",
       "</style>\n",
       "<table border=\"1\" class=\"dataframe\">\n",
       "  <thead>\n",
       "    <tr style=\"text-align: right;\">\n",
       "      <th></th>\n",
       "      <th>0</th>\n",
       "      <th>1</th>\n",
       "      <th>2</th>\n",
       "      <th>3</th>\n",
       "    </tr>\n",
       "  </thead>\n",
       "  <tbody>\n",
       "    <tr>\n",
       "      <th>0</th>\n",
       "      <td>177.023114</td>\n",
       "      <td>176.338735</td>\n",
       "      <td>166.104406</td>\n",
       "      <td>0</td>\n",
       "    </tr>\n",
       "    <tr>\n",
       "      <th>1</th>\n",
       "      <td>177.680023</td>\n",
       "      <td>177.702565</td>\n",
       "      <td>167.582472</td>\n",
       "      <td>0</td>\n",
       "    </tr>\n",
       "    <tr>\n",
       "      <th>2</th>\n",
       "      <td>178.238596</td>\n",
       "      <td>177.121924</td>\n",
       "      <td>167.263819</td>\n",
       "      <td>0</td>\n",
       "    </tr>\n",
       "    <tr>\n",
       "      <th>3</th>\n",
       "      <td>178.061959</td>\n",
       "      <td>177.010129</td>\n",
       "      <td>167.606877</td>\n",
       "      <td>0</td>\n",
       "    </tr>\n",
       "    <tr>\n",
       "      <th>4</th>\n",
       "      <td>178.331293</td>\n",
       "      <td>176.677957</td>\n",
       "      <td>167.512249</td>\n",
       "      <td>0</td>\n",
       "    </tr>\n",
       "  </tbody>\n",
       "</table>\n",
       "</div>"
      ],
      "text/plain": [
       "            0           1           2  3\n",
       "0  177.023114  176.338735  166.104406  0\n",
       "1  177.680023  177.702565  167.582472  0\n",
       "2  178.238596  177.121924  167.263819  0\n",
       "3  178.061959  177.010129  167.606877  0\n",
       "4  178.331293  176.677957  167.512249  0"
      ]
     },
     "execution_count": 33,
     "metadata": {},
     "output_type": "execute_result"
    }
   ],
   "source": [
    "df_none = pd.read_csv('dataset/dataset_none.csv')\n",
    "del df_none['Unnamed: 0']\n",
    "df_none.head()"
   ]
  },
  {
   "cell_type": "markdown",
   "id": "c6a8fae5",
   "metadata": {},
   "source": [
    "#### 검지손가락 각 랜드마크 기준 정하기"
   ]
  },
  {
   "cell_type": "code",
   "execution_count": 34,
   "id": "c8171532",
   "metadata": {
    "ExecuteTime": {
     "end_time": "2021-11-23T07:03:20.185542Z",
     "start_time": "2021-11-23T07:03:20.175658Z"
    }
   },
   "outputs": [
    {
     "name": "stdout",
     "output_type": "stream",
     "text": [
      "--- click 90도 이하 각도 수 ---\n",
      "total:  1502\n",
      "7번 랜드마크 각도:  808\n",
      "6번 랜드마크 각도:  764\n",
      "6, 7번 랜드마크 각도:  175\n"
     ]
    }
   ],
   "source": [
    "print('--- click 90도 이하 각도 수 ---')\n",
    "print('total: ', len(df_click))\n",
    "print('7번 랜드마크 각도: ', len(df_click[df_click['0'] <= 120])) \n",
    "print('6번 랜드마크 각도: ', len(df_click[df_click['1'] <= 120])) \n",
    "print('6, 7번 랜드마크 각도: ', len(df_click[(df_click['1'] <= 120) & (df_click['0'] <= 120)])) "
   ]
  },
  {
   "cell_type": "code",
   "execution_count": 35,
   "id": "6af4f2eb",
   "metadata": {
    "ExecuteTime": {
     "end_time": "2021-11-23T07:03:20.596865Z",
     "start_time": "2021-11-23T07:03:20.586919Z"
    }
   },
   "outputs": [
    {
     "name": "stdout",
     "output_type": "stream",
     "text": [
      "--- none 90도 이하 각도 수 ---\n",
      "total:  1306\n",
      "7번 랜드마크 각도:  0\n",
      "6번 랜드마크 각도:  0\n"
     ]
    }
   ],
   "source": [
    "print('--- none 90도 이하 각도 수 ---')\n",
    "print('total: ', len(df_none))\n",
    "print('7번 랜드마크 각도: ', len(df_none[df_none['0'] <= 120])) # 90도 이하 데이터만 사용\n",
    "print('6번 랜드마크 각도: ', len(df_none[df_none['1'] <= 120])) # 90도 이하 데이터만 사용"
   ]
  },
  {
   "cell_type": "markdown",
   "id": "9dd63413",
   "metadata": {},
   "source": [
    "#### 7번 랜드마크 120도를 기준으로 설정"
   ]
  },
  {
   "cell_type": "code",
   "execution_count": 36,
   "id": "11e43bda",
   "metadata": {
    "ExecuteTime": {
     "end_time": "2021-11-23T07:03:21.400084Z",
     "start_time": "2021-11-23T07:03:21.389161Z"
    }
   },
   "outputs": [
    {
     "data": {
      "text/html": [
       "<div>\n",
       "<style scoped>\n",
       "    .dataframe tbody tr th:only-of-type {\n",
       "        vertical-align: middle;\n",
       "    }\n",
       "\n",
       "    .dataframe tbody tr th {\n",
       "        vertical-align: top;\n",
       "    }\n",
       "\n",
       "    .dataframe thead th {\n",
       "        text-align: right;\n",
       "    }\n",
       "</style>\n",
       "<table border=\"1\" class=\"dataframe\">\n",
       "  <thead>\n",
       "    <tr style=\"text-align: right;\">\n",
       "      <th></th>\n",
       "      <th>0</th>\n",
       "      <th>1</th>\n",
       "      <th>2</th>\n",
       "      <th>3</th>\n",
       "    </tr>\n",
       "  </thead>\n",
       "  <tbody>\n",
       "    <tr>\n",
       "      <th>0</th>\n",
       "      <td>22.598724</td>\n",
       "      <td>179.023686</td>\n",
       "      <td>163.249317</td>\n",
       "      <td>1</td>\n",
       "    </tr>\n",
       "    <tr>\n",
       "      <th>1</th>\n",
       "      <td>2.973941</td>\n",
       "      <td>179.892002</td>\n",
       "      <td>165.433054</td>\n",
       "      <td>1</td>\n",
       "    </tr>\n",
       "    <tr>\n",
       "      <th>25</th>\n",
       "      <td>101.145285</td>\n",
       "      <td>172.279699</td>\n",
       "      <td>164.064479</td>\n",
       "      <td>1</td>\n",
       "    </tr>\n",
       "    <tr>\n",
       "      <th>27</th>\n",
       "      <td>94.565581</td>\n",
       "      <td>174.935962</td>\n",
       "      <td>164.257273</td>\n",
       "      <td>1</td>\n",
       "    </tr>\n",
       "    <tr>\n",
       "      <th>28</th>\n",
       "      <td>34.138636</td>\n",
       "      <td>177.078378</td>\n",
       "      <td>163.886451</td>\n",
       "      <td>1</td>\n",
       "    </tr>\n",
       "  </tbody>\n",
       "</table>\n",
       "</div>"
      ],
      "text/plain": [
       "             0           1           2  3\n",
       "0    22.598724  179.023686  163.249317  1\n",
       "1     2.973941  179.892002  165.433054  1\n",
       "25  101.145285  172.279699  164.064479  1\n",
       "27   94.565581  174.935962  164.257273  1\n",
       "28   34.138636  177.078378  163.886451  1"
      ]
     },
     "execution_count": 36,
     "metadata": {},
     "output_type": "execute_result"
    }
   ],
   "source": [
    "df_click = df_click[df_click['0'] <= 120]\n",
    "df_click.head()"
   ]
  },
  {
   "cell_type": "code",
   "execution_count": 37,
   "id": "b3c1dc14",
   "metadata": {
    "ExecuteTime": {
     "end_time": "2021-11-23T07:03:22.681394Z",
     "start_time": "2021-11-23T07:03:22.667693Z"
    }
   },
   "outputs": [
    {
     "data": {
      "text/html": [
       "<div>\n",
       "<style scoped>\n",
       "    .dataframe tbody tr th:only-of-type {\n",
       "        vertical-align: middle;\n",
       "    }\n",
       "\n",
       "    .dataframe tbody tr th {\n",
       "        vertical-align: top;\n",
       "    }\n",
       "\n",
       "    .dataframe thead th {\n",
       "        text-align: right;\n",
       "    }\n",
       "</style>\n",
       "<table border=\"1\" class=\"dataframe\">\n",
       "  <thead>\n",
       "    <tr style=\"text-align: right;\">\n",
       "      <th></th>\n",
       "      <th>0</th>\n",
       "      <th>1</th>\n",
       "      <th>2</th>\n",
       "      <th>3</th>\n",
       "    </tr>\n",
       "  </thead>\n",
       "  <tbody>\n",
       "    <tr>\n",
       "      <th>0</th>\n",
       "      <td>22.598724</td>\n",
       "      <td>179.023686</td>\n",
       "      <td>163.249317</td>\n",
       "      <td>1</td>\n",
       "    </tr>\n",
       "    <tr>\n",
       "      <th>1</th>\n",
       "      <td>2.973941</td>\n",
       "      <td>179.892002</td>\n",
       "      <td>165.433054</td>\n",
       "      <td>1</td>\n",
       "    </tr>\n",
       "    <tr>\n",
       "      <th>25</th>\n",
       "      <td>101.145285</td>\n",
       "      <td>172.279699</td>\n",
       "      <td>164.064479</td>\n",
       "      <td>1</td>\n",
       "    </tr>\n",
       "    <tr>\n",
       "      <th>27</th>\n",
       "      <td>94.565581</td>\n",
       "      <td>174.935962</td>\n",
       "      <td>164.257273</td>\n",
       "      <td>1</td>\n",
       "    </tr>\n",
       "    <tr>\n",
       "      <th>28</th>\n",
       "      <td>34.138636</td>\n",
       "      <td>177.078378</td>\n",
       "      <td>163.886451</td>\n",
       "      <td>1</td>\n",
       "    </tr>\n",
       "  </tbody>\n",
       "</table>\n",
       "</div>"
      ],
      "text/plain": [
       "             0           1           2  3\n",
       "0    22.598724  179.023686  163.249317  1\n",
       "1     2.973941  179.892002  165.433054  1\n",
       "25  101.145285  172.279699  164.064479  1\n",
       "27   94.565581  174.935962  164.257273  1\n",
       "28   34.138636  177.078378  163.886451  1"
      ]
     },
     "execution_count": 37,
     "metadata": {},
     "output_type": "execute_result"
    }
   ],
   "source": [
    "df_data = pd.concat([df_click, df_none])\n",
    "df_data.head()"
   ]
  },
  {
   "cell_type": "code",
   "execution_count": 38,
   "id": "69fdf86b",
   "metadata": {
    "ExecuteTime": {
     "end_time": "2021-11-23T07:03:22.924854Z",
     "start_time": "2021-11-23T07:03:22.913494Z"
    }
   },
   "outputs": [
    {
     "data": {
      "text/html": [
       "<div>\n",
       "<style scoped>\n",
       "    .dataframe tbody tr th:only-of-type {\n",
       "        vertical-align: middle;\n",
       "    }\n",
       "\n",
       "    .dataframe tbody tr th {\n",
       "        vertical-align: top;\n",
       "    }\n",
       "\n",
       "    .dataframe thead th {\n",
       "        text-align: right;\n",
       "    }\n",
       "</style>\n",
       "<table border=\"1\" class=\"dataframe\">\n",
       "  <thead>\n",
       "    <tr style=\"text-align: right;\">\n",
       "      <th></th>\n",
       "      <th>0</th>\n",
       "      <th>1</th>\n",
       "      <th>2</th>\n",
       "      <th>3</th>\n",
       "    </tr>\n",
       "  </thead>\n",
       "  <tbody>\n",
       "    <tr>\n",
       "      <th>1301</th>\n",
       "      <td>176.423832</td>\n",
       "      <td>173.997588</td>\n",
       "      <td>171.909546</td>\n",
       "      <td>0</td>\n",
       "    </tr>\n",
       "    <tr>\n",
       "      <th>1302</th>\n",
       "      <td>176.408986</td>\n",
       "      <td>174.194977</td>\n",
       "      <td>171.699901</td>\n",
       "      <td>0</td>\n",
       "    </tr>\n",
       "    <tr>\n",
       "      <th>1303</th>\n",
       "      <td>176.588753</td>\n",
       "      <td>173.374272</td>\n",
       "      <td>172.118063</td>\n",
       "      <td>0</td>\n",
       "    </tr>\n",
       "    <tr>\n",
       "      <th>1304</th>\n",
       "      <td>176.571527</td>\n",
       "      <td>173.746418</td>\n",
       "      <td>172.134432</td>\n",
       "      <td>0</td>\n",
       "    </tr>\n",
       "    <tr>\n",
       "      <th>1305</th>\n",
       "      <td>176.515446</td>\n",
       "      <td>173.417380</td>\n",
       "      <td>172.506359</td>\n",
       "      <td>0</td>\n",
       "    </tr>\n",
       "  </tbody>\n",
       "</table>\n",
       "</div>"
      ],
      "text/plain": [
       "               0           1           2  3\n",
       "1301  176.423832  173.997588  171.909546  0\n",
       "1302  176.408986  174.194977  171.699901  0\n",
       "1303  176.588753  173.374272  172.118063  0\n",
       "1304  176.571527  173.746418  172.134432  0\n",
       "1305  176.515446  173.417380  172.506359  0"
      ]
     },
     "execution_count": 38,
     "metadata": {},
     "output_type": "execute_result"
    }
   ],
   "source": [
    "df_data.tail()"
   ]
  },
  {
   "cell_type": "code",
   "execution_count": 39,
   "id": "0fb1a635",
   "metadata": {
    "ExecuteTime": {
     "end_time": "2021-11-23T07:03:24.063324Z",
     "start_time": "2021-11-23T07:03:24.060276Z"
    }
   },
   "outputs": [],
   "source": [
    "df_data_copy = df_data.copy() # 원본데이터 저장"
   ]
  },
  {
   "cell_type": "code",
   "execution_count": 63,
   "id": "754916ab",
   "metadata": {
    "ExecuteTime": {
     "end_time": "2021-11-23T07:09:07.300158Z",
     "start_time": "2021-11-23T07:09:07.289656Z"
    }
   },
   "outputs": [
    {
     "data": {
      "text/html": [
       "<div>\n",
       "<style scoped>\n",
       "    .dataframe tbody tr th:only-of-type {\n",
       "        vertical-align: middle;\n",
       "    }\n",
       "\n",
       "    .dataframe tbody tr th {\n",
       "        vertical-align: top;\n",
       "    }\n",
       "\n",
       "    .dataframe thead th {\n",
       "        text-align: right;\n",
       "    }\n",
       "</style>\n",
       "<table border=\"1\" class=\"dataframe\">\n",
       "  <thead>\n",
       "    <tr style=\"text-align: right;\">\n",
       "      <th></th>\n",
       "      <th>3</th>\n",
       "    </tr>\n",
       "  </thead>\n",
       "  <tbody>\n",
       "    <tr>\n",
       "      <th>0</th>\n",
       "      <td>1</td>\n",
       "    </tr>\n",
       "    <tr>\n",
       "      <th>1</th>\n",
       "      <td>1</td>\n",
       "    </tr>\n",
       "    <tr>\n",
       "      <th>25</th>\n",
       "      <td>1</td>\n",
       "    </tr>\n",
       "    <tr>\n",
       "      <th>27</th>\n",
       "      <td>1</td>\n",
       "    </tr>\n",
       "    <tr>\n",
       "      <th>28</th>\n",
       "      <td>1</td>\n",
       "    </tr>\n",
       "    <tr>\n",
       "      <th>29</th>\n",
       "      <td>1</td>\n",
       "    </tr>\n",
       "    <tr>\n",
       "      <th>30</th>\n",
       "      <td>1</td>\n",
       "    </tr>\n",
       "    <tr>\n",
       "      <th>31</th>\n",
       "      <td>1</td>\n",
       "    </tr>\n",
       "    <tr>\n",
       "      <th>32</th>\n",
       "      <td>1</td>\n",
       "    </tr>\n",
       "    <tr>\n",
       "      <th>33</th>\n",
       "      <td>1</td>\n",
       "    </tr>\n",
       "  </tbody>\n",
       "</table>\n",
       "</div>"
      ],
      "text/plain": [
       "    3\n",
       "0   1\n",
       "1   1\n",
       "25  1\n",
       "27  1\n",
       "28  1\n",
       "29  1\n",
       "30  1\n",
       "31  1\n",
       "32  1\n",
       "33  1"
      ]
     },
     "execution_count": 63,
     "metadata": {},
     "output_type": "execute_result"
    }
   ],
   "source": [
    "df_data[['3']][:10]"
   ]
  },
  {
   "cell_type": "code",
   "execution_count": 41,
   "id": "7007f446",
   "metadata": {
    "ExecuteTime": {
     "end_time": "2021-11-23T07:03:25.282613Z",
     "start_time": "2021-11-23T07:03:25.277236Z"
    }
   },
   "outputs": [],
   "source": [
    "df_target = df_data[['3']] # y 데이터(0, 1)\n",
    "df_data = df_data[['0', '1', '2']] # x 데이터"
   ]
  },
  {
   "cell_type": "code",
   "execution_count": 46,
   "id": "5353243c",
   "metadata": {
    "ExecuteTime": {
     "end_time": "2021-11-23T07:03:40.732567Z",
     "start_time": "2021-11-23T07:03:40.722559Z"
    }
   },
   "outputs": [
    {
     "data": {
      "text/html": [
       "<div>\n",
       "<style scoped>\n",
       "    .dataframe tbody tr th:only-of-type {\n",
       "        vertical-align: middle;\n",
       "    }\n",
       "\n",
       "    .dataframe tbody tr th {\n",
       "        vertical-align: top;\n",
       "    }\n",
       "\n",
       "    .dataframe thead th {\n",
       "        text-align: right;\n",
       "    }\n",
       "</style>\n",
       "<table border=\"1\" class=\"dataframe\">\n",
       "  <thead>\n",
       "    <tr style=\"text-align: right;\">\n",
       "      <th></th>\n",
       "      <th>3</th>\n",
       "    </tr>\n",
       "  </thead>\n",
       "  <tbody>\n",
       "    <tr>\n",
       "      <th>0</th>\n",
       "      <td>1</td>\n",
       "    </tr>\n",
       "    <tr>\n",
       "      <th>1</th>\n",
       "      <td>1</td>\n",
       "    </tr>\n",
       "    <tr>\n",
       "      <th>25</th>\n",
       "      <td>1</td>\n",
       "    </tr>\n",
       "    <tr>\n",
       "      <th>27</th>\n",
       "      <td>1</td>\n",
       "    </tr>\n",
       "    <tr>\n",
       "      <th>28</th>\n",
       "      <td>1</td>\n",
       "    </tr>\n",
       "    <tr>\n",
       "      <th>29</th>\n",
       "      <td>1</td>\n",
       "    </tr>\n",
       "    <tr>\n",
       "      <th>30</th>\n",
       "      <td>1</td>\n",
       "    </tr>\n",
       "    <tr>\n",
       "      <th>31</th>\n",
       "      <td>1</td>\n",
       "    </tr>\n",
       "    <tr>\n",
       "      <th>32</th>\n",
       "      <td>1</td>\n",
       "    </tr>\n",
       "    <tr>\n",
       "      <th>33</th>\n",
       "      <td>1</td>\n",
       "    </tr>\n",
       "  </tbody>\n",
       "</table>\n",
       "</div>"
      ],
      "text/plain": [
       "    3\n",
       "0   1\n",
       "1   1\n",
       "25  1\n",
       "27  1\n",
       "28  1\n",
       "29  1\n",
       "30  1\n",
       "31  1\n",
       "32  1\n",
       "33  1"
      ]
     },
     "execution_count": 46,
     "metadata": {},
     "output_type": "execute_result"
    }
   ],
   "source": [
    "df_target[:10]"
   ]
  },
  {
   "cell_type": "markdown",
   "id": "c6de19cd",
   "metadata": {},
   "source": [
    "### Test / Train Split"
   ]
  },
  {
   "cell_type": "code",
   "execution_count": 47,
   "id": "b0ac3f5d",
   "metadata": {
    "ExecuteTime": {
     "end_time": "2021-11-23T07:03:41.602645Z",
     "start_time": "2021-11-23T07:03:41.597550Z"
    }
   },
   "outputs": [],
   "source": [
    "from sklearn import model_selection\n",
    "x_train, x_test, y_train, y_test = model_selection.train_test_split(df_data, df_target, test_size=0.2, random_state=0)"
   ]
  },
  {
   "cell_type": "code",
   "execution_count": 48,
   "id": "c53f93d5",
   "metadata": {
    "ExecuteTime": {
     "end_time": "2021-11-23T07:03:42.307192Z",
     "start_time": "2021-11-23T07:03:42.297415Z"
    }
   },
   "outputs": [
    {
     "data": {
      "text/html": [
       "<div>\n",
       "<style scoped>\n",
       "    .dataframe tbody tr th:only-of-type {\n",
       "        vertical-align: middle;\n",
       "    }\n",
       "\n",
       "    .dataframe tbody tr th {\n",
       "        vertical-align: top;\n",
       "    }\n",
       "\n",
       "    .dataframe thead th {\n",
       "        text-align: right;\n",
       "    }\n",
       "</style>\n",
       "<table border=\"1\" class=\"dataframe\">\n",
       "  <thead>\n",
       "    <tr style=\"text-align: right;\">\n",
       "      <th></th>\n",
       "      <th>3</th>\n",
       "    </tr>\n",
       "  </thead>\n",
       "  <tbody>\n",
       "    <tr>\n",
       "      <th>818</th>\n",
       "      <td>0</td>\n",
       "    </tr>\n",
       "    <tr>\n",
       "      <th>935</th>\n",
       "      <td>1</td>\n",
       "    </tr>\n",
       "    <tr>\n",
       "      <th>775</th>\n",
       "      <td>0</td>\n",
       "    </tr>\n",
       "    <tr>\n",
       "      <th>822</th>\n",
       "      <td>0</td>\n",
       "    </tr>\n",
       "    <tr>\n",
       "      <th>583</th>\n",
       "      <td>0</td>\n",
       "    </tr>\n",
       "    <tr>\n",
       "      <th>255</th>\n",
       "      <td>0</td>\n",
       "    </tr>\n",
       "    <tr>\n",
       "      <th>293</th>\n",
       "      <td>0</td>\n",
       "    </tr>\n",
       "    <tr>\n",
       "      <th>351</th>\n",
       "      <td>1</td>\n",
       "    </tr>\n",
       "    <tr>\n",
       "      <th>750</th>\n",
       "      <td>1</td>\n",
       "    </tr>\n",
       "    <tr>\n",
       "      <th>838</th>\n",
       "      <td>0</td>\n",
       "    </tr>\n",
       "    <tr>\n",
       "      <th>829</th>\n",
       "      <td>0</td>\n",
       "    </tr>\n",
       "    <tr>\n",
       "      <th>166</th>\n",
       "      <td>0</td>\n",
       "    </tr>\n",
       "    <tr>\n",
       "      <th>856</th>\n",
       "      <td>0</td>\n",
       "    </tr>\n",
       "    <tr>\n",
       "      <th>236</th>\n",
       "      <td>0</td>\n",
       "    </tr>\n",
       "    <tr>\n",
       "      <th>136</th>\n",
       "      <td>0</td>\n",
       "    </tr>\n",
       "    <tr>\n",
       "      <th>17</th>\n",
       "      <td>0</td>\n",
       "    </tr>\n",
       "    <tr>\n",
       "      <th>854</th>\n",
       "      <td>0</td>\n",
       "    </tr>\n",
       "    <tr>\n",
       "      <th>831</th>\n",
       "      <td>1</td>\n",
       "    </tr>\n",
       "    <tr>\n",
       "      <th>125</th>\n",
       "      <td>1</td>\n",
       "    </tr>\n",
       "    <tr>\n",
       "      <th>264</th>\n",
       "      <td>1</td>\n",
       "    </tr>\n",
       "  </tbody>\n",
       "</table>\n",
       "</div>"
      ],
      "text/plain": [
       "     3\n",
       "818  0\n",
       "935  1\n",
       "775  0\n",
       "822  0\n",
       "583  0\n",
       "255  0\n",
       "293  0\n",
       "351  1\n",
       "750  1\n",
       "838  0\n",
       "829  0\n",
       "166  0\n",
       "856  0\n",
       "236  0\n",
       "136  0\n",
       "17   0\n",
       "854  0\n",
       "831  1\n",
       "125  1\n",
       "264  1"
      ]
     },
     "execution_count": 48,
     "metadata": {},
     "output_type": "execute_result"
    }
   ],
   "source": [
    "y_train[:20]"
   ]
  },
  {
   "cell_type": "code",
   "execution_count": 49,
   "id": "a1dfcd48",
   "metadata": {
    "ExecuteTime": {
     "end_time": "2021-11-23T07:03:45.185689Z",
     "start_time": "2021-11-23T07:03:45.177567Z"
    }
   },
   "outputs": [
    {
     "name": "stdout",
     "output_type": "stream",
     "text": [
      "(1691, 2)\n",
      "(423, 2)\n"
     ]
    }
   ],
   "source": [
    "# Apply 'One-hot encoding' on labels\n",
    "\n",
    "from sklearn import preprocessing\n",
    "\n",
    "enc = preprocessing.OneHotEncoder(categories='auto')\n",
    "\n",
    "y_train = enc.fit_transform(y_train).toarray()\n",
    "y_test = enc.fit_transform(y_test).toarray()\n",
    "\n",
    "print(y_train.shape)\n",
    "print(y_test.shape)"
   ]
  },
  {
   "cell_type": "code",
   "execution_count": 50,
   "id": "a19ce55b",
   "metadata": {
    "ExecuteTime": {
     "end_time": "2021-11-23T07:03:46.095720Z",
     "start_time": "2021-11-23T07:03:46.090559Z"
    }
   },
   "outputs": [
    {
     "data": {
      "text/plain": [
       "array([[1., 0.],\n",
       "       [0., 1.],\n",
       "       [1., 0.],\n",
       "       [1., 0.],\n",
       "       [1., 0.],\n",
       "       [1., 0.],\n",
       "       [1., 0.],\n",
       "       [0., 1.],\n",
       "       [0., 1.],\n",
       "       [1., 0.],\n",
       "       [1., 0.],\n",
       "       [1., 0.],\n",
       "       [1., 0.],\n",
       "       [1., 0.],\n",
       "       [1., 0.],\n",
       "       [1., 0.],\n",
       "       [1., 0.],\n",
       "       [0., 1.],\n",
       "       [0., 1.],\n",
       "       [0., 1.]])"
      ]
     },
     "execution_count": 50,
     "metadata": {},
     "output_type": "execute_result"
    }
   ],
   "source": [
    "y_train[:20] "
   ]
  },
  {
   "cell_type": "code",
   "execution_count": null,
   "id": "51394fdc",
   "metadata": {},
   "outputs": [],
   "source": [
    "# 0 -> [1., 0.]\n",
    "# 1 -> [0., 1.]"
   ]
  },
  {
   "cell_type": "code",
   "execution_count": 18,
   "id": "ab2beeb3",
   "metadata": {
    "ExecuteTime": {
     "end_time": "2021-11-23T06:58:02.528575Z",
     "start_time": "2021-11-23T06:58:02.523207Z"
    }
   },
   "outputs": [],
   "source": [
    "# # -> one-hot vector\n",
    "# from tensorflow.keras import utils\n",
    "# y_train = utils.to_categorical(x_train) # 0 or 1 -> one-hot vector\n",
    "# y_test = utils.to_categorical(x_test) # 0 or 1 -> one-hot vector"
   ]
  },
  {
   "cell_type": "markdown",
   "id": "019df554",
   "metadata": {},
   "source": [
    "### Model Fit"
   ]
  },
  {
   "cell_type": "code",
   "execution_count": 19,
   "id": "947f2097",
   "metadata": {
    "ExecuteTime": {
     "end_time": "2021-11-23T06:58:04.804198Z",
     "start_time": "2021-11-23T06:58:03.083720Z"
    }
   },
   "outputs": [],
   "source": [
    "import tensorflow as tf\n",
    "\n",
    "from tensorflow.keras import datasets, utils\n",
    "from tensorflow.keras import models, layers, activations, initializers, losses, optimizers, metrics"
   ]
  },
  {
   "cell_type": "code",
   "execution_count": 20,
   "id": "abf5b880",
   "metadata": {
    "ExecuteTime": {
     "end_time": "2021-11-23T06:58:04.884312Z",
     "start_time": "2021-11-23T06:58:04.805207Z"
    }
   },
   "outputs": [],
   "source": [
    "model = models.Sequential()\n",
    "\n",
    "model.add(layers.Dense(input_dim=3, units=64, activation=None, kernel_initializer=initializers.he_uniform())) # he-uniform initialization\n",
    "\n",
    "# model.add(layers.BatchNormalization()) # Use this line as if needed\n",
    "\n",
    "model.add(layers.Activation('elu')) # elu, relu / layers.ELU, layers.LeakyReLU\n",
    "\n",
    "model.add(layers.Dense(units=32, activation=None, kernel_initializer=initializers.he_uniform())) \n",
    "model.add(layers.Activation('elu')) \n",
    "\n",
    "model.add(layers.Dense(units=32, activation=None, kernel_initializer=initializers.he_uniform())) \n",
    "model.add(layers.Activation('elu'))\n",
    "\n",
    "# 마지막 hidden layer droup out\n",
    "model.add(layers.Dropout(rate=0.5))\n",
    "\n",
    "model.add(layers.Dense(units=2, activation='softmax')) # Apply softmax function on model's output"
   ]
  },
  {
   "cell_type": "code",
   "execution_count": 21,
   "id": "0df627ab",
   "metadata": {
    "ExecuteTime": {
     "end_time": "2021-11-23T06:58:06.574017Z",
     "start_time": "2021-11-23T06:58:06.555534Z"
    }
   },
   "outputs": [],
   "source": [
    "model.compile(optimizer=optimizers.Adam(),\n",
    "              loss=losses.categorical_crossentropy, \n",
    "              metrics=[metrics.categorical_accuracy])"
   ]
  },
  {
   "cell_type": "code",
   "execution_count": 22,
   "id": "eeb2df2c",
   "metadata": {
    "ExecuteTime": {
     "end_time": "2021-11-23T06:58:09.536851Z",
     "start_time": "2021-11-23T06:58:07.016918Z"
    }
   },
   "outputs": [
    {
     "name": "stdout",
     "output_type": "stream",
     "text": [
      "Epoch 1/100\n",
      "WARNING:tensorflow:AutoGraph could not transform <function Model.make_train_function.<locals>.train_function at 0x17b49ec10> and will run it as-is.\n",
      "Please report this to the TensorFlow team. When filing the bug, set the verbosity to 10 (on Linux, `export AUTOGRAPH_VERBOSITY=10`) and attach the full output.\n",
      "Cause: unsupported operand type(s) for -: 'NoneType' and 'int'\n",
      "To silence this warning, decorate the function with @tf.autograph.experimental.do_not_convert\n",
      "WARNING: AutoGraph could not transform <function Model.make_train_function.<locals>.train_function at 0x17b49ec10> and will run it as-is.\n",
      "Please report this to the TensorFlow team. When filing the bug, set the verbosity to 10 (on Linux, `export AUTOGRAPH_VERBOSITY=10`) and attach the full output.\n",
      "Cause: unsupported operand type(s) for -: 'NoneType' and 'int'\n",
      "To silence this warning, decorate the function with @tf.autograph.experimental.do_not_convert\n"
     ]
    },
    {
     "name": "stderr",
     "output_type": "stream",
     "text": [
      "2021-11-23 15:58:07.074282: I tensorflow/compiler/mlir/mlir_graph_optimization_pass.cc:116] None of the MLIR optimization passes are enabled (registered 2)\n",
      "2021-11-23 15:58:07.074726: W tensorflow/core/platform/profile_utils/cpu_utils.cc:126] Failed to get CPU frequency: 0 Hz\n"
     ]
    },
    {
     "name": "stdout",
     "output_type": "stream",
     "text": [
      "1/6 [====>.........................] - ETA: 1s - loss: 169.9707 - categorical_accuracy: 0.5000WARNING:tensorflow:AutoGraph could not transform <function Model.make_test_function.<locals>.test_function at 0x2957a6040> and will run it as-is.\n",
      "Please report this to the TensorFlow team. When filing the bug, set the verbosity to 10 (on Linux, `export AUTOGRAPH_VERBOSITY=10`) and attach the full output.\n",
      "Cause: unsupported operand type(s) for -: 'NoneType' and 'int'\n",
      "To silence this warning, decorate the function with @tf.autograph.experimental.do_not_convert\n",
      "WARNING: AutoGraph could not transform <function Model.make_test_function.<locals>.test_function at 0x2957a6040> and will run it as-is.\n",
      "Please report this to the TensorFlow team. When filing the bug, set the verbosity to 10 (on Linux, `export AUTOGRAPH_VERBOSITY=10`) and attach the full output.\n",
      "Cause: unsupported operand type(s) for -: 'NoneType' and 'int'\n",
      "To silence this warning, decorate the function with @tf.autograph.experimental.do_not_convert\n",
      "6/6 [==============================] - 0s 51ms/step - loss: 145.8420 - categorical_accuracy: 0.5323 - val_loss: 53.3610 - val_categorical_accuracy: 0.6201\n",
      "Epoch 2/100\n",
      "6/6 [==============================] - 0s 4ms/step - loss: 95.3470 - categorical_accuracy: 0.5255 - val_loss: 7.3260 - val_categorical_accuracy: 0.8563\n",
      "Epoch 3/100\n",
      "6/6 [==============================] - 0s 4ms/step - loss: 62.0498 - categorical_accuracy: 0.6316 - val_loss: 5.8571 - val_categorical_accuracy: 0.9390\n",
      "Epoch 4/100\n",
      "6/6 [==============================] - 0s 4ms/step - loss: 59.9246 - categorical_accuracy: 0.6478 - val_loss: 8.9621 - val_categorical_accuracy: 0.9193\n",
      "Epoch 5/100\n",
      "6/6 [==============================] - 0s 4ms/step - loss: 37.7735 - categorical_accuracy: 0.7545 - val_loss: 10.6739 - val_categorical_accuracy: 0.9134\n",
      "Epoch 6/100\n",
      "6/6 [==============================] - 0s 4ms/step - loss: 34.6299 - categorical_accuracy: 0.7952 - val_loss: 12.1035 - val_categorical_accuracy: 0.9252\n",
      "Epoch 7/100\n",
      "6/6 [==============================] - 0s 4ms/step - loss: 32.1036 - categorical_accuracy: 0.7963 - val_loss: 10.5391 - val_categorical_accuracy: 0.9370\n",
      "Epoch 8/100\n",
      "6/6 [==============================] - 0s 4ms/step - loss: 23.9744 - categorical_accuracy: 0.8332 - val_loss: 9.8431 - val_categorical_accuracy: 0.9409\n",
      "Epoch 9/100\n",
      "6/6 [==============================] - 0s 4ms/step - loss: 19.4094 - categorical_accuracy: 0.8538 - val_loss: 11.0268 - val_categorical_accuracy: 0.9449\n",
      "Epoch 10/100\n",
      "6/6 [==============================] - 0s 4ms/step - loss: 19.0773 - categorical_accuracy: 0.8630 - val_loss: 8.2649 - val_categorical_accuracy: 0.9429\n",
      "Epoch 11/100\n",
      "6/6 [==============================] - 0s 4ms/step - loss: 12.1531 - categorical_accuracy: 0.9120 - val_loss: 11.9999 - val_categorical_accuracy: 0.9488\n",
      "Epoch 12/100\n",
      "6/6 [==============================] - 0s 4ms/step - loss: 14.5135 - categorical_accuracy: 0.8947 - val_loss: 14.1760 - val_categorical_accuracy: 0.9567\n",
      "Epoch 13/100\n",
      "6/6 [==============================] - 0s 4ms/step - loss: 10.7666 - categorical_accuracy: 0.9036 - val_loss: 10.2352 - val_categorical_accuracy: 0.9606\n",
      "Epoch 14/100\n",
      "6/6 [==============================] - 0s 4ms/step - loss: 6.0507 - categorical_accuracy: 0.9462 - val_loss: 20.2623 - val_categorical_accuracy: 0.9626\n",
      "Epoch 15/100\n",
      "6/6 [==============================] - 0s 4ms/step - loss: 6.3695 - categorical_accuracy: 0.9341 - val_loss: 34.6366 - val_categorical_accuracy: 0.9528\n",
      "Epoch 16/100\n",
      "6/6 [==============================] - 0s 4ms/step - loss: 5.3048 - categorical_accuracy: 0.9518 - val_loss: 23.7360 - val_categorical_accuracy: 0.9606\n",
      "Epoch 17/100\n",
      "6/6 [==============================] - 0s 4ms/step - loss: 4.1944 - categorical_accuracy: 0.9561 - val_loss: 21.6834 - val_categorical_accuracy: 0.9587\n",
      "Epoch 18/100\n",
      "6/6 [==============================] - 0s 4ms/step - loss: 6.5492 - categorical_accuracy: 0.9609 - val_loss: 25.4634 - val_categorical_accuracy: 0.9646\n",
      "Epoch 19/100\n",
      "6/6 [==============================] - 0s 4ms/step - loss: 3.5902 - categorical_accuracy: 0.9691 - val_loss: 29.1565 - val_categorical_accuracy: 0.9646\n",
      "Epoch 20/100\n",
      "6/6 [==============================] - 0s 4ms/step - loss: 3.5198 - categorical_accuracy: 0.9674 - val_loss: 25.6922 - val_categorical_accuracy: 0.9705\n",
      "Epoch 21/100\n",
      "6/6 [==============================] - 0s 4ms/step - loss: 2.8615 - categorical_accuracy: 0.9679 - val_loss: 18.6253 - val_categorical_accuracy: 0.9665\n",
      "Epoch 22/100\n",
      "6/6 [==============================] - 0s 4ms/step - loss: 3.3214 - categorical_accuracy: 0.9742 - val_loss: 19.2977 - val_categorical_accuracy: 0.9626\n",
      "Epoch 23/100\n",
      "6/6 [==============================] - 0s 4ms/step - loss: 1.6948 - categorical_accuracy: 0.9878 - val_loss: 23.2532 - val_categorical_accuracy: 0.9665\n",
      "Epoch 24/100\n",
      "6/6 [==============================] - 0s 4ms/step - loss: 1.8615 - categorical_accuracy: 0.9789 - val_loss: 20.4023 - val_categorical_accuracy: 0.9724\n",
      "Epoch 25/100\n",
      "6/6 [==============================] - 0s 4ms/step - loss: 2.8726 - categorical_accuracy: 0.9753 - val_loss: 30.3826 - val_categorical_accuracy: 0.9685\n",
      "Epoch 26/100\n",
      "6/6 [==============================] - 0s 4ms/step - loss: 1.8146 - categorical_accuracy: 0.9810 - val_loss: 36.7720 - val_categorical_accuracy: 0.9685\n",
      "Epoch 27/100\n",
      "6/6 [==============================] - 0s 4ms/step - loss: 1.8011 - categorical_accuracy: 0.9797 - val_loss: 24.7400 - val_categorical_accuracy: 0.9685\n",
      "Epoch 28/100\n",
      "6/6 [==============================] - 0s 4ms/step - loss: 2.5153 - categorical_accuracy: 0.9771 - val_loss: 29.1601 - val_categorical_accuracy: 0.9685\n",
      "Epoch 29/100\n",
      "6/6 [==============================] - 0s 4ms/step - loss: 1.4757 - categorical_accuracy: 0.9820 - val_loss: 38.9886 - val_categorical_accuracy: 0.9646\n",
      "Epoch 30/100\n",
      "6/6 [==============================] - 0s 4ms/step - loss: 1.3030 - categorical_accuracy: 0.9837 - val_loss: 55.6036 - val_categorical_accuracy: 0.9606\n",
      "Epoch 31/100\n",
      "6/6 [==============================] - 0s 4ms/step - loss: 0.8164 - categorical_accuracy: 0.9847 - val_loss: 26.7479 - val_categorical_accuracy: 0.9724\n",
      "Epoch 32/100\n",
      "6/6 [==============================] - 0s 4ms/step - loss: 1.2531 - categorical_accuracy: 0.9882 - val_loss: 51.8502 - val_categorical_accuracy: 0.9606\n",
      "Epoch 33/100\n",
      "6/6 [==============================] - 0s 4ms/step - loss: 1.9047 - categorical_accuracy: 0.9864 - val_loss: 37.8235 - val_categorical_accuracy: 0.9646\n",
      "Epoch 34/100\n",
      "6/6 [==============================] - 0s 4ms/step - loss: 1.9765 - categorical_accuracy: 0.9829 - val_loss: 26.0746 - val_categorical_accuracy: 0.9685\n",
      "Epoch 35/100\n",
      "6/6 [==============================] - 0s 4ms/step - loss: 0.5363 - categorical_accuracy: 0.9952 - val_loss: 48.3081 - val_categorical_accuracy: 0.9646\n",
      "Epoch 36/100\n",
      "6/6 [==============================] - 0s 4ms/step - loss: 1.1050 - categorical_accuracy: 0.9886 - val_loss: 28.6718 - val_categorical_accuracy: 0.9764\n",
      "Epoch 37/100\n",
      "6/6 [==============================] - 0s 4ms/step - loss: 0.9229 - categorical_accuracy: 0.9924 - val_loss: 21.4069 - val_categorical_accuracy: 0.9646\n",
      "Epoch 38/100\n",
      "6/6 [==============================] - 0s 4ms/step - loss: 0.3100 - categorical_accuracy: 0.9954 - val_loss: 32.7704 - val_categorical_accuracy: 0.9724\n",
      "Epoch 39/100\n",
      "6/6 [==============================] - 0s 4ms/step - loss: 0.4010 - categorical_accuracy: 0.9960 - val_loss: 35.1346 - val_categorical_accuracy: 0.9646\n",
      "Epoch 40/100\n",
      "6/6 [==============================] - 0s 4ms/step - loss: 0.5207 - categorical_accuracy: 0.9940 - val_loss: 24.8510 - val_categorical_accuracy: 0.9724\n",
      "Epoch 41/100\n",
      "6/6 [==============================] - 0s 4ms/step - loss: 0.7886 - categorical_accuracy: 0.9920 - val_loss: 26.6191 - val_categorical_accuracy: 0.9724\n",
      "Epoch 42/100\n",
      "6/6 [==============================] - 0s 4ms/step - loss: 1.2098 - categorical_accuracy: 0.9890 - val_loss: 40.9867 - val_categorical_accuracy: 0.9685\n",
      "Epoch 43/100\n",
      "6/6 [==============================] - 0s 4ms/step - loss: 1.1351 - categorical_accuracy: 0.9893 - val_loss: 34.1162 - val_categorical_accuracy: 0.9685\n",
      "Epoch 44/100\n"
     ]
    },
    {
     "name": "stdout",
     "output_type": "stream",
     "text": [
      "6/6 [==============================] - 0s 4ms/step - loss: 1.1604 - categorical_accuracy: 0.9914 - val_loss: 74.1664 - val_categorical_accuracy: 0.9646\n",
      "Epoch 45/100\n",
      "6/6 [==============================] - 0s 4ms/step - loss: 1.1650 - categorical_accuracy: 0.9923 - val_loss: 56.0893 - val_categorical_accuracy: 0.9685\n",
      "Epoch 46/100\n",
      "6/6 [==============================] - 0s 4ms/step - loss: 1.4157 - categorical_accuracy: 0.9907 - val_loss: 34.0656 - val_categorical_accuracy: 0.9724\n",
      "Epoch 47/100\n",
      "6/6 [==============================] - 0s 4ms/step - loss: 2.4603 - categorical_accuracy: 0.9860 - val_loss: 38.5552 - val_categorical_accuracy: 0.9764\n",
      "Epoch 48/100\n",
      "6/6 [==============================] - 0s 3ms/step - loss: 0.6484 - categorical_accuracy: 0.9914 - val_loss: 47.1125 - val_categorical_accuracy: 0.9646\n",
      "Epoch 49/100\n",
      "6/6 [==============================] - 0s 4ms/step - loss: 0.5055 - categorical_accuracy: 0.9935 - val_loss: 37.6211 - val_categorical_accuracy: 0.9724\n",
      "Epoch 50/100\n",
      "6/6 [==============================] - 0s 4ms/step - loss: 1.0705 - categorical_accuracy: 0.9890 - val_loss: 48.5436 - val_categorical_accuracy: 0.9724\n",
      "Epoch 51/100\n",
      "6/6 [==============================] - 0s 3ms/step - loss: 0.6072 - categorical_accuracy: 0.9941 - val_loss: 41.7352 - val_categorical_accuracy: 0.9724\n",
      "Epoch 52/100\n",
      "6/6 [==============================] - 0s 4ms/step - loss: 0.2384 - categorical_accuracy: 0.9973 - val_loss: 35.6553 - val_categorical_accuracy: 0.9724\n",
      "Epoch 53/100\n",
      "6/6 [==============================] - 0s 4ms/step - loss: 1.0984 - categorical_accuracy: 0.9921 - val_loss: 31.4078 - val_categorical_accuracy: 0.9724\n",
      "Epoch 54/100\n",
      "6/6 [==============================] - 0s 4ms/step - loss: 0.3324 - categorical_accuracy: 0.9940 - val_loss: 32.6826 - val_categorical_accuracy: 0.9685\n",
      "Epoch 55/100\n",
      "6/6 [==============================] - 0s 4ms/step - loss: 0.7353 - categorical_accuracy: 0.9888 - val_loss: 33.8890 - val_categorical_accuracy: 0.9724\n",
      "Epoch 56/100\n",
      "6/6 [==============================] - 0s 4ms/step - loss: 1.2496 - categorical_accuracy: 0.9928 - val_loss: 51.7405 - val_categorical_accuracy: 0.9646\n",
      "Epoch 57/100\n",
      "6/6 [==============================] - 0s 4ms/step - loss: 0.8087 - categorical_accuracy: 0.9927 - val_loss: 43.5504 - val_categorical_accuracy: 0.9724\n",
      "Epoch 58/100\n",
      "6/6 [==============================] - 0s 4ms/step - loss: 0.5420 - categorical_accuracy: 0.9910 - val_loss: 39.6751 - val_categorical_accuracy: 0.9724\n",
      "Epoch 59/100\n",
      "6/6 [==============================] - 0s 4ms/step - loss: 0.4044 - categorical_accuracy: 0.9948 - val_loss: 43.4711 - val_categorical_accuracy: 0.9685\n",
      "Epoch 60/100\n",
      "6/6 [==============================] - 0s 4ms/step - loss: 0.3892 - categorical_accuracy: 0.9947 - val_loss: 55.0714 - val_categorical_accuracy: 0.9685\n",
      "Epoch 61/100\n",
      "6/6 [==============================] - 0s 4ms/step - loss: 1.1451 - categorical_accuracy: 0.9937 - val_loss: 30.9084 - val_categorical_accuracy: 0.9764\n",
      "Epoch 62/100\n",
      "6/6 [==============================] - 0s 4ms/step - loss: 1.5754 - categorical_accuracy: 0.9893 - val_loss: 39.3527 - val_categorical_accuracy: 0.9685\n",
      "Epoch 63/100\n",
      "6/6 [==============================] - 0s 4ms/step - loss: 0.4648 - categorical_accuracy: 0.9968 - val_loss: 48.8989 - val_categorical_accuracy: 0.9685\n",
      "Epoch 64/100\n",
      "6/6 [==============================] - 0s 4ms/step - loss: 0.0618 - categorical_accuracy: 0.9976 - val_loss: 60.3292 - val_categorical_accuracy: 0.9606\n",
      "Epoch 65/100\n",
      "6/6 [==============================] - 0s 4ms/step - loss: 0.2775 - categorical_accuracy: 0.9967 - val_loss: 35.7062 - val_categorical_accuracy: 0.9685\n",
      "Epoch 66/100\n",
      "6/6 [==============================] - 0s 3ms/step - loss: 0.1904 - categorical_accuracy: 0.9961 - val_loss: 58.7788 - val_categorical_accuracy: 0.9685\n",
      "Epoch 67/100\n",
      "6/6 [==============================] - 0s 4ms/step - loss: 0.1220 - categorical_accuracy: 0.9974 - val_loss: 34.7931 - val_categorical_accuracy: 0.9724\n",
      "Epoch 68/100\n",
      "6/6 [==============================] - 0s 4ms/step - loss: 0.5910 - categorical_accuracy: 0.9954 - val_loss: 65.9306 - val_categorical_accuracy: 0.9606\n",
      "Epoch 69/100\n",
      "6/6 [==============================] - 0s 4ms/step - loss: 0.2650 - categorical_accuracy: 0.9952 - val_loss: 80.3138 - val_categorical_accuracy: 0.9606\n",
      "Epoch 70/100\n",
      "6/6 [==============================] - 0s 3ms/step - loss: 1.0390 - categorical_accuracy: 0.9909 - val_loss: 46.8092 - val_categorical_accuracy: 0.9764\n",
      "Epoch 71/100\n",
      "6/6 [==============================] - 0s 4ms/step - loss: 0.0978 - categorical_accuracy: 0.9965 - val_loss: 64.1552 - val_categorical_accuracy: 0.9646\n",
      "Epoch 72/100\n",
      "6/6 [==============================] - 0s 4ms/step - loss: 0.2708 - categorical_accuracy: 0.9950 - val_loss: 52.2776 - val_categorical_accuracy: 0.9724\n",
      "Epoch 73/100\n",
      "6/6 [==============================] - 0s 4ms/step - loss: 0.0955 - categorical_accuracy: 0.9992 - val_loss: 45.5284 - val_categorical_accuracy: 0.9685\n",
      "Epoch 74/100\n",
      "6/6 [==============================] - 0s 3ms/step - loss: 0.8165 - categorical_accuracy: 0.9888 - val_loss: 56.5068 - val_categorical_accuracy: 0.9646\n",
      "Epoch 75/100\n",
      "6/6 [==============================] - 0s 3ms/step - loss: 0.1136 - categorical_accuracy: 0.9986 - val_loss: 80.0285 - val_categorical_accuracy: 0.9646\n",
      "Epoch 76/100\n",
      "6/6 [==============================] - 0s 3ms/step - loss: 0.3353 - categorical_accuracy: 0.9962 - val_loss: 52.7942 - val_categorical_accuracy: 0.9646\n",
      "Epoch 77/100\n",
      "6/6 [==============================] - 0s 4ms/step - loss: 0.5109 - categorical_accuracy: 0.9958 - val_loss: 36.1422 - val_categorical_accuracy: 0.9764\n",
      "Epoch 78/100\n",
      "6/6 [==============================] - 0s 4ms/step - loss: 0.5307 - categorical_accuracy: 0.9935 - val_loss: 83.8554 - val_categorical_accuracy: 0.9606\n",
      "Epoch 79/100\n",
      "6/6 [==============================] - 0s 4ms/step - loss: 0.0899 - categorical_accuracy: 0.9966 - val_loss: 22.1484 - val_categorical_accuracy: 0.9764\n",
      "Epoch 80/100\n",
      "6/6 [==============================] - 0s 4ms/step - loss: 0.2362 - categorical_accuracy: 0.9964 - val_loss: 54.0166 - val_categorical_accuracy: 0.9685\n",
      "Epoch 81/100\n",
      "6/6 [==============================] - 0s 3ms/step - loss: 0.4278 - categorical_accuracy: 0.9952 - val_loss: 76.9456 - val_categorical_accuracy: 0.9685\n",
      "Epoch 82/100\n",
      "6/6 [==============================] - 0s 4ms/step - loss: 0.2754 - categorical_accuracy: 0.9970 - val_loss: 58.2278 - val_categorical_accuracy: 0.9724\n",
      "Epoch 83/100\n",
      "6/6 [==============================] - 0s 4ms/step - loss: 0.0032 - categorical_accuracy: 0.9988 - val_loss: 78.1780 - val_categorical_accuracy: 0.9606\n",
      "Epoch 84/100\n",
      "6/6 [==============================] - 0s 4ms/step - loss: 0.2926 - categorical_accuracy: 0.9952 - val_loss: 100.8829 - val_categorical_accuracy: 0.9606\n",
      "Epoch 85/100\n",
      "6/6 [==============================] - 0s 4ms/step - loss: 0.1084 - categorical_accuracy: 0.9988 - val_loss: 60.0448 - val_categorical_accuracy: 0.9724\n",
      "Epoch 86/100\n",
      "6/6 [==============================] - 0s 4ms/step - loss: 0.5012 - categorical_accuracy: 0.9965 - val_loss: 72.7686 - val_categorical_accuracy: 0.9646\n",
      "Epoch 87/100\n",
      "6/6 [==============================] - 0s 4ms/step - loss: 0.3205 - categorical_accuracy: 0.9960 - val_loss: 62.8512 - val_categorical_accuracy: 0.9685\n",
      "Epoch 88/100\n",
      "6/6 [==============================] - 0s 4ms/step - loss: 0.1802 - categorical_accuracy: 0.9962 - val_loss: 54.6922 - val_categorical_accuracy: 0.9685\n",
      "Epoch 89/100\n",
      "6/6 [==============================] - 0s 4ms/step - loss: 0.2721 - categorical_accuracy: 0.9967 - val_loss: 71.4412 - val_categorical_accuracy: 0.9685\n",
      "Epoch 90/100\n",
      "6/6 [==============================] - 0s 4ms/step - loss: 0.2256 - categorical_accuracy: 0.9982 - val_loss: 83.0757 - val_categorical_accuracy: 0.9646\n",
      "Epoch 91/100\n",
      "6/6 [==============================] - 0s 4ms/step - loss: 0.2635 - categorical_accuracy: 0.9992 - val_loss: 89.6569 - val_categorical_accuracy: 0.9606\n",
      "Epoch 92/100\n",
      "6/6 [==============================] - 0s 4ms/step - loss: 0.0424 - categorical_accuracy: 0.9978 - val_loss: 48.1475 - val_categorical_accuracy: 0.9724\n",
      "Epoch 93/100\n",
      "6/6 [==============================] - 0s 4ms/step - loss: 0.4506 - categorical_accuracy: 0.9946 - val_loss: 56.4332 - val_categorical_accuracy: 0.9724\n"
     ]
    },
    {
     "name": "stdout",
     "output_type": "stream",
     "text": [
      "Epoch 94/100\n",
      "6/6 [==============================] - 0s 4ms/step - loss: 0.4870 - categorical_accuracy: 0.9963 - val_loss: 47.2144 - val_categorical_accuracy: 0.9724\n",
      "Epoch 95/100\n",
      "6/6 [==============================] - 0s 4ms/step - loss: 0.0347 - categorical_accuracy: 0.9981 - val_loss: 51.1541 - val_categorical_accuracy: 0.9685\n",
      "Epoch 96/100\n",
      "6/6 [==============================] - 0s 4ms/step - loss: 0.3082 - categorical_accuracy: 0.9983 - val_loss: 51.3618 - val_categorical_accuracy: 0.9685\n",
      "Epoch 97/100\n",
      "6/6 [==============================] - 0s 4ms/step - loss: 0.1048 - categorical_accuracy: 0.9975 - val_loss: 48.2285 - val_categorical_accuracy: 0.9764\n",
      "Epoch 98/100\n",
      "6/6 [==============================] - 0s 4ms/step - loss: 0.1096 - categorical_accuracy: 0.9980 - val_loss: 72.7042 - val_categorical_accuracy: 0.9685\n",
      "Epoch 99/100\n",
      "6/6 [==============================] - 0s 4ms/step - loss: 0.8644 - categorical_accuracy: 0.9967 - val_loss: 67.7679 - val_categorical_accuracy: 0.9646\n",
      "Epoch 100/100\n",
      "6/6 [==============================] - 0s 4ms/step - loss: 0.0111 - categorical_accuracy: 0.9994 - val_loss: 58.3929 - val_categorical_accuracy: 0.9724\n"
     ]
    }
   ],
   "source": [
    "history = model.fit(x_train, y_train, batch_size=200, epochs=100, validation_split=0.3) "
   ]
  },
  {
   "cell_type": "code",
   "execution_count": 23,
   "id": "ae57928d",
   "metadata": {
    "ExecuteTime": {
     "end_time": "2021-11-23T06:58:10.279571Z",
     "start_time": "2021-11-23T06:58:10.211462Z"
    }
   },
   "outputs": [
    {
     "name": "stdout",
     "output_type": "stream",
     "text": [
      "14/14 [==============================] - 0s 561us/step - loss: 0.0000e+00 - categorical_accuracy: 1.0000\n",
      "loss (cross-entropy) : 0.0\n",
      "test accuracy : 1.0\n"
     ]
    }
   ],
   "source": [
    "result = model.evaluate(x_test, y_test)\n",
    "\n",
    "print('loss (cross-entropy) :', result[0])\n",
    "print('test accuracy :', result[1])"
   ]
  },
  {
   "cell_type": "code",
   "execution_count": 24,
   "id": "58a6a77e",
   "metadata": {
    "ExecuteTime": {
     "end_time": "2021-11-23T06:58:11.059506Z",
     "start_time": "2021-11-23T06:58:10.950683Z"
    }
   },
   "outputs": [
    {
     "data": {
      "image/png": "[encoded data removed]",
      "text/plain": [
       "<Figure size 432x288 with 1 Axes>"
      ]
     },
     "metadata": {
      "needs_background": "light"
     },
     "output_type": "display_data"
    }
   ],
   "source": [
    "acc = history.history['categorical_accuracy']\n",
    "val_acc = history.history['val_categorical_accuracy']\n",
    "\n",
    "x_len = np.arange(len(acc))\n",
    "\n",
    "plt.plot(x_len, acc, marker='.', c='blue', label=\"Train-set Acc.\")\n",
    "plt.plot(x_len, val_acc, marker='.', c='red', label=\"Validation-set Acc.\")\n",
    "\n",
    "plt.legend(loc='upper right')\n",
    "plt.grid()\n",
    "plt.xlabel('epoch')\n",
    "plt.ylabel('Accuracy')\n",
    "plt.show()"
   ]
  },
  {
   "cell_type": "markdown",
   "id": "19bffbed",
   "metadata": {},
   "source": [
    "### 모델 저장"
   ]
  },
  {
   "cell_type": "code",
   "execution_count": 27,
   "id": "526f7454",
   "metadata": {
    "ExecuteTime": {
     "end_time": "2021-11-23T06:59:55.111349Z",
     "start_time": "2021-11-23T06:59:55.083722Z"
    }
   },
   "outputs": [],
   "source": [
    "model.save('model/model_juran_ver2.0.h5')"
   ]
  },
  {
   "cell_type": "markdown",
   "id": "2c6e9d4a",
   "metadata": {},
   "source": [
    "### 새로운 데이터에 대한 예측"
   ]
  },
  {
   "cell_type": "code",
   "execution_count": 56,
   "id": "a6c96ffd",
   "metadata": {
    "ExecuteTime": {
     "end_time": "2021-11-23T07:04:31.593440Z",
     "start_time": "2021-11-23T07:04:31.533022Z"
    }
   },
   "outputs": [
    {
     "data": {
      "text/plain": [
       "array([[0., 1.]], dtype=float32)"
      ]
     },
     "execution_count": 56,
     "metadata": {},
     "output_type": "execute_result"
    }
   ],
   "source": [
    "model.predict([[120, 170, 170]])"
   ]
  },
  {
   "cell_type": "code",
   "execution_count": 61,
   "id": "d239fc06",
   "metadata": {
    "ExecuteTime": {
     "end_time": "2021-11-23T07:05:31.648611Z",
     "start_time": "2021-11-23T07:05:31.587360Z"
    }
   },
   "outputs": [
    {
     "data": {
      "text/plain": [
       "array([0.], dtype=float32)"
      ]
     },
     "execution_count": 61,
     "metadata": {},
     "output_type": "execute_result"
    }
   ],
   "source": [
    "model.predict([[120, 170, 170]])[:1, :1][0]"
   ]
  },
  {
   "cell_type": "code",
   "execution_count": 62,
   "id": "4716f48e",
   "metadata": {
    "ExecuteTime": {
     "end_time": "2021-11-23T07:05:41.683953Z",
     "start_time": "2021-11-23T07:05:41.620754Z"
    }
   },
   "outputs": [
    {
     "name": "stdout",
     "output_type": "stream",
     "text": [
      "none\n"
     ]
    }
   ],
   "source": [
    "if model.predict([[120, 170, 170]])[:1, :1][0] == 0:\n",
    "    print('none')"
   ]
  }
 ],
 "metadata": {
  "kernelspec": {
   "display_name": "Python 3 (ipykernel)",
   "language": "python",
   "name": "python3"
  },
  "language_info": {
   "codemirror_mode": {
    "name": "ipython",
    "version": 3
   },
   "file_extension": ".py",
   "mimetype": "text/x-python",
   "name": "python",
   "nbconvert_exporter": "python",
   "pygments_lexer": "ipython3",
   "version": "3.8.10"
  },
  "toc": {
   "base_numbering": 1,
   "nav_menu": {},
   "number_sections": true,
   "sideBar": true,
   "skip_h1_title": false,
   "title_cell": "Table of Contents",
   "title_sidebar": "Contents",
   "toc_cell": false,
   "toc_position": {},
   "toc_section_display": true,
   "toc_window_display": false
  }
 },
 "nbformat": 4,
 "nbformat_minor": 5
}
