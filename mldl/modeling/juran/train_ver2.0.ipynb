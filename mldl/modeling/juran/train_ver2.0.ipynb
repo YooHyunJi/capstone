{
 "cells": [
  {
   "cell_type": "markdown",
   "id": "062e57c7",
   "metadata": {},
   "source": [
    "## Train ver2.0\n",
    "\n",
    "@Juran 2021.11.28 최종 수정\n",
    "\n",
    "- create_data_ver2.0로 생성된 데이터셋 이용\n",
    "- 미디어파이프 7, 6, 5번(검지손가락) 랜드마크 각도 이용한 모델학습"
   ]
  },
  {
   "cell_type": "code",
   "execution_count": 1,
   "id": "88a33e6c",
   "metadata": {
    "ExecuteTime": {
     "end_time": "2021-11-28T07:45:39.549907Z",
     "start_time": "2021-11-28T07:45:39.118461Z"
    }
   },
   "outputs": [],
   "source": [
    "import pandas as pd\n",
    "import numpy as np\n",
    "import matplotlib.pyplot as plt"
   ]
  },
  {
   "cell_type": "code",
   "execution_count": null,
   "id": "f8dd4628",
   "metadata": {},
   "outputs": [],
   "source": [
    "# 1 -> click\n",
    "# 0 -> none"
   ]
  },
  {
   "cell_type": "markdown",
   "id": "10399827",
   "metadata": {},
   "source": [
    "### 데이터셋 로드"
   ]
  },
  {
   "cell_type": "code",
   "execution_count": 16,
   "id": "310a6ade",
   "metadata": {
    "ExecuteTime": {
     "end_time": "2021-11-28T07:46:09.362799Z",
     "start_time": "2021-11-28T07:46:09.348509Z"
    }
   },
   "outputs": [
    {
     "data": {
      "text/html": [
       "<div>\n",
       "<style scoped>\n",
       "    .dataframe tbody tr th:only-of-type {\n",
       "        vertical-align: middle;\n",
       "    }\n",
       "\n",
       "    .dataframe tbody tr th {\n",
       "        vertical-align: top;\n",
       "    }\n",
       "\n",
       "    .dataframe thead th {\n",
       "        text-align: right;\n",
       "    }\n",
       "</style>\n",
       "<table border=\"1\" class=\"dataframe\">\n",
       "  <thead>\n",
       "    <tr style=\"text-align: right;\">\n",
       "      <th></th>\n",
       "      <th>0</th>\n",
       "      <th>1</th>\n",
       "      <th>2</th>\n",
       "      <th>3</th>\n",
       "    </tr>\n",
       "  </thead>\n",
       "  <tbody>\n",
       "    <tr>\n",
       "      <th>0</th>\n",
       "      <td>22.598724</td>\n",
       "      <td>179.023686</td>\n",
       "      <td>163.249317</td>\n",
       "      <td>1</td>\n",
       "    </tr>\n",
       "    <tr>\n",
       "      <th>1</th>\n",
       "      <td>2.973941</td>\n",
       "      <td>179.892002</td>\n",
       "      <td>165.433054</td>\n",
       "      <td>1</td>\n",
       "    </tr>\n",
       "    <tr>\n",
       "      <th>2</th>\n",
       "      <td>147.763771</td>\n",
       "      <td>177.033637</td>\n",
       "      <td>165.819879</td>\n",
       "      <td>1</td>\n",
       "    </tr>\n",
       "    <tr>\n",
       "      <th>3</th>\n",
       "      <td>167.020688</td>\n",
       "      <td>177.214987</td>\n",
       "      <td>166.358002</td>\n",
       "      <td>1</td>\n",
       "    </tr>\n",
       "    <tr>\n",
       "      <th>4</th>\n",
       "      <td>154.102063</td>\n",
       "      <td>177.232321</td>\n",
       "      <td>165.434704</td>\n",
       "      <td>1</td>\n",
       "    </tr>\n",
       "  </tbody>\n",
       "</table>\n",
       "</div>"
      ],
      "text/plain": [
       "            0           1           2  3\n",
       "0   22.598724  179.023686  163.249317  1\n",
       "1    2.973941  179.892002  165.433054  1\n",
       "2  147.763771  177.033637  165.819879  1\n",
       "3  167.020688  177.214987  166.358002  1\n",
       "4  154.102063  177.232321  165.434704  1"
      ]
     },
     "execution_count": 16,
     "metadata": {},
     "output_type": "execute_result"
    }
   ],
   "source": [
    "df_click = pd.read_csv('dataset/dataset_click.csv')\n",
    "del df_click['Unnamed: 0']\n",
    "df_click.head()"
   ]
  },
  {
   "cell_type": "code",
   "execution_count": 17,
   "id": "7a84475a",
   "metadata": {
    "ExecuteTime": {
     "end_time": "2021-11-28T07:46:09.713339Z",
     "start_time": "2021-11-28T07:46:09.696601Z"
    }
   },
   "outputs": [
    {
     "data": {
      "text/html": [
       "<div>\n",
       "<style scoped>\n",
       "    .dataframe tbody tr th:only-of-type {\n",
       "        vertical-align: middle;\n",
       "    }\n",
       "\n",
       "    .dataframe tbody tr th {\n",
       "        vertical-align: top;\n",
       "    }\n",
       "\n",
       "    .dataframe thead th {\n",
       "        text-align: right;\n",
       "    }\n",
       "</style>\n",
       "<table border=\"1\" class=\"dataframe\">\n",
       "  <thead>\n",
       "    <tr style=\"text-align: right;\">\n",
       "      <th></th>\n",
       "      <th>0</th>\n",
       "      <th>1</th>\n",
       "      <th>2</th>\n",
       "      <th>3</th>\n",
       "    </tr>\n",
       "  </thead>\n",
       "  <tbody>\n",
       "    <tr>\n",
       "      <th>0</th>\n",
       "      <td>177.023114</td>\n",
       "      <td>176.338735</td>\n",
       "      <td>166.104406</td>\n",
       "      <td>0</td>\n",
       "    </tr>\n",
       "    <tr>\n",
       "      <th>1</th>\n",
       "      <td>177.680023</td>\n",
       "      <td>177.702565</td>\n",
       "      <td>167.582472</td>\n",
       "      <td>0</td>\n",
       "    </tr>\n",
       "    <tr>\n",
       "      <th>2</th>\n",
       "      <td>178.238596</td>\n",
       "      <td>177.121924</td>\n",
       "      <td>167.263819</td>\n",
       "      <td>0</td>\n",
       "    </tr>\n",
       "    <tr>\n",
       "      <th>3</th>\n",
       "      <td>178.061959</td>\n",
       "      <td>177.010129</td>\n",
       "      <td>167.606877</td>\n",
       "      <td>0</td>\n",
       "    </tr>\n",
       "    <tr>\n",
       "      <th>4</th>\n",
       "      <td>178.331293</td>\n",
       "      <td>176.677957</td>\n",
       "      <td>167.512249</td>\n",
       "      <td>0</td>\n",
       "    </tr>\n",
       "  </tbody>\n",
       "</table>\n",
       "</div>"
      ],
      "text/plain": [
       "            0           1           2  3\n",
       "0  177.023114  176.338735  166.104406  0\n",
       "1  177.680023  177.702565  167.582472  0\n",
       "2  178.238596  177.121924  167.263819  0\n",
       "3  178.061959  177.010129  167.606877  0\n",
       "4  178.331293  176.677957  167.512249  0"
      ]
     },
     "execution_count": 17,
     "metadata": {},
     "output_type": "execute_result"
    }
   ],
   "source": [
    "df_none = pd.read_csv('dataset/dataset_none.csv')\n",
    "del df_none['Unnamed: 0']\n",
    "df_none.head()"
   ]
  },
  {
   "cell_type": "markdown",
   "id": "8d9f152e",
   "metadata": {},
   "source": [
    "#### 데이터 확인 후 기준 각도 설정"
   ]
  },
  {
   "cell_type": "code",
   "execution_count": 18,
   "id": "c8171532",
   "metadata": {
    "ExecuteTime": {
     "end_time": "2021-11-28T07:46:10.317439Z",
     "start_time": "2021-11-28T07:46:10.309451Z"
    }
   },
   "outputs": [
    {
     "name": "stdout",
     "output_type": "stream",
     "text": [
      "--- click 90도 이하 각도 수 ---\n",
      "total:  1502\n",
      "7번 랜드마크 각도:  808\n",
      "6번 랜드마크 각도:  764\n",
      "6, 7번 랜드마크 각도:  175\n"
     ]
    }
   ],
   "source": [
    "print('--- click 90도 이하 각도 수 ---')\n",
    "print('total: ', len(df_click))\n",
    "print('7번 랜드마크 각도: ', len(df_click[df_click['0'] <= 120])) \n",
    "print('6번 랜드마크 각도: ', len(df_click[df_click['1'] <= 120])) \n",
    "print('6, 7번 랜드마크 각도: ', len(df_click[(df_click['1'] <= 120) & (df_click['0'] <= 120)])) "
   ]
  },
  {
   "cell_type": "code",
   "execution_count": 19,
   "id": "6af4f2eb",
   "metadata": {
    "ExecuteTime": {
     "end_time": "2021-11-28T07:46:11.299659Z",
     "start_time": "2021-11-28T07:46:11.293951Z"
    }
   },
   "outputs": [
    {
     "name": "stdout",
     "output_type": "stream",
     "text": [
      "--- none 90도 이하 각도 수 ---\n",
      "total:  1306\n",
      "7번 랜드마크 각도:  0\n",
      "6번 랜드마크 각도:  0\n"
     ]
    }
   ],
   "source": [
    "print('--- none 90도 이하 각도 수 ---')\n",
    "print('total: ', len(df_none))\n",
    "print('7번 랜드마크 각도: ', len(df_none[df_none['0'] <= 120])) # 90도 이하 데이터만 사용\n",
    "print('6번 랜드마크 각도: ', len(df_none[df_none['1'] <= 120])) # 90도 이하 데이터만 사용"
   ]
  },
  {
   "cell_type": "markdown",
   "id": "9dd63413",
   "metadata": {},
   "source": [
    "#### 7번 랜드마크 기준으로 사용"
   ]
  },
  {
   "cell_type": "code",
   "execution_count": 20,
   "id": "11e43bda",
   "metadata": {
    "ExecuteTime": {
     "end_time": "2021-11-28T07:46:11.573334Z",
     "start_time": "2021-11-28T07:46:11.559693Z"
    }
   },
   "outputs": [
    {
     "data": {
      "text/html": [
       "<div>\n",
       "<style scoped>\n",
       "    .dataframe tbody tr th:only-of-type {\n",
       "        vertical-align: middle;\n",
       "    }\n",
       "\n",
       "    .dataframe tbody tr th {\n",
       "        vertical-align: top;\n",
       "    }\n",
       "\n",
       "    .dataframe thead th {\n",
       "        text-align: right;\n",
       "    }\n",
       "</style>\n",
       "<table border=\"1\" class=\"dataframe\">\n",
       "  <thead>\n",
       "    <tr style=\"text-align: right;\">\n",
       "      <th></th>\n",
       "      <th>0</th>\n",
       "      <th>1</th>\n",
       "      <th>2</th>\n",
       "      <th>3</th>\n",
       "    </tr>\n",
       "  </thead>\n",
       "  <tbody>\n",
       "    <tr>\n",
       "      <th>0</th>\n",
       "      <td>22.598724</td>\n",
       "      <td>179.023686</td>\n",
       "      <td>163.249317</td>\n",
       "      <td>1</td>\n",
       "    </tr>\n",
       "    <tr>\n",
       "      <th>1</th>\n",
       "      <td>2.973941</td>\n",
       "      <td>179.892002</td>\n",
       "      <td>165.433054</td>\n",
       "      <td>1</td>\n",
       "    </tr>\n",
       "    <tr>\n",
       "      <th>25</th>\n",
       "      <td>101.145285</td>\n",
       "      <td>172.279699</td>\n",
       "      <td>164.064479</td>\n",
       "      <td>1</td>\n",
       "    </tr>\n",
       "    <tr>\n",
       "      <th>27</th>\n",
       "      <td>94.565581</td>\n",
       "      <td>174.935962</td>\n",
       "      <td>164.257273</td>\n",
       "      <td>1</td>\n",
       "    </tr>\n",
       "    <tr>\n",
       "      <th>28</th>\n",
       "      <td>34.138636</td>\n",
       "      <td>177.078378</td>\n",
       "      <td>163.886451</td>\n",
       "      <td>1</td>\n",
       "    </tr>\n",
       "  </tbody>\n",
       "</table>\n",
       "</div>"
      ],
      "text/plain": [
       "             0           1           2  3\n",
       "0    22.598724  179.023686  163.249317  1\n",
       "1     2.973941  179.892002  165.433054  1\n",
       "25  101.145285  172.279699  164.064479  1\n",
       "27   94.565581  174.935962  164.257273  1\n",
       "28   34.138636  177.078378  163.886451  1"
      ]
     },
     "execution_count": 20,
     "metadata": {},
     "output_type": "execute_result"
    }
   ],
   "source": [
    "df_click = df_click[df_click['0'] <= 120]\n",
    "df_click.head()"
   ]
  },
  {
   "cell_type": "code",
   "execution_count": 21,
   "id": "b3c1dc14",
   "metadata": {
    "ExecuteTime": {
     "end_time": "2021-11-28T07:46:11.805021Z",
     "start_time": "2021-11-28T07:46:11.792206Z"
    }
   },
   "outputs": [
    {
     "data": {
      "text/html": [
       "<div>\n",
       "<style scoped>\n",
       "    .dataframe tbody tr th:only-of-type {\n",
       "        vertical-align: middle;\n",
       "    }\n",
       "\n",
       "    .dataframe tbody tr th {\n",
       "        vertical-align: top;\n",
       "    }\n",
       "\n",
       "    .dataframe thead th {\n",
       "        text-align: right;\n",
       "    }\n",
       "</style>\n",
       "<table border=\"1\" class=\"dataframe\">\n",
       "  <thead>\n",
       "    <tr style=\"text-align: right;\">\n",
       "      <th></th>\n",
       "      <th>0</th>\n",
       "      <th>1</th>\n",
       "      <th>2</th>\n",
       "      <th>3</th>\n",
       "    </tr>\n",
       "  </thead>\n",
       "  <tbody>\n",
       "    <tr>\n",
       "      <th>0</th>\n",
       "      <td>22.598724</td>\n",
       "      <td>179.023686</td>\n",
       "      <td>163.249317</td>\n",
       "      <td>1</td>\n",
       "    </tr>\n",
       "    <tr>\n",
       "      <th>1</th>\n",
       "      <td>2.973941</td>\n",
       "      <td>179.892002</td>\n",
       "      <td>165.433054</td>\n",
       "      <td>1</td>\n",
       "    </tr>\n",
       "    <tr>\n",
       "      <th>25</th>\n",
       "      <td>101.145285</td>\n",
       "      <td>172.279699</td>\n",
       "      <td>164.064479</td>\n",
       "      <td>1</td>\n",
       "    </tr>\n",
       "    <tr>\n",
       "      <th>27</th>\n",
       "      <td>94.565581</td>\n",
       "      <td>174.935962</td>\n",
       "      <td>164.257273</td>\n",
       "      <td>1</td>\n",
       "    </tr>\n",
       "    <tr>\n",
       "      <th>28</th>\n",
       "      <td>34.138636</td>\n",
       "      <td>177.078378</td>\n",
       "      <td>163.886451</td>\n",
       "      <td>1</td>\n",
       "    </tr>\n",
       "  </tbody>\n",
       "</table>\n",
       "</div>"
      ],
      "text/plain": [
       "             0           1           2  3\n",
       "0    22.598724  179.023686  163.249317  1\n",
       "1     2.973941  179.892002  165.433054  1\n",
       "25  101.145285  172.279699  164.064479  1\n",
       "27   94.565581  174.935962  164.257273  1\n",
       "28   34.138636  177.078378  163.886451  1"
      ]
     },
     "execution_count": 21,
     "metadata": {},
     "output_type": "execute_result"
    }
   ],
   "source": [
    "df_data = pd.concat([df_click, df_none])\n",
    "df_data.head()"
   ]
  },
  {
   "cell_type": "code",
   "execution_count": 22,
   "id": "69fdf86b",
   "metadata": {
    "ExecuteTime": {
     "end_time": "2021-11-28T07:46:12.858069Z",
     "start_time": "2021-11-28T07:46:12.844647Z"
    }
   },
   "outputs": [
    {
     "data": {
      "text/html": [
       "<div>\n",
       "<style scoped>\n",
       "    .dataframe tbody tr th:only-of-type {\n",
       "        vertical-align: middle;\n",
       "    }\n",
       "\n",
       "    .dataframe tbody tr th {\n",
       "        vertical-align: top;\n",
       "    }\n",
       "\n",
       "    .dataframe thead th {\n",
       "        text-align: right;\n",
       "    }\n",
       "</style>\n",
       "<table border=\"1\" class=\"dataframe\">\n",
       "  <thead>\n",
       "    <tr style=\"text-align: right;\">\n",
       "      <th></th>\n",
       "      <th>0</th>\n",
       "      <th>1</th>\n",
       "      <th>2</th>\n",
       "      <th>3</th>\n",
       "    </tr>\n",
       "  </thead>\n",
       "  <tbody>\n",
       "    <tr>\n",
       "      <th>1301</th>\n",
       "      <td>176.423832</td>\n",
       "      <td>173.997588</td>\n",
       "      <td>171.909546</td>\n",
       "      <td>0</td>\n",
       "    </tr>\n",
       "    <tr>\n",
       "      <th>1302</th>\n",
       "      <td>176.408986</td>\n",
       "      <td>174.194977</td>\n",
       "      <td>171.699901</td>\n",
       "      <td>0</td>\n",
       "    </tr>\n",
       "    <tr>\n",
       "      <th>1303</th>\n",
       "      <td>176.588753</td>\n",
       "      <td>173.374272</td>\n",
       "      <td>172.118063</td>\n",
       "      <td>0</td>\n",
       "    </tr>\n",
       "    <tr>\n",
       "      <th>1304</th>\n",
       "      <td>176.571527</td>\n",
       "      <td>173.746418</td>\n",
       "      <td>172.134432</td>\n",
       "      <td>0</td>\n",
       "    </tr>\n",
       "    <tr>\n",
       "      <th>1305</th>\n",
       "      <td>176.515446</td>\n",
       "      <td>173.417380</td>\n",
       "      <td>172.506359</td>\n",
       "      <td>0</td>\n",
       "    </tr>\n",
       "  </tbody>\n",
       "</table>\n",
       "</div>"
      ],
      "text/plain": [
       "               0           1           2  3\n",
       "1301  176.423832  173.997588  171.909546  0\n",
       "1302  176.408986  174.194977  171.699901  0\n",
       "1303  176.588753  173.374272  172.118063  0\n",
       "1304  176.571527  173.746418  172.134432  0\n",
       "1305  176.515446  173.417380  172.506359  0"
      ]
     },
     "execution_count": 22,
     "metadata": {},
     "output_type": "execute_result"
    }
   ],
   "source": [
    "df_data.tail()"
   ]
  },
  {
   "cell_type": "code",
   "execution_count": 23,
   "id": "0fb1a635",
   "metadata": {
    "ExecuteTime": {
     "end_time": "2021-11-28T07:46:13.015143Z",
     "start_time": "2021-11-28T07:46:13.011617Z"
    }
   },
   "outputs": [],
   "source": [
    "df_data_copy = df_data.copy()"
   ]
  },
  {
   "cell_type": "code",
   "execution_count": 24,
   "id": "18cb6084",
   "metadata": {
    "ExecuteTime": {
     "end_time": "2021-11-28T07:46:13.172343Z",
     "start_time": "2021-11-28T07:46:13.162741Z"
    }
   },
   "outputs": [
    {
     "data": {
      "text/html": [
       "<div>\n",
       "<style scoped>\n",
       "    .dataframe tbody tr th:only-of-type {\n",
       "        vertical-align: middle;\n",
       "    }\n",
       "\n",
       "    .dataframe tbody tr th {\n",
       "        vertical-align: top;\n",
       "    }\n",
       "\n",
       "    .dataframe thead th {\n",
       "        text-align: right;\n",
       "    }\n",
       "</style>\n",
       "<table border=\"1\" class=\"dataframe\">\n",
       "  <thead>\n",
       "    <tr style=\"text-align: right;\">\n",
       "      <th></th>\n",
       "      <th>3</th>\n",
       "    </tr>\n",
       "  </thead>\n",
       "  <tbody>\n",
       "    <tr>\n",
       "      <th>0</th>\n",
       "      <td>1</td>\n",
       "    </tr>\n",
       "    <tr>\n",
       "      <th>1</th>\n",
       "      <td>1</td>\n",
       "    </tr>\n",
       "    <tr>\n",
       "      <th>25</th>\n",
       "      <td>1</td>\n",
       "    </tr>\n",
       "    <tr>\n",
       "      <th>27</th>\n",
       "      <td>1</td>\n",
       "    </tr>\n",
       "    <tr>\n",
       "      <th>28</th>\n",
       "      <td>1</td>\n",
       "    </tr>\n",
       "  </tbody>\n",
       "</table>\n",
       "</div>"
      ],
      "text/plain": [
       "    3\n",
       "0   1\n",
       "1   1\n",
       "25  1\n",
       "27  1\n",
       "28  1"
      ]
     },
     "execution_count": 24,
     "metadata": {},
     "output_type": "execute_result"
    }
   ],
   "source": [
    "df_data[['3']].head()"
   ]
  },
  {
   "cell_type": "markdown",
   "id": "88da2f20",
   "metadata": {},
   "source": [
    "#### x데이터와 y데이터 분리"
   ]
  },
  {
   "cell_type": "code",
   "execution_count": 25,
   "id": "7007f446",
   "metadata": {
    "ExecuteTime": {
     "end_time": "2021-11-28T07:46:14.487260Z",
     "start_time": "2021-11-28T07:46:14.483074Z"
    }
   },
   "outputs": [],
   "source": [
    "df_target = df_data[['3']]\n",
    "df_data = df_data[['0', '1', '2']]"
   ]
  },
  {
   "cell_type": "code",
   "execution_count": 26,
   "id": "3fc3cd1a",
   "metadata": {
    "ExecuteTime": {
     "end_time": "2021-11-28T07:46:14.860787Z",
     "start_time": "2021-11-28T07:46:14.851595Z"
    }
   },
   "outputs": [
    {
     "data": {
      "text/html": [
       "<div>\n",
       "<style scoped>\n",
       "    .dataframe tbody tr th:only-of-type {\n",
       "        vertical-align: middle;\n",
       "    }\n",
       "\n",
       "    .dataframe tbody tr th {\n",
       "        vertical-align: top;\n",
       "    }\n",
       "\n",
       "    .dataframe thead th {\n",
       "        text-align: right;\n",
       "    }\n",
       "</style>\n",
       "<table border=\"1\" class=\"dataframe\">\n",
       "  <thead>\n",
       "    <tr style=\"text-align: right;\">\n",
       "      <th></th>\n",
       "      <th>3</th>\n",
       "    </tr>\n",
       "  </thead>\n",
       "  <tbody>\n",
       "    <tr>\n",
       "      <th>0</th>\n",
       "      <td>1</td>\n",
       "    </tr>\n",
       "    <tr>\n",
       "      <th>1</th>\n",
       "      <td>1</td>\n",
       "    </tr>\n",
       "    <tr>\n",
       "      <th>25</th>\n",
       "      <td>1</td>\n",
       "    </tr>\n",
       "    <tr>\n",
       "      <th>27</th>\n",
       "      <td>1</td>\n",
       "    </tr>\n",
       "    <tr>\n",
       "      <th>28</th>\n",
       "      <td>1</td>\n",
       "    </tr>\n",
       "  </tbody>\n",
       "</table>\n",
       "</div>"
      ],
      "text/plain": [
       "    3\n",
       "0   1\n",
       "1   1\n",
       "25  1\n",
       "27  1\n",
       "28  1"
      ]
     },
     "execution_count": 26,
     "metadata": {},
     "output_type": "execute_result"
    }
   ],
   "source": [
    "df_target.head()"
   ]
  },
  {
   "cell_type": "markdown",
   "id": "7401e57d",
   "metadata": {},
   "source": [
    "### 모델 학습"
   ]
  },
  {
   "cell_type": "markdown",
   "id": "526d7b4d",
   "metadata": {},
   "source": [
    "#### train / test split"
   ]
  },
  {
   "cell_type": "code",
   "execution_count": 27,
   "id": "b0ac3f5d",
   "metadata": {
    "ExecuteTime": {
     "end_time": "2021-11-28T07:46:18.859846Z",
     "start_time": "2021-11-28T07:46:18.854234Z"
    }
   },
   "outputs": [],
   "source": [
    "from sklearn import model_selection\n",
    "x_train, x_test, y_train, y_test = model_selection.train_test_split(df_data, df_target, test_size=0.2,random_state=0)"
   ]
  },
  {
   "cell_type": "code",
   "execution_count": 28,
   "id": "da6d8a25",
   "metadata": {
    "ExecuteTime": {
     "end_time": "2021-11-28T07:46:19.180175Z",
     "start_time": "2021-11-28T07:46:19.176820Z"
    }
   },
   "outputs": [
    {
     "name": "stdout",
     "output_type": "stream",
     "text": [
      "(1691, 3)\n",
      "(1691, 1)\n",
      "(423, 3)\n",
      "(423, 1)\n"
     ]
    }
   ],
   "source": [
    "print(x_train.shape)\n",
    "print(y_train.shape)\n",
    "print(x_test.shape)\n",
    "print(y_test.shape)"
   ]
  },
  {
   "cell_type": "markdown",
   "id": "7ff602ae",
   "metadata": {},
   "source": [
    "#### one-hot encoding"
   ]
  },
  {
   "cell_type": "code",
   "execution_count": 30,
   "id": "ff77843b",
   "metadata": {
    "ExecuteTime": {
     "end_time": "2021-11-28T07:46:27.231336Z",
     "start_time": "2021-11-28T07:46:27.222851Z"
    }
   },
   "outputs": [
    {
     "data": {
      "text/html": [
       "<div>\n",
       "<style scoped>\n",
       "    .dataframe tbody tr th:only-of-type {\n",
       "        vertical-align: middle;\n",
       "    }\n",
       "\n",
       "    .dataframe tbody tr th {\n",
       "        vertical-align: top;\n",
       "    }\n",
       "\n",
       "    .dataframe thead th {\n",
       "        text-align: right;\n",
       "    }\n",
       "</style>\n",
       "<table border=\"1\" class=\"dataframe\">\n",
       "  <thead>\n",
       "    <tr style=\"text-align: right;\">\n",
       "      <th></th>\n",
       "      <th>3</th>\n",
       "    </tr>\n",
       "  </thead>\n",
       "  <tbody>\n",
       "    <tr>\n",
       "      <th>818</th>\n",
       "      <td>0</td>\n",
       "    </tr>\n",
       "    <tr>\n",
       "      <th>935</th>\n",
       "      <td>1</td>\n",
       "    </tr>\n",
       "    <tr>\n",
       "      <th>775</th>\n",
       "      <td>0</td>\n",
       "    </tr>\n",
       "    <tr>\n",
       "      <th>822</th>\n",
       "      <td>0</td>\n",
       "    </tr>\n",
       "    <tr>\n",
       "      <th>583</th>\n",
       "      <td>0</td>\n",
       "    </tr>\n",
       "  </tbody>\n",
       "</table>\n",
       "</div>"
      ],
      "text/plain": [
       "     3\n",
       "818  0\n",
       "935  1\n",
       "775  0\n",
       "822  0\n",
       "583  0"
      ]
     },
     "execution_count": 30,
     "metadata": {},
     "output_type": "execute_result"
    }
   ],
   "source": [
    "y_train.head()"
   ]
  },
  {
   "cell_type": "code",
   "execution_count": 31,
   "id": "4ad190a4",
   "metadata": {
    "ExecuteTime": {
     "end_time": "2021-11-28T07:46:28.237160Z",
     "start_time": "2021-11-28T07:46:28.230335Z"
    }
   },
   "outputs": [
    {
     "name": "stdout",
     "output_type": "stream",
     "text": [
      "(1691, 2)\n",
      "(423, 2)\n"
     ]
    }
   ],
   "source": [
    "from sklearn import preprocessing\n",
    "\n",
    "# Apply 'One-hot encoding' on labels\n",
    "enc = preprocessing.OneHotEncoder(categories='auto')\n",
    "\n",
    "y_train = enc.fit_transform(y_train).toarray()\n",
    "y_test = enc.fit_transform(y_test).toarray()\n",
    "\n",
    "print(y_train.shape)\n",
    "print(y_test.shape)"
   ]
  },
  {
   "cell_type": "code",
   "execution_count": 33,
   "id": "0f5b0fed",
   "metadata": {
    "ExecuteTime": {
     "end_time": "2021-11-28T07:46:33.054363Z",
     "start_time": "2021-11-28T07:46:33.049237Z"
    }
   },
   "outputs": [
    {
     "data": {
      "text/plain": [
       "array([[1., 0.],\n",
       "       [0., 1.],\n",
       "       [1., 0.],\n",
       "       [1., 0.],\n",
       "       [1., 0.]])"
      ]
     },
     "execution_count": 33,
     "metadata": {},
     "output_type": "execute_result"
    }
   ],
   "source": [
    "y_train[:5]\n",
    "\n",
    "# 0 -> [1, 0] -> none\n",
    "# 1 -> [0, 1] -> clickss"
   ]
  },
  {
   "cell_type": "code",
   "execution_count": 31,
   "id": "ab2beeb3",
   "metadata": {
    "ExecuteTime": {
     "end_time": "2021-11-28T05:51:41.131572Z",
     "start_time": "2021-11-28T05:51:41.129293Z"
    }
   },
   "outputs": [],
   "source": [
    "# # -> one-hot vector\n",
    "# from tensorflow.keras import utils\n",
    "# y_train = utils.to_categorical(x_train) # 0 or 1 -> one-hot vector\n",
    "# y_test = utils.to_categorical(x_test) # 0 or 1 -> one-hot vector"
   ]
  },
  {
   "cell_type": "markdown",
   "id": "019df554",
   "metadata": {},
   "source": [
    "#### 모델학습"
   ]
  },
  {
   "cell_type": "code",
   "execution_count": 32,
   "id": "947f2097",
   "metadata": {
    "ExecuteTime": {
     "end_time": "2021-11-28T05:51:43.622098Z",
     "start_time": "2021-11-28T05:51:41.885519Z"
    }
   },
   "outputs": [],
   "source": [
    "import tensorflow as tf\n",
    "\n",
    "from tensorflow.keras import datasets, utils\n",
    "from tensorflow.keras import models, layers, activations, initializers, losses, optimizers, metrics"
   ]
  },
  {
   "cell_type": "code",
   "execution_count": 33,
   "id": "abf5b880",
   "metadata": {
    "ExecuteTime": {
     "end_time": "2021-11-28T05:51:43.701852Z",
     "start_time": "2021-11-28T05:51:43.623079Z"
    }
   },
   "outputs": [],
   "source": [
    "model = models.Sequential()\n",
    "\n",
    "model.add(layers.Dense(input_dim=3, units=64, activation=None, kernel_initializer=initializers.he_uniform())) # he-uniform initialization\n",
    "\n",
    "# model.add(layers.BatchNormalization()) # Use this line as if needed\n",
    "\n",
    "model.add(layers.Activation('elu')) # elu, relu / layers.ELU, layers.LeakyReLU\n",
    "\n",
    "model.add(layers.Dense(units=32, activation=None, kernel_initializer=initializers.he_uniform())) \n",
    "model.add(layers.Activation('elu')) \n",
    "\n",
    "model.add(layers.Dense(units=32, activation=None, kernel_initializer=initializers.he_uniform())) \n",
    "model.add(layers.Activation('elu'))\n",
    "\n",
    "# 마지막 hidden layer droup out\n",
    "model.add(layers.Dropout(rate=0.5))\n",
    "\n",
    "model.add(layers.Dense(units=2, activation='softmax')) # Apply softmax function on model's output"
   ]
  },
  {
   "cell_type": "code",
   "execution_count": 34,
   "id": "0df627ab",
   "metadata": {
    "ExecuteTime": {
     "end_time": "2021-11-28T05:51:43.707434Z",
     "start_time": "2021-11-28T05:51:43.702444Z"
    }
   },
   "outputs": [],
   "source": [
    "model.compile(optimizer=optimizers.Adam(),\n",
    "              loss=losses.categorical_crossentropy, \n",
    "              metrics=[metrics.categorical_accuracy])"
   ]
  },
  {
   "cell_type": "code",
   "execution_count": 35,
   "id": "eeb2df2c",
   "metadata": {
    "ExecuteTime": {
     "end_time": "2021-11-28T05:51:46.134902Z",
     "start_time": "2021-11-28T05:51:43.708436Z"
    }
   },
   "outputs": [
    {
     "name": "stdout",
     "output_type": "stream",
     "text": [
      "Epoch 1/100\n",
      "WARNING:tensorflow:AutoGraph could not transform <function Model.make_train_function.<locals>.train_function at 0x17b87cee0> and will run it as-is.\n",
      "Please report this to the TensorFlow team. When filing the bug, set the verbosity to 10 (on Linux, `export AUTOGRAPH_VERBOSITY=10`) and attach the full output.\n",
      "Cause: unsupported operand type(s) for -: 'NoneType' and 'int'\n",
      "To silence this warning, decorate the function with @tf.autograph.experimental.do_not_convert\n",
      "WARNING: AutoGraph could not transform <function Model.make_train_function.<locals>.train_function at 0x17b87cee0> and will run it as-is.\n",
      "Please report this to the TensorFlow team. When filing the bug, set the verbosity to 10 (on Linux, `export AUTOGRAPH_VERBOSITY=10`) and attach the full output.\n",
      "Cause: unsupported operand type(s) for -: 'NoneType' and 'int'\n",
      "To silence this warning, decorate the function with @tf.autograph.experimental.do_not_convert\n"
     ]
    },
    {
     "name": "stderr",
     "output_type": "stream",
     "text": [
      "2021-11-28 14:51:43.731378: I tensorflow/compiler/mlir/mlir_graph_optimization_pass.cc:116] None of the MLIR optimization passes are enabled (registered 2)\n",
      "2021-11-28 14:51:43.731666: W tensorflow/core/platform/profile_utils/cpu_utils.cc:126] Failed to get CPU frequency: 0 Hz\n"
     ]
    },
    {
     "name": "stdout",
     "output_type": "stream",
     "text": [
      "1/6 [====>.........................] - ETA: 1s - loss: 41.9992 - categorical_accuracy: 0.6400WARNING:tensorflow:AutoGraph could not transform <function Model.make_test_function.<locals>.test_function at 0x2951af700> and will run it as-is.\n",
      "Please report this to the TensorFlow team. When filing the bug, set the verbosity to 10 (on Linux, `export AUTOGRAPH_VERBOSITY=10`) and attach the full output.\n",
      "Cause: unsupported operand type(s) for -: 'NoneType' and 'int'\n",
      "To silence this warning, decorate the function with @tf.autograph.experimental.do_not_convert\n",
      "WARNING: AutoGraph could not transform <function Model.make_test_function.<locals>.test_function at 0x2951af700> and will run it as-is.\n",
      "Please report this to the TensorFlow team. When filing the bug, set the verbosity to 10 (on Linux, `export AUTOGRAPH_VERBOSITY=10`) and attach the full output.\n",
      "Cause: unsupported operand type(s) for -: 'NoneType' and 'int'\n",
      "To silence this warning, decorate the function with @tf.autograph.experimental.do_not_convert\n",
      "6/6 [==============================] - 0s 47ms/step - loss: 39.6132 - categorical_accuracy: 0.6601 - val_loss: 6.6339 - val_categorical_accuracy: 0.8917\n",
      "Epoch 2/100\n",
      "6/6 [==============================] - 0s 4ms/step - loss: 25.8450 - categorical_accuracy: 0.7171 - val_loss: 6.7684 - val_categorical_accuracy: 0.9055\n",
      "Epoch 3/100\n",
      "6/6 [==============================] - 0s 4ms/step - loss: 19.4053 - categorical_accuracy: 0.7634 - val_loss: 7.6198 - val_categorical_accuracy: 0.8937\n",
      "Epoch 4/100\n",
      "6/6 [==============================] - 0s 4ms/step - loss: 18.1079 - categorical_accuracy: 0.8224 - val_loss: 11.8972 - val_categorical_accuracy: 0.8917\n",
      "Epoch 5/100\n",
      "6/6 [==============================] - 0s 4ms/step - loss: 11.5994 - categorical_accuracy: 0.8657 - val_loss: 9.0603 - val_categorical_accuracy: 0.9134\n",
      "Epoch 6/100\n",
      "6/6 [==============================] - 0s 4ms/step - loss: 9.7457 - categorical_accuracy: 0.8786 - val_loss: 7.1632 - val_categorical_accuracy: 0.9508\n",
      "Epoch 7/100\n",
      "6/6 [==============================] - 0s 4ms/step - loss: 8.0345 - categorical_accuracy: 0.8983 - val_loss: 9.0246 - val_categorical_accuracy: 0.9488\n",
      "Epoch 8/100\n",
      "6/6 [==============================] - 0s 4ms/step - loss: 3.6837 - categorical_accuracy: 0.9485 - val_loss: 8.5592 - val_categorical_accuracy: 0.9665\n",
      "Epoch 9/100\n",
      "6/6 [==============================] - 0s 4ms/step - loss: 3.5835 - categorical_accuracy: 0.9502 - val_loss: 11.6465 - val_categorical_accuracy: 0.9685\n",
      "Epoch 10/100\n",
      "6/6 [==============================] - 0s 4ms/step - loss: 2.9160 - categorical_accuracy: 0.9586 - val_loss: 8.1909 - val_categorical_accuracy: 0.9724\n",
      "Epoch 11/100\n",
      "6/6 [==============================] - 0s 4ms/step - loss: 1.9033 - categorical_accuracy: 0.9678 - val_loss: 6.8474 - val_categorical_accuracy: 0.9685\n",
      "Epoch 12/100\n",
      "6/6 [==============================] - 0s 4ms/step - loss: 1.9917 - categorical_accuracy: 0.9682 - val_loss: 7.9011 - val_categorical_accuracy: 0.9764\n",
      "Epoch 13/100\n",
      "6/6 [==============================] - 0s 4ms/step - loss: 1.1201 - categorical_accuracy: 0.9772 - val_loss: 11.3874 - val_categorical_accuracy: 0.9724\n",
      "Epoch 14/100\n",
      "6/6 [==============================] - 0s 4ms/step - loss: 1.4297 - categorical_accuracy: 0.9769 - val_loss: 13.7568 - val_categorical_accuracy: 0.9685\n",
      "Epoch 15/100\n",
      "6/6 [==============================] - 0s 4ms/step - loss: 0.6848 - categorical_accuracy: 0.9888 - val_loss: 9.3800 - val_categorical_accuracy: 0.9724\n",
      "Epoch 16/100\n",
      "6/6 [==============================] - 0s 4ms/step - loss: 0.7073 - categorical_accuracy: 0.9850 - val_loss: 13.7463 - val_categorical_accuracy: 0.9685\n",
      "Epoch 17/100\n",
      "6/6 [==============================] - 0s 4ms/step - loss: 0.3723 - categorical_accuracy: 0.9890 - val_loss: 17.2820 - val_categorical_accuracy: 0.9606\n",
      "Epoch 18/100\n",
      "6/6 [==============================] - 0s 4ms/step - loss: 0.8509 - categorical_accuracy: 0.9849 - val_loss: 14.0451 - val_categorical_accuracy: 0.9646\n",
      "Epoch 19/100\n",
      "6/6 [==============================] - 0s 4ms/step - loss: 0.3373 - categorical_accuracy: 0.9901 - val_loss: 20.6760 - val_categorical_accuracy: 0.9606\n",
      "Epoch 20/100\n",
      "6/6 [==============================] - 0s 4ms/step - loss: 0.4809 - categorical_accuracy: 0.9899 - val_loss: 15.3122 - val_categorical_accuracy: 0.9646\n",
      "Epoch 21/100\n",
      "6/6 [==============================] - 0s 4ms/step - loss: 0.7992 - categorical_accuracy: 0.9895 - val_loss: 20.5935 - val_categorical_accuracy: 0.9646\n",
      "Epoch 22/100\n",
      "6/6 [==============================] - 0s 4ms/step - loss: 0.6435 - categorical_accuracy: 0.9857 - val_loss: 17.5699 - val_categorical_accuracy: 0.9685\n",
      "Epoch 23/100\n",
      "6/6 [==============================] - 0s 4ms/step - loss: 0.9184 - categorical_accuracy: 0.9868 - val_loss: 21.3770 - val_categorical_accuracy: 0.9646\n",
      "Epoch 24/100\n",
      "6/6 [==============================] - 0s 4ms/step - loss: 0.7142 - categorical_accuracy: 0.9882 - val_loss: 13.2262 - val_categorical_accuracy: 0.9724\n",
      "Epoch 25/100\n",
      "6/6 [==============================] - 0s 4ms/step - loss: 0.3906 - categorical_accuracy: 0.9912 - val_loss: 16.7716 - val_categorical_accuracy: 0.9646\n",
      "Epoch 26/100\n",
      "6/6 [==============================] - 0s 4ms/step - loss: 0.4422 - categorical_accuracy: 0.9923 - val_loss: 18.4503 - val_categorical_accuracy: 0.9685\n",
      "Epoch 27/100\n",
      "6/6 [==============================] - 0s 4ms/step - loss: 0.0785 - categorical_accuracy: 0.9969 - val_loss: 17.0722 - val_categorical_accuracy: 0.9724\n",
      "Epoch 28/100\n",
      "6/6 [==============================] - 0s 4ms/step - loss: 0.5532 - categorical_accuracy: 0.9925 - val_loss: 15.3595 - val_categorical_accuracy: 0.9724\n",
      "Epoch 29/100\n",
      "6/6 [==============================] - 0s 4ms/step - loss: 0.4419 - categorical_accuracy: 0.9933 - val_loss: 13.6689 - val_categorical_accuracy: 0.9724\n",
      "Epoch 30/100\n",
      "6/6 [==============================] - 0s 4ms/step - loss: 0.5443 - categorical_accuracy: 0.9903 - val_loss: 18.4232 - val_categorical_accuracy: 0.9646\n",
      "Epoch 31/100\n",
      "6/6 [==============================] - 0s 4ms/step - loss: 0.2162 - categorical_accuracy: 0.9961 - val_loss: 19.3950 - val_categorical_accuracy: 0.9646\n",
      "Epoch 32/100\n",
      "6/6 [==============================] - 0s 3ms/step - loss: 0.2080 - categorical_accuracy: 0.9961 - val_loss: 19.2465 - val_categorical_accuracy: 0.9685\n",
      "Epoch 33/100\n",
      "6/6 [==============================] - 0s 4ms/step - loss: 0.2040 - categorical_accuracy: 0.9984 - val_loss: 16.7991 - val_categorical_accuracy: 0.9724\n",
      "Epoch 34/100\n",
      "6/6 [==============================] - 0s 4ms/step - loss: 0.3270 - categorical_accuracy: 0.9963 - val_loss: 16.1091 - val_categorical_accuracy: 0.9724\n",
      "Epoch 35/100\n",
      "6/6 [==============================] - 0s 4ms/step - loss: 0.4522 - categorical_accuracy: 0.9931 - val_loss: 20.9254 - val_categorical_accuracy: 0.9724\n",
      "Epoch 36/100\n",
      "6/6 [==============================] - 0s 4ms/step - loss: 0.3767 - categorical_accuracy: 0.9976 - val_loss: 17.4703 - val_categorical_accuracy: 0.9724\n",
      "Epoch 37/100\n",
      "6/6 [==============================] - 0s 4ms/step - loss: 0.2383 - categorical_accuracy: 0.9930 - val_loss: 17.5680 - val_categorical_accuracy: 0.9724\n",
      "Epoch 38/100\n",
      "6/6 [==============================] - 0s 4ms/step - loss: 0.4510 - categorical_accuracy: 0.9922 - val_loss: 16.1598 - val_categorical_accuracy: 0.9646\n",
      "Epoch 39/100\n",
      "6/6 [==============================] - 0s 3ms/step - loss: 0.0716 - categorical_accuracy: 0.9968 - val_loss: 19.2563 - val_categorical_accuracy: 0.9685\n",
      "Epoch 40/100\n",
      "6/6 [==============================] - 0s 4ms/step - loss: 0.0842 - categorical_accuracy: 0.9978 - val_loss: 18.7578 - val_categorical_accuracy: 0.9685\n",
      "Epoch 41/100\n",
      "6/6 [==============================] - 0s 4ms/step - loss: 0.1028 - categorical_accuracy: 0.9981 - val_loss: 20.3488 - val_categorical_accuracy: 0.9685\n",
      "Epoch 42/100\n",
      "6/6 [==============================] - 0s 4ms/step - loss: 0.6942 - categorical_accuracy: 0.9950 - val_loss: 23.2465 - val_categorical_accuracy: 0.9646\n",
      "Epoch 43/100\n",
      "6/6 [==============================] - 0s 4ms/step - loss: 0.0927 - categorical_accuracy: 0.9975 - val_loss: 22.7691 - val_categorical_accuracy: 0.9606\n",
      "Epoch 44/100\n",
      "6/6 [==============================] - 0s 4ms/step - loss: 0.1855 - categorical_accuracy: 0.9977 - val_loss: 21.7324 - val_categorical_accuracy: 0.9685\n"
     ]
    },
    {
     "name": "stdout",
     "output_type": "stream",
     "text": [
      "Epoch 45/100\n",
      "6/6 [==============================] - 0s 4ms/step - loss: 0.1869 - categorical_accuracy: 0.9978 - val_loss: 17.9794 - val_categorical_accuracy: 0.9764\n",
      "Epoch 46/100\n",
      "6/6 [==============================] - 0s 4ms/step - loss: 0.5447 - categorical_accuracy: 0.9939 - val_loss: 24.3645 - val_categorical_accuracy: 0.9646\n",
      "Epoch 47/100\n",
      "6/6 [==============================] - 0s 3ms/step - loss: 0.0934 - categorical_accuracy: 0.9966 - val_loss: 16.8277 - val_categorical_accuracy: 0.9685\n",
      "Epoch 48/100\n",
      "6/6 [==============================] - 0s 4ms/step - loss: 0.0379 - categorical_accuracy: 0.9992 - val_loss: 22.8334 - val_categorical_accuracy: 0.9646\n",
      "Epoch 49/100\n",
      "6/6 [==============================] - 0s 4ms/step - loss: 0.9107 - categorical_accuracy: 0.9940 - val_loss: 19.1882 - val_categorical_accuracy: 0.9685\n",
      "Epoch 50/100\n",
      "6/6 [==============================] - 0s 3ms/step - loss: 0.0704 - categorical_accuracy: 0.9976 - val_loss: 20.8435 - val_categorical_accuracy: 0.9685\n",
      "Epoch 51/100\n",
      "6/6 [==============================] - 0s 4ms/step - loss: 0.3479 - categorical_accuracy: 0.9950 - val_loss: 18.1031 - val_categorical_accuracy: 0.9724\n",
      "Epoch 52/100\n",
      "6/6 [==============================] - 0s 4ms/step - loss: 0.1174 - categorical_accuracy: 0.9991 - val_loss: 16.1932 - val_categorical_accuracy: 0.9724\n",
      "Epoch 53/100\n",
      "6/6 [==============================] - 0s 4ms/step - loss: 0.0871 - categorical_accuracy: 0.9977 - val_loss: 27.7047 - val_categorical_accuracy: 0.9646\n",
      "Epoch 54/100\n",
      "6/6 [==============================] - 0s 4ms/step - loss: 0.2636 - categorical_accuracy: 0.9931 - val_loss: 21.5266 - val_categorical_accuracy: 0.9724\n",
      "Epoch 55/100\n",
      "6/6 [==============================] - 0s 4ms/step - loss: 0.6185 - categorical_accuracy: 0.9940 - val_loss: 24.4617 - val_categorical_accuracy: 0.9646\n",
      "Epoch 56/100\n",
      "6/6 [==============================] - 0s 4ms/step - loss: 0.5461 - categorical_accuracy: 0.9943 - val_loss: 24.9916 - val_categorical_accuracy: 0.9567\n",
      "Epoch 57/100\n",
      "6/6 [==============================] - 0s 4ms/step - loss: 0.0212 - categorical_accuracy: 0.9992 - val_loss: 15.3526 - val_categorical_accuracy: 0.9803\n",
      "Epoch 58/100\n",
      "6/6 [==============================] - 0s 4ms/step - loss: 0.0151 - categorical_accuracy: 0.9963 - val_loss: 21.5971 - val_categorical_accuracy: 0.9764\n",
      "Epoch 59/100\n",
      "6/6 [==============================] - 0s 4ms/step - loss: 0.6986 - categorical_accuracy: 0.9953 - val_loss: 20.4613 - val_categorical_accuracy: 0.9724\n",
      "Epoch 60/100\n",
      "6/6 [==============================] - 0s 3ms/step - loss: 0.3925 - categorical_accuracy: 0.9981 - val_loss: 22.1427 - val_categorical_accuracy: 0.9685\n",
      "Epoch 61/100\n",
      "6/6 [==============================] - 0s 4ms/step - loss: 0.2179 - categorical_accuracy: 0.9963 - val_loss: 18.0073 - val_categorical_accuracy: 0.9724\n",
      "Epoch 62/100\n",
      "6/6 [==============================] - 0s 4ms/step - loss: 0.0552 - categorical_accuracy: 0.9992 - val_loss: 24.6244 - val_categorical_accuracy: 0.9685\n",
      "Epoch 63/100\n",
      "6/6 [==============================] - 0s 3ms/step - loss: 0.0999 - categorical_accuracy: 0.9980 - val_loss: 26.5968 - val_categorical_accuracy: 0.9685\n",
      "Epoch 64/100\n",
      "6/6 [==============================] - 0s 3ms/step - loss: 0.1656 - categorical_accuracy: 0.9991 - val_loss: 24.9359 - val_categorical_accuracy: 0.9685\n",
      "Epoch 65/100\n",
      "6/6 [==============================] - 0s 3ms/step - loss: 0.3923 - categorical_accuracy: 0.9939 - val_loss: 22.4519 - val_categorical_accuracy: 0.9685\n",
      "Epoch 66/100\n",
      "6/6 [==============================] - 0s 4ms/step - loss: 0.1018 - categorical_accuracy: 0.9988 - val_loss: 20.9830 - val_categorical_accuracy: 0.9685\n",
      "Epoch 67/100\n",
      "6/6 [==============================] - 0s 3ms/step - loss: 0.0177 - categorical_accuracy: 0.9981 - val_loss: 30.9371 - val_categorical_accuracy: 0.9646\n",
      "Epoch 68/100\n",
      "6/6 [==============================] - 0s 3ms/step - loss: 0.0495 - categorical_accuracy: 0.9992 - val_loss: 29.1558 - val_categorical_accuracy: 0.9685\n",
      "Epoch 69/100\n",
      "6/6 [==============================] - 0s 4ms/step - loss: 0.1376 - categorical_accuracy: 0.9975 - val_loss: 30.6642 - val_categorical_accuracy: 0.9646\n",
      "Epoch 70/100\n",
      "6/6 [==============================] - 0s 4ms/step - loss: 0.1430 - categorical_accuracy: 0.9981 - val_loss: 23.1490 - val_categorical_accuracy: 0.9646\n",
      "Epoch 71/100\n",
      "6/6 [==============================] - 0s 3ms/step - loss: 0.1261 - categorical_accuracy: 0.9986 - val_loss: 14.0555 - val_categorical_accuracy: 0.9764\n",
      "Epoch 72/100\n",
      "6/6 [==============================] - 0s 4ms/step - loss: 0.0183 - categorical_accuracy: 0.9991 - val_loss: 39.6129 - val_categorical_accuracy: 0.9606\n",
      "Epoch 73/100\n",
      "6/6 [==============================] - 0s 4ms/step - loss: 0.2680 - categorical_accuracy: 0.9967 - val_loss: 24.6901 - val_categorical_accuracy: 0.9646\n",
      "Epoch 74/100\n",
      "6/6 [==============================] - 0s 4ms/step - loss: 0.1180 - categorical_accuracy: 0.9980 - val_loss: 30.3001 - val_categorical_accuracy: 0.9646\n",
      "Epoch 75/100\n",
      "6/6 [==============================] - 0s 3ms/step - loss: 0.2115 - categorical_accuracy: 0.9959 - val_loss: 27.2248 - val_categorical_accuracy: 0.9685\n",
      "Epoch 76/100\n",
      "6/6 [==============================] - 0s 4ms/step - loss: 0.1611 - categorical_accuracy: 0.9958 - val_loss: 27.8127 - val_categorical_accuracy: 0.9685\n",
      "Epoch 77/100\n",
      "6/6 [==============================] - 0s 4ms/step - loss: 0.0000e+00 - categorical_accuracy: 1.0000 - val_loss: 27.9319 - val_categorical_accuracy: 0.9685\n",
      "Epoch 78/100\n",
      "6/6 [==============================] - 0s 3ms/step - loss: 0.0800 - categorical_accuracy: 0.9974 - val_loss: 26.7450 - val_categorical_accuracy: 0.9685\n",
      "Epoch 79/100\n",
      "6/6 [==============================] - 0s 4ms/step - loss: 0.3195 - categorical_accuracy: 0.9977 - val_loss: 30.6992 - val_categorical_accuracy: 0.9646\n",
      "Epoch 80/100\n",
      "6/6 [==============================] - 0s 4ms/step - loss: 0.4637 - categorical_accuracy: 0.9960 - val_loss: 22.8062 - val_categorical_accuracy: 0.9764\n",
      "Epoch 81/100\n",
      "6/6 [==============================] - 0s 4ms/step - loss: 0.0528 - categorical_accuracy: 0.9996 - val_loss: 38.9740 - val_categorical_accuracy: 0.9567\n",
      "Epoch 82/100\n",
      "6/6 [==============================] - 0s 3ms/step - loss: 5.2009e-08 - categorical_accuracy: 1.0000 - val_loss: 27.3128 - val_categorical_accuracy: 0.9764\n",
      "Epoch 83/100\n",
      "6/6 [==============================] - 0s 4ms/step - loss: 0.1367 - categorical_accuracy: 0.9980 - val_loss: 28.1562 - val_categorical_accuracy: 0.9646\n",
      "Epoch 84/100\n",
      "6/6 [==============================] - 0s 4ms/step - loss: 0.1829 - categorical_accuracy: 0.9956 - val_loss: 25.1761 - val_categorical_accuracy: 0.9724\n",
      "Epoch 85/100\n",
      "6/6 [==============================] - 0s 3ms/step - loss: 0.1931 - categorical_accuracy: 0.9975 - val_loss: 24.0368 - val_categorical_accuracy: 0.9724\n",
      "Epoch 86/100\n",
      "6/6 [==============================] - 0s 3ms/step - loss: 1.2899e-05 - categorical_accuracy: 1.0000 - val_loss: 30.9084 - val_categorical_accuracy: 0.9646\n",
      "Epoch 87/100\n",
      "6/6 [==============================] - 0s 3ms/step - loss: 0.1745 - categorical_accuracy: 0.9981 - val_loss: 19.0498 - val_categorical_accuracy: 0.9764\n",
      "Epoch 88/100\n",
      "6/6 [==============================] - 0s 3ms/step - loss: 0.0000e+00 - categorical_accuracy: 1.0000 - val_loss: 20.7826 - val_categorical_accuracy: 0.9764\n",
      "Epoch 89/100\n",
      "6/6 [==============================] - 0s 4ms/step - loss: 0.0150 - categorical_accuracy: 0.9991 - val_loss: 20.7256 - val_categorical_accuracy: 0.9724\n",
      "Epoch 90/100\n",
      "6/6 [==============================] - 0s 4ms/step - loss: 0.0109 - categorical_accuracy: 0.9994 - val_loss: 25.7822 - val_categorical_accuracy: 0.9764\n",
      "Epoch 91/100\n",
      "6/6 [==============================] - 0s 4ms/step - loss: 0.0774 - categorical_accuracy: 0.9987 - val_loss: 29.9644 - val_categorical_accuracy: 0.9724\n",
      "Epoch 92/100\n",
      "6/6 [==============================] - 0s 3ms/step - loss: 0.0528 - categorical_accuracy: 0.9988 - val_loss: 22.2427 - val_categorical_accuracy: 0.9764\n",
      "Epoch 93/100\n",
      "6/6 [==============================] - 0s 4ms/step - loss: 0.0313 - categorical_accuracy: 0.9994 - val_loss: 37.1448 - val_categorical_accuracy: 0.9646\n",
      "Epoch 94/100\n",
      "6/6 [==============================] - 0s 4ms/step - loss: 0.1474 - categorical_accuracy: 0.9994 - val_loss: 33.6293 - val_categorical_accuracy: 0.9685\n",
      "Epoch 95/100\n",
      "6/6 [==============================] - 0s 4ms/step - loss: 0.0000e+00 - categorical_accuracy: 1.0000 - val_loss: 26.0248 - val_categorical_accuracy: 0.9685\n",
      "Epoch 96/100\n",
      "6/6 [==============================] - 0s 4ms/step - loss: 0.0426 - categorical_accuracy: 0.9986 - val_loss: 20.0212 - val_categorical_accuracy: 0.9764\n",
      "Epoch 97/100\n",
      "6/6 [==============================] - 0s 3ms/step - loss: 0.2569 - categorical_accuracy: 0.9930 - val_loss: 27.1948 - val_categorical_accuracy: 0.9724\n",
      "Epoch 98/100\n",
      "6/6 [==============================] - 0s 4ms/step - loss: 0.1508 - categorical_accuracy: 0.9964 - val_loss: 29.2648 - val_categorical_accuracy: 0.9724\n",
      "Epoch 99/100\n",
      "6/6 [==============================] - 0s 3ms/step - loss: 0.0292 - categorical_accuracy: 0.9988 - val_loss: 21.0388 - val_categorical_accuracy: 0.9764\n",
      "Epoch 100/100\n",
      "6/6 [==============================] - 0s 3ms/step - loss: 0.0337 - categorical_accuracy: 0.9988 - val_loss: 28.5041 - val_categorical_accuracy: 0.9646\n"
     ]
    }
   ],
   "source": [
    "history = model.fit(x_train, y_train, batch_size=200, epochs=100, validation_split=0.3) "
   ]
  },
  {
   "cell_type": "markdown",
   "id": "2291f753",
   "metadata": {},
   "source": [
    "#### 모델 정확도 측정"
   ]
  },
  {
   "cell_type": "code",
   "execution_count": 36,
   "id": "d4328d18",
   "metadata": {
    "ExecuteTime": {
     "end_time": "2021-11-28T05:51:47.455163Z",
     "start_time": "2021-11-28T05:51:47.388811Z"
    }
   },
   "outputs": [
    {
     "name": "stdout",
     "output_type": "stream",
     "text": [
      "14/14 [==============================] - 0s 541us/step - loss: 0.0000e+00 - categorical_accuracy: 1.0000\n",
      "loss (cross-entropy) : 0.0\n",
      "test accuracy : 1.0\n"
     ]
    }
   ],
   "source": [
    "result = model.evaluate(x_test, y_test)\n",
    "\n",
    "print('loss (cross-entropy) :', result[0])\n",
    "print('test accuracy :', result[1])"
   ]
  },
  {
   "cell_type": "code",
   "execution_count": 37,
   "id": "4f5d8b25",
   "metadata": {
    "ExecuteTime": {
     "end_time": "2021-11-28T05:51:48.250429Z",
     "start_time": "2021-11-28T05:51:48.139719Z"
    }
   },
   "outputs": [
    {
     "data": {
      "image/png": "[encoded data removed]",
      "text/plain": [
       "<Figure size 432x288 with 1 Axes>"
      ]
     },
     "metadata": {
      "needs_background": "light"
     },
     "output_type": "display_data"
    }
   ],
   "source": [
    "acc = history.history['categorical_accuracy']\n",
    "val_acc = history.history['val_categorical_accuracy']\n",
    "\n",
    "x_len = np.arange(len(acc))\n",
    "\n",
    "plt.plot(x_len, acc, marker='.', c='blue', label=\"Train-set Acc.\")\n",
    "plt.plot(x_len, val_acc, marker='.', c='red', label=\"Validation-set Acc.\")\n",
    "\n",
    "plt.legend(loc='upper right')\n",
    "plt.grid()\n",
    "plt.xlabel('epoch')\n",
    "plt.ylabel('Accuracy')\n",
    "plt.show()"
   ]
  },
  {
   "cell_type": "markdown",
   "id": "7ac29ae2",
   "metadata": {},
   "source": [
    "#### 모델 저장"
   ]
  },
  {
   "cell_type": "code",
   "execution_count": 29,
   "id": "020de047",
   "metadata": {
    "ExecuteTime": {
     "end_time": "2021-11-28T05:10:09.186957Z",
     "start_time": "2021-11-28T05:10:09.148085Z"
    }
   },
   "outputs": [],
   "source": [
    "model.save('models/model_ver2.h5')"
   ]
  },
  {
   "cell_type": "markdown",
   "id": "08a86ed3",
   "metadata": {},
   "source": [
    "### 모델 테스트"
   ]
  },
  {
   "cell_type": "code",
   "execution_count": 45,
   "id": "5968ad26",
   "metadata": {
    "ExecuteTime": {
     "end_time": "2021-11-28T05:53:28.205177Z",
     "start_time": "2021-11-28T05:53:28.202530Z"
    }
   },
   "outputs": [],
   "source": [
    "angles = [150, 120, 120]"
   ]
  },
  {
   "cell_type": "code",
   "execution_count": 46,
   "id": "189ea404",
   "metadata": {
    "ExecuteTime": {
     "end_time": "2021-11-28T05:53:28.492643Z",
     "start_time": "2021-11-28T05:53:28.426148Z"
    }
   },
   "outputs": [
    {
     "name": "stdout",
     "output_type": "stream",
     "text": [
      "[[1. 0.]]\n"
     ]
    }
   ],
   "source": [
    "pred = model.predict([angles])\n",
    "print(pred)"
   ]
  },
  {
   "cell_type": "code",
   "execution_count": 47,
   "id": "1d26c20c",
   "metadata": {
    "ExecuteTime": {
     "end_time": "2021-11-28T05:53:29.003710Z",
     "start_time": "2021-11-28T05:53:28.999073Z"
    }
   },
   "outputs": [
    {
     "data": {
      "text/plain": [
       "1.0"
      ]
     },
     "execution_count": 47,
     "metadata": {},
     "output_type": "execute_result"
    }
   ],
   "source": [
    "pred[0][0]"
   ]
  },
  {
   "cell_type": "code",
   "execution_count": 49,
   "id": "de30519b",
   "metadata": {
    "ExecuteTime": {
     "end_time": "2021-11-28T05:53:51.213964Z",
     "start_time": "2021-11-28T05:53:51.154240Z"
    }
   },
   "outputs": [
    {
     "data": {
      "text/plain": [
       "array([[1., 0.]], dtype=float32)"
      ]
     },
     "execution_count": 49,
     "metadata": {},
     "output_type": "execute_result"
    }
   ],
   "source": [
    "angles2 = [70, 120, 120]\n",
    "pred2 = model.predict([angles])\n",
    "pred2"
   ]
  },
  {
   "cell_type": "code",
   "execution_count": 50,
   "id": "a6bf660a",
   "metadata": {
    "ExecuteTime": {
     "end_time": "2021-11-28T05:53:57.083373Z",
     "start_time": "2021-11-28T05:53:57.079132Z"
    }
   },
   "outputs": [
    {
     "data": {
      "text/plain": [
       "1.0"
      ]
     },
     "execution_count": 50,
     "metadata": {},
     "output_type": "execute_result"
    }
   ],
   "source": [
    "pred[0][0]"
   ]
  }
 ],
 "metadata": {
  "kernelspec": {
   "display_name": "Python 3 (ipykernel)",
   "language": "python",
   "name": "python3"
  },
  "language_info": {
   "codemirror_mode": {
    "name": "ipython",
    "version": 3
   },
   "file_extension": ".py",
   "mimetype": "text/x-python",
   "name": "python",
   "nbconvert_exporter": "python",
   "pygments_lexer": "ipython3",
   "version": "3.8.10"
  },
  "toc": {
   "base_numbering": 1,
   "nav_menu": {},
   "number_sections": true,
   "sideBar": true,
   "skip_h1_title": false,
   "title_cell": "Table of Contents",
   "title_sidebar": "Contents",
   "toc_cell": false,
   "toc_position": {},
   "toc_section_display": true,
   "toc_window_display": false
  }
 },
 "nbformat": 4,
 "nbformat_minor": 5
}
