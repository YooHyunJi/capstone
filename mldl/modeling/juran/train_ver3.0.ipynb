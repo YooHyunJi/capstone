{
 "cells": [
  {
   "cell_type": "markdown",
   "id": "062e57c7",
   "metadata": {},
   "source": [
    "## Train ver3.0\n",
    "\n",
    "@Juran 2021.11.29\n",
    "\n",
    "- create_data_ver3.0로 생성된 데이터셋 이용\n",
    "- 미디어파이프 랜드마크 8-5번, 8-0번, 7-0번 사이 거리 측정하여 데이터셋 생성"
   ]
  },
  {
   "cell_type": "code",
   "execution_count": 2,
   "id": "88a33e6c",
   "metadata": {
    "ExecuteTime": {
     "end_time": "2021-11-29T13:24:25.227797Z",
     "start_time": "2021-11-29T13:24:25.224696Z"
    }
   },
   "outputs": [],
   "source": [
    "import pandas as pd\n",
    "import numpy as np\n",
    "import matplotlib.pyplot as plt"
   ]
  },
  {
   "cell_type": "code",
   "execution_count": null,
   "id": "f8dd4628",
   "metadata": {},
   "outputs": [],
   "source": [
    "# 1 -> click\n",
    "# 0 -> none"
   ]
  },
  {
   "cell_type": "markdown",
   "id": "10399827",
   "metadata": {},
   "source": [
    "### 데이터셋 로드"
   ]
  },
  {
   "cell_type": "code",
   "execution_count": 3,
   "id": "310a6ade",
   "metadata": {
    "ExecuteTime": {
     "end_time": "2021-11-29T13:24:31.980614Z",
     "start_time": "2021-11-29T13:24:31.957540Z"
    }
   },
   "outputs": [
    {
     "data": {
      "text/html": [
       "<div>\n",
       "<style scoped>\n",
       "    .dataframe tbody tr th:only-of-type {\n",
       "        vertical-align: middle;\n",
       "    }\n",
       "\n",
       "    .dataframe tbody tr th {\n",
       "        vertical-align: top;\n",
       "    }\n",
       "\n",
       "    .dataframe thead th {\n",
       "        text-align: right;\n",
       "    }\n",
       "</style>\n",
       "<table border=\"1\" class=\"dataframe\">\n",
       "  <thead>\n",
       "    <tr style=\"text-align: right;\">\n",
       "      <th></th>\n",
       "      <th>0</th>\n",
       "      <th>1</th>\n",
       "      <th>2</th>\n",
       "      <th>3</th>\n",
       "    </tr>\n",
       "  </thead>\n",
       "  <tbody>\n",
       "    <tr>\n",
       "      <th>0</th>\n",
       "      <td>0.290816</td>\n",
       "      <td>0.312532</td>\n",
       "      <td>0.324417</td>\n",
       "      <td>1</td>\n",
       "    </tr>\n",
       "    <tr>\n",
       "      <th>1</th>\n",
       "      <td>0.291533</td>\n",
       "      <td>0.303578</td>\n",
       "      <td>0.320783</td>\n",
       "      <td>1</td>\n",
       "    </tr>\n",
       "    <tr>\n",
       "      <th>2</th>\n",
       "      <td>0.290609</td>\n",
       "      <td>0.300012</td>\n",
       "      <td>0.317731</td>\n",
       "      <td>1</td>\n",
       "    </tr>\n",
       "    <tr>\n",
       "      <th>3</th>\n",
       "      <td>0.291715</td>\n",
       "      <td>0.301329</td>\n",
       "      <td>0.318600</td>\n",
       "      <td>1</td>\n",
       "    </tr>\n",
       "    <tr>\n",
       "      <th>4</th>\n",
       "      <td>0.291397</td>\n",
       "      <td>0.301152</td>\n",
       "      <td>0.318131</td>\n",
       "      <td>1</td>\n",
       "    </tr>\n",
       "  </tbody>\n",
       "</table>\n",
       "</div>"
      ],
      "text/plain": [
       "          0         1         2  3\n",
       "0  0.290816  0.312532  0.324417  1\n",
       "1  0.291533  0.303578  0.320783  1\n",
       "2  0.290609  0.300012  0.317731  1\n",
       "3  0.291715  0.301329  0.318600  1\n",
       "4  0.291397  0.301152  0.318131  1"
      ]
     },
     "execution_count": 3,
     "metadata": {},
     "output_type": "execute_result"
    }
   ],
   "source": [
    "df_click = pd.read_csv('dataset/dataset_click_ver3.csv')\n",
    "del df_click['Unnamed: 0']\n",
    "df_click.head()"
   ]
  },
  {
   "cell_type": "code",
   "execution_count": 4,
   "id": "7a84475a",
   "metadata": {
    "ExecuteTime": {
     "end_time": "2021-11-29T13:24:37.260941Z",
     "start_time": "2021-11-29T13:24:37.246058Z"
    }
   },
   "outputs": [
    {
     "data": {
      "text/html": [
       "<div>\n",
       "<style scoped>\n",
       "    .dataframe tbody tr th:only-of-type {\n",
       "        vertical-align: middle;\n",
       "    }\n",
       "\n",
       "    .dataframe tbody tr th {\n",
       "        vertical-align: top;\n",
       "    }\n",
       "\n",
       "    .dataframe thead th {\n",
       "        text-align: right;\n",
       "    }\n",
       "</style>\n",
       "<table border=\"1\" class=\"dataframe\">\n",
       "  <thead>\n",
       "    <tr style=\"text-align: right;\">\n",
       "      <th></th>\n",
       "      <th>0</th>\n",
       "      <th>1</th>\n",
       "      <th>2</th>\n",
       "      <th>3</th>\n",
       "    </tr>\n",
       "  </thead>\n",
       "  <tbody>\n",
       "    <tr>\n",
       "      <th>0</th>\n",
       "      <td>0.168560</td>\n",
       "      <td>0.385461</td>\n",
       "      <td>0.377677</td>\n",
       "      <td>0</td>\n",
       "    </tr>\n",
       "    <tr>\n",
       "      <th>1</th>\n",
       "      <td>0.174939</td>\n",
       "      <td>0.420652</td>\n",
       "      <td>0.417135</td>\n",
       "      <td>0</td>\n",
       "    </tr>\n",
       "    <tr>\n",
       "      <th>2</th>\n",
       "      <td>0.174106</td>\n",
       "      <td>0.432268</td>\n",
       "      <td>0.430094</td>\n",
       "      <td>0</td>\n",
       "    </tr>\n",
       "    <tr>\n",
       "      <th>3</th>\n",
       "      <td>0.173394</td>\n",
       "      <td>0.430952</td>\n",
       "      <td>0.428801</td>\n",
       "      <td>0</td>\n",
       "    </tr>\n",
       "    <tr>\n",
       "      <th>4</th>\n",
       "      <td>0.172349</td>\n",
       "      <td>0.432382</td>\n",
       "      <td>0.429972</td>\n",
       "      <td>0</td>\n",
       "    </tr>\n",
       "  </tbody>\n",
       "</table>\n",
       "</div>"
      ],
      "text/plain": [
       "          0         1         2  3\n",
       "0  0.168560  0.385461  0.377677  0\n",
       "1  0.174939  0.420652  0.417135  0\n",
       "2  0.174106  0.432268  0.430094  0\n",
       "3  0.173394  0.430952  0.428801  0\n",
       "4  0.172349  0.432382  0.429972  0"
      ]
     },
     "execution_count": 4,
     "metadata": {},
     "output_type": "execute_result"
    }
   ],
   "source": [
    "df_none = pd.read_csv('dataset/dataset_none_ver3.csv')\n",
    "del df_none['Unnamed: 0']\n",
    "df_none.head()"
   ]
  },
  {
   "cell_type": "code",
   "execution_count": 5,
   "id": "b3c1dc14",
   "metadata": {
    "ExecuteTime": {
     "end_time": "2021-11-29T13:25:02.992501Z",
     "start_time": "2021-11-29T13:25:02.981029Z"
    }
   },
   "outputs": [
    {
     "data": {
      "text/html": [
       "<div>\n",
       "<style scoped>\n",
       "    .dataframe tbody tr th:only-of-type {\n",
       "        vertical-align: middle;\n",
       "    }\n",
       "\n",
       "    .dataframe tbody tr th {\n",
       "        vertical-align: top;\n",
       "    }\n",
       "\n",
       "    .dataframe thead th {\n",
       "        text-align: right;\n",
       "    }\n",
       "</style>\n",
       "<table border=\"1\" class=\"dataframe\">\n",
       "  <thead>\n",
       "    <tr style=\"text-align: right;\">\n",
       "      <th></th>\n",
       "      <th>0</th>\n",
       "      <th>1</th>\n",
       "      <th>2</th>\n",
       "      <th>3</th>\n",
       "    </tr>\n",
       "  </thead>\n",
       "  <tbody>\n",
       "    <tr>\n",
       "      <th>0</th>\n",
       "      <td>0.290816</td>\n",
       "      <td>0.312532</td>\n",
       "      <td>0.324417</td>\n",
       "      <td>1</td>\n",
       "    </tr>\n",
       "    <tr>\n",
       "      <th>1</th>\n",
       "      <td>0.291533</td>\n",
       "      <td>0.303578</td>\n",
       "      <td>0.320783</td>\n",
       "      <td>1</td>\n",
       "    </tr>\n",
       "    <tr>\n",
       "      <th>2</th>\n",
       "      <td>0.290609</td>\n",
       "      <td>0.300012</td>\n",
       "      <td>0.317731</td>\n",
       "      <td>1</td>\n",
       "    </tr>\n",
       "    <tr>\n",
       "      <th>3</th>\n",
       "      <td>0.291715</td>\n",
       "      <td>0.301329</td>\n",
       "      <td>0.318600</td>\n",
       "      <td>1</td>\n",
       "    </tr>\n",
       "    <tr>\n",
       "      <th>4</th>\n",
       "      <td>0.291397</td>\n",
       "      <td>0.301152</td>\n",
       "      <td>0.318131</td>\n",
       "      <td>1</td>\n",
       "    </tr>\n",
       "  </tbody>\n",
       "</table>\n",
       "</div>"
      ],
      "text/plain": [
       "          0         1         2  3\n",
       "0  0.290816  0.312532  0.324417  1\n",
       "1  0.291533  0.303578  0.320783  1\n",
       "2  0.290609  0.300012  0.317731  1\n",
       "3  0.291715  0.301329  0.318600  1\n",
       "4  0.291397  0.301152  0.318131  1"
      ]
     },
     "execution_count": 5,
     "metadata": {},
     "output_type": "execute_result"
    }
   ],
   "source": [
    "df_data = pd.concat([df_click, df_none])\n",
    "df_data.head()"
   ]
  },
  {
   "cell_type": "markdown",
   "id": "88da2f20",
   "metadata": {},
   "source": [
    "#### x데이터와 y데이터 분리"
   ]
  },
  {
   "cell_type": "code",
   "execution_count": 6,
   "id": "7007f446",
   "metadata": {
    "ExecuteTime": {
     "end_time": "2021-11-29T13:25:07.846969Z",
     "start_time": "2021-11-29T13:25:07.842249Z"
    }
   },
   "outputs": [],
   "source": [
    "df_target = df_data[['3']]\n",
    "df_data = df_data[['0', '1', '2']]"
   ]
  },
  {
   "cell_type": "code",
   "execution_count": 7,
   "id": "3fc3cd1a",
   "metadata": {
    "ExecuteTime": {
     "end_time": "2021-11-29T13:25:09.400297Z",
     "start_time": "2021-11-29T13:25:09.391317Z"
    }
   },
   "outputs": [
    {
     "data": {
      "text/html": [
       "<div>\n",
       "<style scoped>\n",
       "    .dataframe tbody tr th:only-of-type {\n",
       "        vertical-align: middle;\n",
       "    }\n",
       "\n",
       "    .dataframe tbody tr th {\n",
       "        vertical-align: top;\n",
       "    }\n",
       "\n",
       "    .dataframe thead th {\n",
       "        text-align: right;\n",
       "    }\n",
       "</style>\n",
       "<table border=\"1\" class=\"dataframe\">\n",
       "  <thead>\n",
       "    <tr style=\"text-align: right;\">\n",
       "      <th></th>\n",
       "      <th>3</th>\n",
       "    </tr>\n",
       "  </thead>\n",
       "  <tbody>\n",
       "    <tr>\n",
       "      <th>0</th>\n",
       "      <td>1</td>\n",
       "    </tr>\n",
       "    <tr>\n",
       "      <th>1</th>\n",
       "      <td>1</td>\n",
       "    </tr>\n",
       "    <tr>\n",
       "      <th>2</th>\n",
       "      <td>1</td>\n",
       "    </tr>\n",
       "    <tr>\n",
       "      <th>3</th>\n",
       "      <td>1</td>\n",
       "    </tr>\n",
       "    <tr>\n",
       "      <th>4</th>\n",
       "      <td>1</td>\n",
       "    </tr>\n",
       "  </tbody>\n",
       "</table>\n",
       "</div>"
      ],
      "text/plain": [
       "   3\n",
       "0  1\n",
       "1  1\n",
       "2  1\n",
       "3  1\n",
       "4  1"
      ]
     },
     "execution_count": 7,
     "metadata": {},
     "output_type": "execute_result"
    }
   ],
   "source": [
    "df_target.head()"
   ]
  },
  {
   "cell_type": "markdown",
   "id": "7401e57d",
   "metadata": {},
   "source": [
    "### 모델 학습"
   ]
  },
  {
   "cell_type": "markdown",
   "id": "526d7b4d",
   "metadata": {},
   "source": [
    "#### train / test split"
   ]
  },
  {
   "cell_type": "code",
   "execution_count": 8,
   "id": "b0ac3f5d",
   "metadata": {
    "ExecuteTime": {
     "end_time": "2021-11-29T13:25:12.346190Z",
     "start_time": "2021-11-29T13:25:11.510150Z"
    }
   },
   "outputs": [],
   "source": [
    "from sklearn import model_selection\n",
    "x_train, x_test, y_train, y_test = model_selection.train_test_split(df_data, df_target, test_size=0.2,random_state=0)"
   ]
  },
  {
   "cell_type": "code",
   "execution_count": 9,
   "id": "da6d8a25",
   "metadata": {
    "ExecuteTime": {
     "end_time": "2021-11-29T13:25:12.348769Z",
     "start_time": "2021-11-29T13:25:12.347114Z"
    }
   },
   "outputs": [
    {
     "name": "stdout",
     "output_type": "stream",
     "text": [
      "(2924, 3)\n",
      "(2924, 1)\n",
      "(732, 3)\n",
      "(732, 1)\n"
     ]
    }
   ],
   "source": [
    "print(x_train.shape)\n",
    "print(y_train.shape)\n",
    "print(x_test.shape)\n",
    "print(y_test.shape)"
   ]
  },
  {
   "cell_type": "markdown",
   "id": "7ff602ae",
   "metadata": {},
   "source": [
    "#### one-hot encoding"
   ]
  },
  {
   "cell_type": "code",
   "execution_count": 10,
   "id": "ff77843b",
   "metadata": {
    "ExecuteTime": {
     "end_time": "2021-11-29T13:25:13.835305Z",
     "start_time": "2021-11-29T13:25:13.826586Z"
    }
   },
   "outputs": [
    {
     "data": {
      "text/html": [
       "<div>\n",
       "<style scoped>\n",
       "    .dataframe tbody tr th:only-of-type {\n",
       "        vertical-align: middle;\n",
       "    }\n",
       "\n",
       "    .dataframe tbody tr th {\n",
       "        vertical-align: top;\n",
       "    }\n",
       "\n",
       "    .dataframe thead th {\n",
       "        text-align: right;\n",
       "    }\n",
       "</style>\n",
       "<table border=\"1\" class=\"dataframe\">\n",
       "  <thead>\n",
       "    <tr style=\"text-align: right;\">\n",
       "      <th></th>\n",
       "      <th>3</th>\n",
       "    </tr>\n",
       "  </thead>\n",
       "  <tbody>\n",
       "    <tr>\n",
       "      <th>1520</th>\n",
       "      <td>0</td>\n",
       "    </tr>\n",
       "    <tr>\n",
       "      <th>1152</th>\n",
       "      <td>0</td>\n",
       "    </tr>\n",
       "    <tr>\n",
       "      <th>720</th>\n",
       "      <td>0</td>\n",
       "    </tr>\n",
       "    <tr>\n",
       "      <th>728</th>\n",
       "      <td>1</td>\n",
       "    </tr>\n",
       "    <tr>\n",
       "      <th>1273</th>\n",
       "      <td>0</td>\n",
       "    </tr>\n",
       "  </tbody>\n",
       "</table>\n",
       "</div>"
      ],
      "text/plain": [
       "      3\n",
       "1520  0\n",
       "1152  0\n",
       "720   0\n",
       "728   1\n",
       "1273  0"
      ]
     },
     "execution_count": 10,
     "metadata": {},
     "output_type": "execute_result"
    }
   ],
   "source": [
    "y_train.head()"
   ]
  },
  {
   "cell_type": "code",
   "execution_count": 11,
   "id": "4ad190a4",
   "metadata": {
    "ExecuteTime": {
     "end_time": "2021-11-29T13:25:15.086642Z",
     "start_time": "2021-11-29T13:25:15.079287Z"
    }
   },
   "outputs": [
    {
     "name": "stdout",
     "output_type": "stream",
     "text": [
      "(2924, 2)\n",
      "(732, 2)\n"
     ]
    }
   ],
   "source": [
    "from sklearn import preprocessing\n",
    "\n",
    "# Apply 'One-hot encoding' on labels\n",
    "enc = preprocessing.OneHotEncoder(categories='auto')\n",
    "\n",
    "y_train = enc.fit_transform(y_train).toarray()\n",
    "y_test = enc.fit_transform(y_test).toarray()\n",
    "\n",
    "print(y_train.shape)\n",
    "print(y_test.shape)"
   ]
  },
  {
   "cell_type": "code",
   "execution_count": 12,
   "id": "0f5b0fed",
   "metadata": {
    "ExecuteTime": {
     "end_time": "2021-11-29T13:25:17.468207Z",
     "start_time": "2021-11-29T13:25:17.463659Z"
    }
   },
   "outputs": [
    {
     "data": {
      "text/plain": [
       "array([[1., 0.],\n",
       "       [1., 0.],\n",
       "       [1., 0.],\n",
       "       [0., 1.],\n",
       "       [1., 0.]])"
      ]
     },
     "execution_count": 12,
     "metadata": {},
     "output_type": "execute_result"
    }
   ],
   "source": [
    "y_train[:5]\n",
    "\n",
    "# 0 -> [1, 0] -> none\n",
    "# 1 -> [0, 1] -> clickss"
   ]
  },
  {
   "cell_type": "code",
   "execution_count": 31,
   "id": "ab2beeb3",
   "metadata": {
    "ExecuteTime": {
     "end_time": "2021-11-28T05:51:41.131572Z",
     "start_time": "2021-11-28T05:51:41.129293Z"
    }
   },
   "outputs": [],
   "source": [
    "# # -> one-hot vector\n",
    "# from tensorflow.keras import utils\n",
    "# y_train = utils.to_categorical(x_train) # 0 or 1 -> one-hot vector\n",
    "# y_test = utils.to_categorical(x_test) # 0 or 1 -> one-hot vector"
   ]
  },
  {
   "cell_type": "markdown",
   "id": "019df554",
   "metadata": {},
   "source": [
    "#### 모델학습"
   ]
  },
  {
   "cell_type": "code",
   "execution_count": 13,
   "id": "947f2097",
   "metadata": {
    "ExecuteTime": {
     "end_time": "2021-11-29T13:25:30.767564Z",
     "start_time": "2021-11-29T13:25:28.782861Z"
    }
   },
   "outputs": [],
   "source": [
    "import tensorflow as tf\n",
    "\n",
    "from tensorflow.keras import datasets, utils\n",
    "from tensorflow.keras import models, layers, activations, initializers, losses, optimizers, metrics"
   ]
  },
  {
   "cell_type": "code",
   "execution_count": 14,
   "id": "abf5b880",
   "metadata": {
    "ExecuteTime": {
     "end_time": "2021-11-29T13:25:32.477736Z",
     "start_time": "2021-11-29T13:25:32.421872Z"
    }
   },
   "outputs": [],
   "source": [
    "model = models.Sequential()\n",
    "\n",
    "model.add(layers.Dense(input_dim=3, units=64, activation=None, kernel_initializer=initializers.he_uniform())) # he-uniform initialization\n",
    "\n",
    "# model.add(layers.BatchNormalization()) # Use this line as if needed\n",
    "\n",
    "model.add(layers.Activation('elu')) # elu, relu / layers.ELU, layers.LeakyReLU\n",
    "\n",
    "model.add(layers.Dense(units=32, activation=None, kernel_initializer=initializers.he_uniform())) \n",
    "model.add(layers.Activation('elu')) \n",
    "\n",
    "model.add(layers.Dense(units=32, activation=None, kernel_initializer=initializers.he_uniform())) \n",
    "model.add(layers.Activation('elu'))\n",
    "\n",
    "# 마지막 hidden layer droup out\n",
    "model.add(layers.Dropout(rate=0.5))\n",
    "\n",
    "model.add(layers.Dense(units=2, activation='softmax')) # Apply softmax function on model's output"
   ]
  },
  {
   "cell_type": "code",
   "execution_count": 15,
   "id": "0df627ab",
   "metadata": {
    "ExecuteTime": {
     "end_time": "2021-11-29T13:25:33.857427Z",
     "start_time": "2021-11-29T13:25:33.839771Z"
    }
   },
   "outputs": [],
   "source": [
    "model.compile(optimizer=optimizers.Adam(),\n",
    "              loss=losses.categorical_crossentropy, \n",
    "              metrics=[metrics.categorical_accuracy])"
   ]
  },
  {
   "cell_type": "code",
   "execution_count": 16,
   "id": "eeb2df2c",
   "metadata": {
    "ExecuteTime": {
     "end_time": "2021-11-29T13:25:37.452464Z",
     "start_time": "2021-11-29T13:25:34.588021Z"
    }
   },
   "outputs": [
    {
     "name": "stdout",
     "output_type": "stream",
     "text": [
      "Epoch 1/100\n",
      "WARNING:tensorflow:AutoGraph could not transform <function Model.make_train_function.<locals>.train_function at 0x17bbc61f0> and will run it as-is.\n",
      "Please report this to the TensorFlow team. When filing the bug, set the verbosity to 10 (on Linux, `export AUTOGRAPH_VERBOSITY=10`) and attach the full output.\n",
      "Cause: unsupported operand type(s) for -: 'NoneType' and 'int'\n",
      "To silence this warning, decorate the function with @tf.autograph.experimental.do_not_convert\n",
      "WARNING: AutoGraph could not transform <function Model.make_train_function.<locals>.train_function at 0x17bbc61f0> and will run it as-is.\n",
      "Please report this to the TensorFlow team. When filing the bug, set the verbosity to 10 (on Linux, `export AUTOGRAPH_VERBOSITY=10`) and attach the full output.\n",
      "Cause: unsupported operand type(s) for -: 'NoneType' and 'int'\n",
      "To silence this warning, decorate the function with @tf.autograph.experimental.do_not_convert\n"
     ]
    },
    {
     "name": "stderr",
     "output_type": "stream",
     "text": [
      "2021-11-29 22:25:34.643704: I tensorflow/compiler/mlir/mlir_graph_optimization_pass.cc:116] None of the MLIR optimization passes are enabled (registered 2)\n",
      "2021-11-29 22:25:34.644172: W tensorflow/core/platform/profile_utils/cpu_utils.cc:126] Failed to get CPU frequency: 0 Hz\n"
     ]
    },
    {
     "name": "stdout",
     "output_type": "stream",
     "text": [
      " 1/11 [=>............................] - ETA: 2s - loss: 0.8945 - categorical_accuracy: 0.4850WARNING:tensorflow:AutoGraph could not transform <function Model.make_test_function.<locals>.test_function at 0x17f1fe040> and will run it as-is.\n",
      "Please report this to the TensorFlow team. When filing the bug, set the verbosity to 10 (on Linux, `export AUTOGRAPH_VERBOSITY=10`) and attach the full output.\n",
      "Cause: unsupported operand type(s) for -: 'NoneType' and 'int'\n",
      "To silence this warning, decorate the function with @tf.autograph.experimental.do_not_convert\n",
      "WARNING: AutoGraph could not transform <function Model.make_test_function.<locals>.test_function at 0x17f1fe040> and will run it as-is.\n",
      "Please report this to the TensorFlow team. When filing the bug, set the verbosity to 10 (on Linux, `export AUTOGRAPH_VERBOSITY=10`) and attach the full output.\n",
      "Cause: unsupported operand type(s) for -: 'NoneType' and 'int'\n",
      "To silence this warning, decorate the function with @tf.autograph.experimental.do_not_convert\n",
      "11/11 [==============================] - 1s 29ms/step - loss: 0.7945 - categorical_accuracy: 0.5170 - val_loss: 0.7394 - val_categorical_accuracy: 0.5797\n",
      "Epoch 2/100\n",
      "11/11 [==============================] - 0s 2ms/step - loss: 0.6639 - categorical_accuracy: 0.5961 - val_loss: 0.7255 - val_categorical_accuracy: 0.6036\n",
      "Epoch 3/100\n",
      "11/11 [==============================] - 0s 2ms/step - loss: 0.5995 - categorical_accuracy: 0.6759 - val_loss: 0.7713 - val_categorical_accuracy: 0.5786\n",
      "Epoch 4/100\n",
      "11/11 [==============================] - 0s 2ms/step - loss: 0.5300 - categorical_accuracy: 0.7465 - val_loss: 0.7596 - val_categorical_accuracy: 0.6036\n",
      "Epoch 5/100\n",
      "11/11 [==============================] - 0s 2ms/step - loss: 0.4800 - categorical_accuracy: 0.7927 - val_loss: 0.7943 - val_categorical_accuracy: 0.6276\n",
      "Epoch 6/100\n",
      "11/11 [==============================] - 0s 2ms/step - loss: 0.4446 - categorical_accuracy: 0.8268 - val_loss: 0.9481 - val_categorical_accuracy: 0.5991\n",
      "Epoch 7/100\n",
      "11/11 [==============================] - 0s 2ms/step - loss: 0.3486 - categorical_accuracy: 0.8702 - val_loss: 0.8797 - val_categorical_accuracy: 0.6560\n",
      "Epoch 8/100\n",
      "11/11 [==============================] - 0s 2ms/step - loss: 0.3059 - categorical_accuracy: 0.8934 - val_loss: 0.9987 - val_categorical_accuracy: 0.6264\n",
      "Epoch 9/100\n",
      "11/11 [==============================] - 0s 2ms/step - loss: 0.2434 - categorical_accuracy: 0.9208 - val_loss: 1.1498 - val_categorical_accuracy: 0.6082\n",
      "Epoch 10/100\n",
      "11/11 [==============================] - 0s 2ms/step - loss: 0.1983 - categorical_accuracy: 0.9456 - val_loss: 1.2733 - val_categorical_accuracy: 0.6207\n",
      "Epoch 11/100\n",
      "11/11 [==============================] - 0s 2ms/step - loss: 0.1749 - categorical_accuracy: 0.9426 - val_loss: 1.2976 - val_categorical_accuracy: 0.6298\n",
      "Epoch 12/100\n",
      "11/11 [==============================] - 0s 2ms/step - loss: 0.1312 - categorical_accuracy: 0.9581 - val_loss: 1.4551 - val_categorical_accuracy: 0.6321\n",
      "Epoch 13/100\n",
      "11/11 [==============================] - 0s 2ms/step - loss: 0.1025 - categorical_accuracy: 0.9778 - val_loss: 1.6498 - val_categorical_accuracy: 0.6458\n",
      "Epoch 14/100\n",
      "11/11 [==============================] - 0s 2ms/step - loss: 0.0883 - categorical_accuracy: 0.9802 - val_loss: 1.5753 - val_categorical_accuracy: 0.6595\n",
      "Epoch 15/100\n",
      "11/11 [==============================] - 0s 2ms/step - loss: 0.0599 - categorical_accuracy: 0.9891 - val_loss: 1.6646 - val_categorical_accuracy: 0.6560\n",
      "Epoch 16/100\n",
      "11/11 [==============================] - 0s 2ms/step - loss: 0.0490 - categorical_accuracy: 0.9886 - val_loss: 1.9071 - val_categorical_accuracy: 0.6424\n",
      "Epoch 17/100\n",
      "11/11 [==============================] - 0s 2ms/step - loss: 0.0453 - categorical_accuracy: 0.9926 - val_loss: 2.0540 - val_categorical_accuracy: 0.6446\n",
      "Epoch 18/100\n",
      "11/11 [==============================] - 0s 2ms/step - loss: 0.0352 - categorical_accuracy: 0.9966 - val_loss: 2.1598 - val_categorical_accuracy: 0.6310\n",
      "Epoch 19/100\n",
      "11/11 [==============================] - 0s 2ms/step - loss: 0.0342 - categorical_accuracy: 0.9931 - val_loss: 2.1212 - val_categorical_accuracy: 0.6276\n",
      "Epoch 20/100\n",
      "11/11 [==============================] - 0s 2ms/step - loss: 0.0286 - categorical_accuracy: 0.9938 - val_loss: 2.3522 - val_categorical_accuracy: 0.6390\n",
      "Epoch 21/100\n",
      "11/11 [==============================] - 0s 2ms/step - loss: 0.0273 - categorical_accuracy: 0.9964 - val_loss: 2.4569 - val_categorical_accuracy: 0.6503\n",
      "Epoch 22/100\n",
      "11/11 [==============================] - 0s 2ms/step - loss: 0.0221 - categorical_accuracy: 0.9967 - val_loss: 2.5048 - val_categorical_accuracy: 0.6150\n",
      "Epoch 23/100\n",
      "11/11 [==============================] - 0s 2ms/step - loss: 0.0209 - categorical_accuracy: 0.9970 - val_loss: 2.7334 - val_categorical_accuracy: 0.6105\n",
      "Epoch 24/100\n",
      "11/11 [==============================] - 0s 2ms/step - loss: 0.0185 - categorical_accuracy: 0.9969 - val_loss: 2.6056 - val_categorical_accuracy: 0.6185\n",
      "Epoch 25/100\n",
      "11/11 [==============================] - 0s 2ms/step - loss: 0.0145 - categorical_accuracy: 0.9978 - val_loss: 2.4944 - val_categorical_accuracy: 0.6481\n",
      "Epoch 26/100\n",
      "11/11 [==============================] - 0s 2ms/step - loss: 0.0132 - categorical_accuracy: 0.9995 - val_loss: 3.1562 - val_categorical_accuracy: 0.6071\n",
      "Epoch 27/100\n",
      "11/11 [==============================] - 0s 2ms/step - loss: 0.0157 - categorical_accuracy: 0.9956 - val_loss: 2.8495 - val_categorical_accuracy: 0.6264\n",
      "Epoch 28/100\n",
      "11/11 [==============================] - 0s 2ms/step - loss: 0.0133 - categorical_accuracy: 0.9994 - val_loss: 3.1342 - val_categorical_accuracy: 0.6002\n",
      "Epoch 29/100\n",
      "11/11 [==============================] - 0s 2ms/step - loss: 0.0105 - categorical_accuracy: 0.9990 - val_loss: 2.9507 - val_categorical_accuracy: 0.6367\n",
      "Epoch 30/100\n",
      "11/11 [==============================] - 0s 2ms/step - loss: 0.0134 - categorical_accuracy: 0.9982 - val_loss: 3.3205 - val_categorical_accuracy: 0.6162\n",
      "Epoch 31/100\n",
      "11/11 [==============================] - 0s 2ms/step - loss: 0.0096 - categorical_accuracy: 0.9986 - val_loss: 3.0247 - val_categorical_accuracy: 0.6458\n",
      "Epoch 32/100\n",
      "11/11 [==============================] - 0s 2ms/step - loss: 0.0122 - categorical_accuracy: 0.9986 - val_loss: 3.2424 - val_categorical_accuracy: 0.6481\n",
      "Epoch 33/100\n",
      "11/11 [==============================] - 0s 2ms/step - loss: 0.0084 - categorical_accuracy: 0.9992 - val_loss: 3.3822 - val_categorical_accuracy: 0.6230\n",
      "Epoch 34/100\n",
      "11/11 [==============================] - 0s 2ms/step - loss: 0.0097 - categorical_accuracy: 0.9972 - val_loss: 3.2856 - val_categorical_accuracy: 0.6458\n",
      "Epoch 35/100\n",
      "11/11 [==============================] - 0s 2ms/step - loss: 0.0074 - categorical_accuracy: 0.9982 - val_loss: 3.5671 - val_categorical_accuracy: 0.6298\n",
      "Epoch 36/100\n",
      "11/11 [==============================] - 0s 2ms/step - loss: 0.0063 - categorical_accuracy: 0.9990 - val_loss: 3.4437 - val_categorical_accuracy: 0.6241\n",
      "Epoch 37/100\n",
      "11/11 [==============================] - 0s 2ms/step - loss: 0.0069 - categorical_accuracy: 0.9993 - val_loss: 3.4004 - val_categorical_accuracy: 0.6424\n",
      "Epoch 38/100\n",
      "11/11 [==============================] - 0s 2ms/step - loss: 0.0054 - categorical_accuracy: 0.9997 - val_loss: 3.4349 - val_categorical_accuracy: 0.6264\n",
      "Epoch 39/100\n",
      "11/11 [==============================] - 0s 2ms/step - loss: 0.0040 - categorical_accuracy: 1.0000 - val_loss: 3.8638 - val_categorical_accuracy: 0.6298\n",
      "Epoch 40/100\n",
      "11/11 [==============================] - 0s 2ms/step - loss: 0.0103 - categorical_accuracy: 0.9977 - val_loss: 4.1141 - val_categorical_accuracy: 0.6059\n",
      "Epoch 41/100\n",
      "11/11 [==============================] - 0s 2ms/step - loss: 0.0065 - categorical_accuracy: 0.9983 - val_loss: 3.8050 - val_categorical_accuracy: 0.6435\n",
      "Epoch 42/100\n",
      "11/11 [==============================] - 0s 2ms/step - loss: 0.0045 - categorical_accuracy: 1.0000 - val_loss: 3.5909 - val_categorical_accuracy: 0.6549\n",
      "Epoch 43/100\n",
      "11/11 [==============================] - 0s 2ms/step - loss: 0.0044 - categorical_accuracy: 1.0000 - val_loss: 3.5087 - val_categorical_accuracy: 0.6651\n",
      "Epoch 44/100\n"
     ]
    },
    {
     "name": "stdout",
     "output_type": "stream",
     "text": [
      "11/11 [==============================] - 0s 2ms/step - loss: 0.0062 - categorical_accuracy: 0.9991 - val_loss: 3.7298 - val_categorical_accuracy: 0.6412\n",
      "Epoch 45/100\n",
      "11/11 [==============================] - 0s 2ms/step - loss: 0.0035 - categorical_accuracy: 0.9998 - val_loss: 3.6329 - val_categorical_accuracy: 0.6298\n",
      "Epoch 46/100\n",
      "11/11 [==============================] - 0s 2ms/step - loss: 0.0041 - categorical_accuracy: 0.9991 - val_loss: 4.1084 - val_categorical_accuracy: 0.6196\n",
      "Epoch 47/100\n",
      "11/11 [==============================] - 0s 2ms/step - loss: 0.0030 - categorical_accuracy: 0.9993 - val_loss: 3.8042 - val_categorical_accuracy: 0.6355\n",
      "Epoch 48/100\n",
      "11/11 [==============================] - 0s 2ms/step - loss: 0.0029 - categorical_accuracy: 1.0000 - val_loss: 4.2918 - val_categorical_accuracy: 0.6298\n",
      "Epoch 49/100\n",
      "11/11 [==============================] - 0s 2ms/step - loss: 0.0061 - categorical_accuracy: 0.9994 - val_loss: 4.0550 - val_categorical_accuracy: 0.6526\n",
      "Epoch 50/100\n",
      "11/11 [==============================] - 0s 2ms/step - loss: 0.0038 - categorical_accuracy: 0.9996 - val_loss: 3.8247 - val_categorical_accuracy: 0.6412\n",
      "Epoch 51/100\n",
      "11/11 [==============================] - 0s 2ms/step - loss: 0.0036 - categorical_accuracy: 0.9993 - val_loss: 4.6456 - val_categorical_accuracy: 0.6173\n",
      "Epoch 52/100\n",
      "11/11 [==============================] - 0s 2ms/step - loss: 0.0034 - categorical_accuracy: 0.9998 - val_loss: 4.4112 - val_categorical_accuracy: 0.6185\n",
      "Epoch 53/100\n",
      "11/11 [==============================] - 0s 2ms/step - loss: 0.0049 - categorical_accuracy: 0.9996 - val_loss: 4.1598 - val_categorical_accuracy: 0.6401\n",
      "Epoch 54/100\n",
      "11/11 [==============================] - 0s 2ms/step - loss: 0.0048 - categorical_accuracy: 0.9988 - val_loss: 4.3551 - val_categorical_accuracy: 0.6150\n",
      "Epoch 55/100\n",
      "11/11 [==============================] - 0s 2ms/step - loss: 0.0026 - categorical_accuracy: 0.9998 - val_loss: 4.4149 - val_categorical_accuracy: 0.6298\n",
      "Epoch 56/100\n",
      "11/11 [==============================] - 0s 2ms/step - loss: 0.0039 - categorical_accuracy: 0.9992 - val_loss: 4.6702 - val_categorical_accuracy: 0.6093\n",
      "Epoch 57/100\n",
      "11/11 [==============================] - 0s 2ms/step - loss: 0.0021 - categorical_accuracy: 1.0000 - val_loss: 4.2658 - val_categorical_accuracy: 0.6492\n",
      "Epoch 58/100\n",
      "11/11 [==============================] - 0s 2ms/step - loss: 0.0045 - categorical_accuracy: 0.9991 - val_loss: 4.4366 - val_categorical_accuracy: 0.6355\n",
      "Epoch 59/100\n",
      "11/11 [==============================] - 0s 2ms/step - loss: 0.0022 - categorical_accuracy: 0.9997 - val_loss: 4.7234 - val_categorical_accuracy: 0.6287\n",
      "Epoch 60/100\n",
      "11/11 [==============================] - 0s 2ms/step - loss: 0.0023 - categorical_accuracy: 1.0000 - val_loss: 4.7713 - val_categorical_accuracy: 0.6276\n",
      "Epoch 61/100\n",
      "11/11 [==============================] - 0s 2ms/step - loss: 0.0037 - categorical_accuracy: 1.0000 - val_loss: 5.3215 - val_categorical_accuracy: 0.6071\n",
      "Epoch 62/100\n",
      "11/11 [==============================] - 0s 2ms/step - loss: 0.0027 - categorical_accuracy: 1.0000 - val_loss: 4.5071 - val_categorical_accuracy: 0.6481\n",
      "Epoch 63/100\n",
      "11/11 [==============================] - 0s 2ms/step - loss: 0.0017 - categorical_accuracy: 1.0000 - val_loss: 5.2656 - val_categorical_accuracy: 0.6207\n",
      "Epoch 64/100\n",
      "11/11 [==============================] - 0s 2ms/step - loss: 0.0029 - categorical_accuracy: 0.9984 - val_loss: 5.1450 - val_categorical_accuracy: 0.6128\n",
      "Epoch 65/100\n",
      "11/11 [==============================] - 0s 2ms/step - loss: 0.0026 - categorical_accuracy: 0.9996 - val_loss: 4.9986 - val_categorical_accuracy: 0.6333\n",
      "Epoch 66/100\n",
      "11/11 [==============================] - 0s 2ms/step - loss: 0.0033 - categorical_accuracy: 0.9987 - val_loss: 4.8042 - val_categorical_accuracy: 0.6390\n",
      "Epoch 67/100\n",
      "11/11 [==============================] - 0s 2ms/step - loss: 0.0017 - categorical_accuracy: 1.0000 - val_loss: 4.9924 - val_categorical_accuracy: 0.6412\n",
      "Epoch 68/100\n",
      "11/11 [==============================] - 0s 2ms/step - loss: 0.0029 - categorical_accuracy: 0.9993 - val_loss: 5.0783 - val_categorical_accuracy: 0.6378\n",
      "Epoch 69/100\n",
      "11/11 [==============================] - 0s 2ms/step - loss: 0.0068 - categorical_accuracy: 0.9978 - val_loss: 5.2566 - val_categorical_accuracy: 0.6219\n",
      "Epoch 70/100\n",
      "11/11 [==============================] - 0s 2ms/step - loss: 0.0021 - categorical_accuracy: 0.9991 - val_loss: 5.1673 - val_categorical_accuracy: 0.6207\n",
      "Epoch 71/100\n",
      "11/11 [==============================] - 0s 2ms/step - loss: 0.0023 - categorical_accuracy: 0.9997 - val_loss: 5.0575 - val_categorical_accuracy: 0.6241\n",
      "Epoch 72/100\n",
      "11/11 [==============================] - 0s 2ms/step - loss: 0.0019 - categorical_accuracy: 1.0000 - val_loss: 5.6743 - val_categorical_accuracy: 0.6185\n",
      "Epoch 73/100\n",
      "11/11 [==============================] - 0s 2ms/step - loss: 0.0014 - categorical_accuracy: 1.0000 - val_loss: 4.8789 - val_categorical_accuracy: 0.6538\n",
      "Epoch 74/100\n",
      "11/11 [==============================] - 0s 2ms/step - loss: 0.0023 - categorical_accuracy: 1.0000 - val_loss: 5.0626 - val_categorical_accuracy: 0.6469\n",
      "Epoch 75/100\n",
      "11/11 [==============================] - 0s 2ms/step - loss: 0.0010 - categorical_accuracy: 0.9998 - val_loss: 5.0256 - val_categorical_accuracy: 0.6595\n",
      "Epoch 76/100\n",
      "11/11 [==============================] - 0s 2ms/step - loss: 0.0060 - categorical_accuracy: 0.9964 - val_loss: 5.1095 - val_categorical_accuracy: 0.6116\n",
      "Epoch 77/100\n",
      "11/11 [==============================] - 0s 2ms/step - loss: 0.0022 - categorical_accuracy: 0.9995 - val_loss: 5.5630 - val_categorical_accuracy: 0.6424\n",
      "Epoch 78/100\n",
      "11/11 [==============================] - 0s 2ms/step - loss: 0.0023 - categorical_accuracy: 0.9993 - val_loss: 5.0150 - val_categorical_accuracy: 0.6458\n",
      "Epoch 79/100\n",
      "11/11 [==============================] - 0s 2ms/step - loss: 8.1095e-04 - categorical_accuracy: 1.0000 - val_loss: 5.7125 - val_categorical_accuracy: 0.6310\n",
      "Epoch 80/100\n",
      "11/11 [==============================] - 0s 2ms/step - loss: 0.0016 - categorical_accuracy: 1.0000 - val_loss: 5.2068 - val_categorical_accuracy: 0.6560\n",
      "Epoch 81/100\n",
      "11/11 [==============================] - 0s 2ms/step - loss: 5.6844e-04 - categorical_accuracy: 1.0000 - val_loss: 5.2574 - val_categorical_accuracy: 0.6481\n",
      "Epoch 82/100\n",
      "11/11 [==============================] - 0s 2ms/step - loss: 0.0018 - categorical_accuracy: 0.9995 - val_loss: 5.9411 - val_categorical_accuracy: 0.6310\n",
      "Epoch 83/100\n",
      "11/11 [==============================] - 0s 2ms/step - loss: 0.0029 - categorical_accuracy: 0.9996 - val_loss: 5.1857 - val_categorical_accuracy: 0.6538\n",
      "Epoch 84/100\n",
      "11/11 [==============================] - 0s 2ms/step - loss: 0.0012 - categorical_accuracy: 1.0000 - val_loss: 5.3465 - val_categorical_accuracy: 0.6298\n",
      "Epoch 85/100\n",
      "11/11 [==============================] - 0s 2ms/step - loss: 0.0017 - categorical_accuracy: 0.9997 - val_loss: 5.5969 - val_categorical_accuracy: 0.6333\n",
      "Epoch 86/100\n",
      "11/11 [==============================] - 0s 2ms/step - loss: 0.0013 - categorical_accuracy: 1.0000 - val_loss: 5.1696 - val_categorical_accuracy: 0.6401\n",
      "Epoch 87/100\n",
      "11/11 [==============================] - 0s 2ms/step - loss: 0.0014 - categorical_accuracy: 0.9996 - val_loss: 5.3827 - val_categorical_accuracy: 0.6321\n",
      "Epoch 88/100\n",
      "11/11 [==============================] - 0s 2ms/step - loss: 0.0016 - categorical_accuracy: 1.0000 - val_loss: 5.6721 - val_categorical_accuracy: 0.6367\n",
      "Epoch 89/100\n",
      "11/11 [==============================] - 0s 2ms/step - loss: 0.0016 - categorical_accuracy: 0.9997 - val_loss: 6.0191 - val_categorical_accuracy: 0.6219\n",
      "Epoch 90/100\n",
      "11/11 [==============================] - 0s 2ms/step - loss: 0.0011 - categorical_accuracy: 1.0000 - val_loss: 5.8166 - val_categorical_accuracy: 0.6321\n",
      "Epoch 91/100\n",
      "11/11 [==============================] - 0s 2ms/step - loss: 0.0017 - categorical_accuracy: 1.0000 - val_loss: 5.5097 - val_categorical_accuracy: 0.6287\n",
      "Epoch 92/100\n",
      "11/11 [==============================] - 0s 2ms/step - loss: 9.2517e-04 - categorical_accuracy: 1.0000 - val_loss: 5.7982 - val_categorical_accuracy: 0.6321\n",
      "Epoch 93/100\n"
     ]
    },
    {
     "name": "stdout",
     "output_type": "stream",
     "text": [
      "11/11 [==============================] - 0s 2ms/step - loss: 0.0011 - categorical_accuracy: 1.0000 - val_loss: 5.2621 - val_categorical_accuracy: 0.6503\n",
      "Epoch 94/100\n",
      "11/11 [==============================] - 0s 2ms/step - loss: 5.6838e-04 - categorical_accuracy: 1.0000 - val_loss: 6.0844 - val_categorical_accuracy: 0.6355\n",
      "Epoch 95/100\n",
      "11/11 [==============================] - 0s 2ms/step - loss: 0.0011 - categorical_accuracy: 1.0000 - val_loss: 5.6692 - val_categorical_accuracy: 0.6367\n",
      "Epoch 96/100\n",
      "11/11 [==============================] - 0s 2ms/step - loss: 9.5500e-04 - categorical_accuracy: 0.9998 - val_loss: 5.8674 - val_categorical_accuracy: 0.6162\n",
      "Epoch 97/100\n",
      "11/11 [==============================] - 0s 2ms/step - loss: 7.0049e-04 - categorical_accuracy: 1.0000 - val_loss: 5.6399 - val_categorical_accuracy: 0.6412\n",
      "Epoch 98/100\n",
      "11/11 [==============================] - 0s 2ms/step - loss: 0.0012 - categorical_accuracy: 1.0000 - val_loss: 6.2259 - val_categorical_accuracy: 0.6071\n",
      "Epoch 99/100\n",
      "11/11 [==============================] - 0s 2ms/step - loss: 0.0012 - categorical_accuracy: 1.0000 - val_loss: 5.6429 - val_categorical_accuracy: 0.6606\n",
      "Epoch 100/100\n",
      "11/11 [==============================] - 0s 2ms/step - loss: 6.4520e-04 - categorical_accuracy: 1.0000 - val_loss: 5.9960 - val_categorical_accuracy: 0.6241\n"
     ]
    }
   ],
   "source": [
    "history = model.fit(x_train, y_train, batch_size=200, epochs=100, validation_split=0.3) "
   ]
  },
  {
   "cell_type": "markdown",
   "id": "2291f753",
   "metadata": {},
   "source": [
    "#### 모델 정확도 측정"
   ]
  },
  {
   "cell_type": "code",
   "execution_count": 17,
   "id": "d4328d18",
   "metadata": {
    "ExecuteTime": {
     "end_time": "2021-11-29T13:25:41.796782Z",
     "start_time": "2021-11-29T13:25:41.730554Z"
    }
   },
   "outputs": [
    {
     "name": "stdout",
     "output_type": "stream",
     "text": [
      "23/23 [==============================] - 0s 503us/step - loss: 6.2397e-05 - categorical_accuracy: 1.0000\n",
      "loss (cross-entropy) : 6.239732465473935e-05\n",
      "test accuracy : 1.0\n"
     ]
    }
   ],
   "source": [
    "result = model.evaluate(x_test, y_test)\n",
    "\n",
    "print('loss (cross-entropy) :', result[0])\n",
    "print('test accuracy :', result[1])"
   ]
  },
  {
   "cell_type": "code",
   "execution_count": 19,
   "id": "4f5d8b25",
   "metadata": {
    "ExecuteTime": {
     "end_time": "2021-11-29T13:25:47.609773Z",
     "start_time": "2021-11-29T13:25:47.511061Z"
    }
   },
   "outputs": [
    {
     "data": {
      "image/png": "[encoded data removed]",
      "text/plain": [
       "<Figure size 432x288 with 1 Axes>"
      ]
     },
     "metadata": {
      "needs_background": "light"
     },
     "output_type": "display_data"
    }
   ],
   "source": [
    "acc = history.history['categorical_accuracy']\n",
    "val_acc = history.history['val_categorical_accuracy']\n",
    "\n",
    "x_len = np.arange(len(acc))\n",
    "\n",
    "plt.plot(x_len, acc, marker='.', c='blue', label=\"Train-set Acc.\")\n",
    "plt.plot(x_len, val_acc, marker='.', c='red', label=\"Validation-set Acc.\")\n",
    "\n",
    "plt.legend(loc='upper right')\n",
    "plt.grid()\n",
    "plt.xlabel('epoch')\n",
    "plt.ylabel('Accuracy')\n",
    "plt.show()"
   ]
  },
  {
   "cell_type": "markdown",
   "id": "7ac29ae2",
   "metadata": {},
   "source": [
    "#### 모델 저장"
   ]
  },
  {
   "cell_type": "code",
   "execution_count": 20,
   "id": "020de047",
   "metadata": {
    "ExecuteTime": {
     "end_time": "2021-11-29T13:26:02.457020Z",
     "start_time": "2021-11-29T13:26:02.430106Z"
    }
   },
   "outputs": [],
   "source": [
    "model.save('models/model_ver3.h5')"
   ]
  },
  {
   "cell_type": "markdown",
   "id": "08a86ed3",
   "metadata": {},
   "source": [
    "### 모델 테스트"
   ]
  },
  {
   "cell_type": "code",
   "execution_count": 23,
   "id": "5968ad26",
   "metadata": {
    "ExecuteTime": {
     "end_time": "2021-11-29T13:26:29.378240Z",
     "start_time": "2021-11-29T13:26:29.375395Z"
    }
   },
   "outputs": [],
   "source": [
    "angles = [0.1, 0.4, 0.4]"
   ]
  },
  {
   "cell_type": "code",
   "execution_count": 24,
   "id": "189ea404",
   "metadata": {
    "ExecuteTime": {
     "end_time": "2021-11-29T13:26:29.865419Z",
     "start_time": "2021-11-29T13:26:29.773421Z"
    }
   },
   "outputs": [
    {
     "name": "stdout",
     "output_type": "stream",
     "text": [
      "[[1.0000000e+00 3.0691776e-09]]\n"
     ]
    }
   ],
   "source": [
    "pred = model.predict([angles])\n",
    "print(pred)"
   ]
  },
  {
   "cell_type": "code",
   "execution_count": 25,
   "id": "1d26c20c",
   "metadata": {
    "ExecuteTime": {
     "end_time": "2021-11-29T13:26:31.614472Z",
     "start_time": "2021-11-29T13:26:31.609308Z"
    }
   },
   "outputs": [
    {
     "data": {
      "text/plain": [
       "1.0"
      ]
     },
     "execution_count": 25,
     "metadata": {},
     "output_type": "execute_result"
    }
   ],
   "source": [
    "pred[0][0]"
   ]
  },
  {
   "cell_type": "code",
   "execution_count": null,
   "id": "651f91f2",
   "metadata": {},
   "outputs": [],
   "source": []
  }
 ],
 "metadata": {
  "kernelspec": {
   "display_name": "Python 3 (ipykernel)",
   "language": "python",
   "name": "python3"
  },
  "language_info": {
   "codemirror_mode": {
    "name": "ipython",
    "version": 3
   },
   "file_extension": ".py",
   "mimetype": "text/x-python",
   "name": "python",
   "nbconvert_exporter": "python",
   "pygments_lexer": "ipython3",
   "version": "3.8.10"
  },
  "toc": {
   "base_numbering": 1,
   "nav_menu": {},
   "number_sections": true,
   "sideBar": true,
   "skip_h1_title": false,
   "title_cell": "Table of Contents",
   "title_sidebar": "Contents",
   "toc_cell": false,
   "toc_position": {},
   "toc_section_display": true,
   "toc_window_display": false
  }
 },
 "nbformat": 4,
 "nbformat_minor": 5
}
