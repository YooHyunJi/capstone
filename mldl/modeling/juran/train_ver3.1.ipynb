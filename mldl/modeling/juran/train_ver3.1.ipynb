{
 "cells": [
  {
   "cell_type": "markdown",
   "id": "062e57c7",
   "metadata": {},
   "source": [
    "## Train ver3.1\n",
    "\n",
    "@Juran 2021.11.30\n",
    "\n",
    "- create_data_ver3.1로 생성된 데이터셋 사용\n",
    "- 미디어파이프 랜드마크 8-5번, 8-0번, 7-0번 사이 거리 측정하여 데이터셋 생성\n",
    "- ver3.0 z좌표 고려 안함 & 코드 오류 수정 -> 두 벡터 사이 유클리드 거리 사용"
   ]
  },
  {
   "cell_type": "code",
   "execution_count": 2,
   "id": "88a33e6c",
   "metadata": {
    "ExecuteTime": {
     "end_time": "2021-11-30T06:50:39.701446Z",
     "start_time": "2021-11-30T06:50:39.698538Z"
    }
   },
   "outputs": [],
   "source": [
    "import pandas as pd\n",
    "import numpy as np\n",
    "import matplotlib.pyplot as plt"
   ]
  },
  {
   "cell_type": "code",
   "execution_count": null,
   "id": "f8dd4628",
   "metadata": {},
   "outputs": [],
   "source": [
    "# 1 -> click\n",
    "# 0 -> none"
   ]
  },
  {
   "cell_type": "markdown",
   "id": "10399827",
   "metadata": {},
   "source": [
    "### 데이터셋 로드"
   ]
  },
  {
   "cell_type": "code",
   "execution_count": 3,
   "id": "310a6ade",
   "metadata": {
    "ExecuteTime": {
     "end_time": "2021-11-30T06:50:45.052795Z",
     "start_time": "2021-11-30T06:50:45.029679Z"
    }
   },
   "outputs": [
    {
     "data": {
      "text/html": [
       "<div>\n",
       "<style scoped>\n",
       "    .dataframe tbody tr th:only-of-type {\n",
       "        vertical-align: middle;\n",
       "    }\n",
       "\n",
       "    .dataframe tbody tr th {\n",
       "        vertical-align: top;\n",
       "    }\n",
       "\n",
       "    .dataframe thead th {\n",
       "        text-align: right;\n",
       "    }\n",
       "</style>\n",
       "<table border=\"1\" class=\"dataframe\">\n",
       "  <thead>\n",
       "    <tr style=\"text-align: right;\">\n",
       "      <th></th>\n",
       "      <th>0</th>\n",
       "      <th>1</th>\n",
       "      <th>2</th>\n",
       "      <th>3</th>\n",
       "    </tr>\n",
       "  </thead>\n",
       "  <tbody>\n",
       "    <tr>\n",
       "      <th>0</th>\n",
       "      <td>0.123421</td>\n",
       "      <td>0.348014</td>\n",
       "      <td>0.375801</td>\n",
       "      <td>1</td>\n",
       "    </tr>\n",
       "    <tr>\n",
       "      <th>1</th>\n",
       "      <td>0.127347</td>\n",
       "      <td>0.346963</td>\n",
       "      <td>0.376199</td>\n",
       "      <td>1</td>\n",
       "    </tr>\n",
       "    <tr>\n",
       "      <th>2</th>\n",
       "      <td>0.125835</td>\n",
       "      <td>0.347519</td>\n",
       "      <td>0.376901</td>\n",
       "      <td>1</td>\n",
       "    </tr>\n",
       "    <tr>\n",
       "      <th>3</th>\n",
       "      <td>0.123494</td>\n",
       "      <td>0.346019</td>\n",
       "      <td>0.376633</td>\n",
       "      <td>1</td>\n",
       "    </tr>\n",
       "    <tr>\n",
       "      <th>4</th>\n",
       "      <td>0.124907</td>\n",
       "      <td>0.347254</td>\n",
       "      <td>0.376921</td>\n",
       "      <td>1</td>\n",
       "    </tr>\n",
       "  </tbody>\n",
       "</table>\n",
       "</div>"
      ],
      "text/plain": [
       "          0         1         2  3\n",
       "0  0.123421  0.348014  0.375801  1\n",
       "1  0.127347  0.346963  0.376199  1\n",
       "2  0.125835  0.347519  0.376901  1\n",
       "3  0.123494  0.346019  0.376633  1\n",
       "4  0.124907  0.347254  0.376921  1"
      ]
     },
     "execution_count": 3,
     "metadata": {},
     "output_type": "execute_result"
    }
   ],
   "source": [
    "df_click = pd.read_csv('dataset/dataset_click_ver3_1.csv')\n",
    "del df_click['Unnamed: 0']\n",
    "df_click.head()"
   ]
  },
  {
   "cell_type": "code",
   "execution_count": 5,
   "id": "40b94a3c",
   "metadata": {
    "ExecuteTime": {
     "end_time": "2021-11-30T06:51:05.237235Z",
     "start_time": "2021-11-30T06:51:05.222196Z"
    }
   },
   "outputs": [
    {
     "data": {
      "text/html": [
       "<div>\n",
       "<style scoped>\n",
       "    .dataframe tbody tr th:only-of-type {\n",
       "        vertical-align: middle;\n",
       "    }\n",
       "\n",
       "    .dataframe tbody tr th {\n",
       "        vertical-align: top;\n",
       "    }\n",
       "\n",
       "    .dataframe thead th {\n",
       "        text-align: right;\n",
       "    }\n",
       "</style>\n",
       "<table border=\"1\" class=\"dataframe\">\n",
       "  <thead>\n",
       "    <tr style=\"text-align: right;\">\n",
       "      <th></th>\n",
       "      <th>0</th>\n",
       "      <th>1</th>\n",
       "      <th>2</th>\n",
       "      <th>3</th>\n",
       "    </tr>\n",
       "  </thead>\n",
       "  <tbody>\n",
       "    <tr>\n",
       "      <th>1829</th>\n",
       "      <td>0.084860</td>\n",
       "      <td>0.250267</td>\n",
       "      <td>0.313357</td>\n",
       "      <td>1</td>\n",
       "    </tr>\n",
       "    <tr>\n",
       "      <th>1830</th>\n",
       "      <td>0.088588</td>\n",
       "      <td>0.252296</td>\n",
       "      <td>0.315560</td>\n",
       "      <td>1</td>\n",
       "    </tr>\n",
       "    <tr>\n",
       "      <th>1831</th>\n",
       "      <td>0.087665</td>\n",
       "      <td>0.250667</td>\n",
       "      <td>0.311527</td>\n",
       "      <td>1</td>\n",
       "    </tr>\n",
       "    <tr>\n",
       "      <th>1832</th>\n",
       "      <td>0.088363</td>\n",
       "      <td>0.252362</td>\n",
       "      <td>0.313507</td>\n",
       "      <td>1</td>\n",
       "    </tr>\n",
       "    <tr>\n",
       "      <th>1833</th>\n",
       "      <td>0.088911</td>\n",
       "      <td>0.253370</td>\n",
       "      <td>0.316330</td>\n",
       "      <td>1</td>\n",
       "    </tr>\n",
       "  </tbody>\n",
       "</table>\n",
       "</div>"
      ],
      "text/plain": [
       "             0         1         2  3\n",
       "1829  0.084860  0.250267  0.313357  1\n",
       "1830  0.088588  0.252296  0.315560  1\n",
       "1831  0.087665  0.250667  0.311527  1\n",
       "1832  0.088363  0.252362  0.313507  1\n",
       "1833  0.088911  0.253370  0.316330  1"
      ]
     },
     "execution_count": 5,
     "metadata": {},
     "output_type": "execute_result"
    }
   ],
   "source": [
    "df_click.tail()"
   ]
  },
  {
   "cell_type": "code",
   "execution_count": 4,
   "id": "7a84475a",
   "metadata": {
    "ExecuteTime": {
     "end_time": "2021-11-30T06:50:47.920073Z",
     "start_time": "2021-11-30T06:50:47.903286Z"
    }
   },
   "outputs": [
    {
     "data": {
      "text/html": [
       "<div>\n",
       "<style scoped>\n",
       "    .dataframe tbody tr th:only-of-type {\n",
       "        vertical-align: middle;\n",
       "    }\n",
       "\n",
       "    .dataframe tbody tr th {\n",
       "        vertical-align: top;\n",
       "    }\n",
       "\n",
       "    .dataframe thead th {\n",
       "        text-align: right;\n",
       "    }\n",
       "</style>\n",
       "<table border=\"1\" class=\"dataframe\">\n",
       "  <thead>\n",
       "    <tr style=\"text-align: right;\">\n",
       "      <th></th>\n",
       "      <th>0</th>\n",
       "      <th>1</th>\n",
       "      <th>2</th>\n",
       "      <th>3</th>\n",
       "    </tr>\n",
       "  </thead>\n",
       "  <tbody>\n",
       "    <tr>\n",
       "      <th>0</th>\n",
       "      <td>0.243827</td>\n",
       "      <td>0.490555</td>\n",
       "      <td>0.429470</td>\n",
       "      <td>0</td>\n",
       "    </tr>\n",
       "    <tr>\n",
       "      <th>1</th>\n",
       "      <td>0.238780</td>\n",
       "      <td>0.495131</td>\n",
       "      <td>0.432374</td>\n",
       "      <td>0</td>\n",
       "    </tr>\n",
       "    <tr>\n",
       "      <th>2</th>\n",
       "      <td>0.230851</td>\n",
       "      <td>0.484009</td>\n",
       "      <td>0.423994</td>\n",
       "      <td>0</td>\n",
       "    </tr>\n",
       "    <tr>\n",
       "      <th>3</th>\n",
       "      <td>0.233743</td>\n",
       "      <td>0.483161</td>\n",
       "      <td>0.422337</td>\n",
       "      <td>0</td>\n",
       "    </tr>\n",
       "    <tr>\n",
       "      <th>4</th>\n",
       "      <td>0.230710</td>\n",
       "      <td>0.479666</td>\n",
       "      <td>0.419878</td>\n",
       "      <td>0</td>\n",
       "    </tr>\n",
       "  </tbody>\n",
       "</table>\n",
       "</div>"
      ],
      "text/plain": [
       "          0         1         2  3\n",
       "0  0.243827  0.490555  0.429470  0\n",
       "1  0.238780  0.495131  0.432374  0\n",
       "2  0.230851  0.484009  0.423994  0\n",
       "3  0.233743  0.483161  0.422337  0\n",
       "4  0.230710  0.479666  0.419878  0"
      ]
     },
     "execution_count": 4,
     "metadata": {},
     "output_type": "execute_result"
    }
   ],
   "source": [
    "df_none = pd.read_csv('dataset/dataset_none_ver3_1.csv')\n",
    "del df_none['Unnamed: 0']\n",
    "df_none.head()"
   ]
  },
  {
   "cell_type": "code",
   "execution_count": 6,
   "id": "6956714d",
   "metadata": {
    "ExecuteTime": {
     "end_time": "2021-11-30T06:51:13.340386Z",
     "start_time": "2021-11-30T06:51:13.329011Z"
    }
   },
   "outputs": [
    {
     "data": {
      "text/html": [
       "<div>\n",
       "<style scoped>\n",
       "    .dataframe tbody tr th:only-of-type {\n",
       "        vertical-align: middle;\n",
       "    }\n",
       "\n",
       "    .dataframe tbody tr th {\n",
       "        vertical-align: top;\n",
       "    }\n",
       "\n",
       "    .dataframe thead th {\n",
       "        text-align: right;\n",
       "    }\n",
       "</style>\n",
       "<table border=\"1\" class=\"dataframe\">\n",
       "  <thead>\n",
       "    <tr style=\"text-align: right;\">\n",
       "      <th></th>\n",
       "      <th>0</th>\n",
       "      <th>1</th>\n",
       "      <th>2</th>\n",
       "      <th>3</th>\n",
       "    </tr>\n",
       "  </thead>\n",
       "  <tbody>\n",
       "    <tr>\n",
       "      <th>1817</th>\n",
       "      <td>0.225320</td>\n",
       "      <td>0.458669</td>\n",
       "      <td>0.400109</td>\n",
       "      <td>0</td>\n",
       "    </tr>\n",
       "    <tr>\n",
       "      <th>1818</th>\n",
       "      <td>0.225807</td>\n",
       "      <td>0.460271</td>\n",
       "      <td>0.401534</td>\n",
       "      <td>0</td>\n",
       "    </tr>\n",
       "    <tr>\n",
       "      <th>1819</th>\n",
       "      <td>0.227421</td>\n",
       "      <td>0.459310</td>\n",
       "      <td>0.400316</td>\n",
       "      <td>0</td>\n",
       "    </tr>\n",
       "    <tr>\n",
       "      <th>1820</th>\n",
       "      <td>0.230247</td>\n",
       "      <td>0.463203</td>\n",
       "      <td>0.403559</td>\n",
       "      <td>0</td>\n",
       "    </tr>\n",
       "    <tr>\n",
       "      <th>1821</th>\n",
       "      <td>0.227566</td>\n",
       "      <td>0.461257</td>\n",
       "      <td>0.402396</td>\n",
       "      <td>0</td>\n",
       "    </tr>\n",
       "  </tbody>\n",
       "</table>\n",
       "</div>"
      ],
      "text/plain": [
       "             0         1         2  3\n",
       "1817  0.225320  0.458669  0.400109  0\n",
       "1818  0.225807  0.460271  0.401534  0\n",
       "1819  0.227421  0.459310  0.400316  0\n",
       "1820  0.230247  0.463203  0.403559  0\n",
       "1821  0.227566  0.461257  0.402396  0"
      ]
     },
     "execution_count": 6,
     "metadata": {},
     "output_type": "execute_result"
    }
   ],
   "source": [
    "df_none.tail()"
   ]
  },
  {
   "cell_type": "code",
   "execution_count": 7,
   "id": "b3c1dc14",
   "metadata": {
    "ExecuteTime": {
     "end_time": "2021-11-30T06:51:36.585409Z",
     "start_time": "2021-11-30T06:51:36.578149Z"
    }
   },
   "outputs": [
    {
     "data": {
      "text/html": [
       "<div>\n",
       "<style scoped>\n",
       "    .dataframe tbody tr th:only-of-type {\n",
       "        vertical-align: middle;\n",
       "    }\n",
       "\n",
       "    .dataframe tbody tr th {\n",
       "        vertical-align: top;\n",
       "    }\n",
       "\n",
       "    .dataframe thead th {\n",
       "        text-align: right;\n",
       "    }\n",
       "</style>\n",
       "<table border=\"1\" class=\"dataframe\">\n",
       "  <thead>\n",
       "    <tr style=\"text-align: right;\">\n",
       "      <th></th>\n",
       "      <th>0</th>\n",
       "      <th>1</th>\n",
       "      <th>2</th>\n",
       "      <th>3</th>\n",
       "    </tr>\n",
       "  </thead>\n",
       "  <tbody>\n",
       "    <tr>\n",
       "      <th>0</th>\n",
       "      <td>0.123421</td>\n",
       "      <td>0.348014</td>\n",
       "      <td>0.375801</td>\n",
       "      <td>1</td>\n",
       "    </tr>\n",
       "    <tr>\n",
       "      <th>1</th>\n",
       "      <td>0.127347</td>\n",
       "      <td>0.346963</td>\n",
       "      <td>0.376199</td>\n",
       "      <td>1</td>\n",
       "    </tr>\n",
       "    <tr>\n",
       "      <th>2</th>\n",
       "      <td>0.125835</td>\n",
       "      <td>0.347519</td>\n",
       "      <td>0.376901</td>\n",
       "      <td>1</td>\n",
       "    </tr>\n",
       "    <tr>\n",
       "      <th>3</th>\n",
       "      <td>0.123494</td>\n",
       "      <td>0.346019</td>\n",
       "      <td>0.376633</td>\n",
       "      <td>1</td>\n",
       "    </tr>\n",
       "    <tr>\n",
       "      <th>4</th>\n",
       "      <td>0.124907</td>\n",
       "      <td>0.347254</td>\n",
       "      <td>0.376921</td>\n",
       "      <td>1</td>\n",
       "    </tr>\n",
       "  </tbody>\n",
       "</table>\n",
       "</div>"
      ],
      "text/plain": [
       "          0         1         2  3\n",
       "0  0.123421  0.348014  0.375801  1\n",
       "1  0.127347  0.346963  0.376199  1\n",
       "2  0.125835  0.347519  0.376901  1\n",
       "3  0.123494  0.346019  0.376633  1\n",
       "4  0.124907  0.347254  0.376921  1"
      ]
     },
     "execution_count": 7,
     "metadata": {},
     "output_type": "execute_result"
    }
   ],
   "source": [
    "df_data = pd.concat([df_click, df_none])\n",
    "df_data.head()"
   ]
  },
  {
   "cell_type": "markdown",
   "id": "88da2f20",
   "metadata": {},
   "source": [
    "#### x데이터와 y데이터 분리"
   ]
  },
  {
   "cell_type": "code",
   "execution_count": 8,
   "id": "7007f446",
   "metadata": {
    "ExecuteTime": {
     "end_time": "2021-11-30T06:51:46.749617Z",
     "start_time": "2021-11-30T06:51:46.744589Z"
    }
   },
   "outputs": [],
   "source": [
    "df_target = df_data[['3']]\n",
    "df_data = df_data[['0', '1', '2']]"
   ]
  },
  {
   "cell_type": "code",
   "execution_count": 9,
   "id": "3fc3cd1a",
   "metadata": {
    "ExecuteTime": {
     "end_time": "2021-11-30T06:51:47.732212Z",
     "start_time": "2021-11-30T06:51:47.722380Z"
    }
   },
   "outputs": [
    {
     "data": {
      "text/html": [
       "<div>\n",
       "<style scoped>\n",
       "    .dataframe tbody tr th:only-of-type {\n",
       "        vertical-align: middle;\n",
       "    }\n",
       "\n",
       "    .dataframe tbody tr th {\n",
       "        vertical-align: top;\n",
       "    }\n",
       "\n",
       "    .dataframe thead th {\n",
       "        text-align: right;\n",
       "    }\n",
       "</style>\n",
       "<table border=\"1\" class=\"dataframe\">\n",
       "  <thead>\n",
       "    <tr style=\"text-align: right;\">\n",
       "      <th></th>\n",
       "      <th>3</th>\n",
       "    </tr>\n",
       "  </thead>\n",
       "  <tbody>\n",
       "    <tr>\n",
       "      <th>0</th>\n",
       "      <td>1</td>\n",
       "    </tr>\n",
       "    <tr>\n",
       "      <th>1</th>\n",
       "      <td>1</td>\n",
       "    </tr>\n",
       "    <tr>\n",
       "      <th>2</th>\n",
       "      <td>1</td>\n",
       "    </tr>\n",
       "    <tr>\n",
       "      <th>3</th>\n",
       "      <td>1</td>\n",
       "    </tr>\n",
       "    <tr>\n",
       "      <th>4</th>\n",
       "      <td>1</td>\n",
       "    </tr>\n",
       "  </tbody>\n",
       "</table>\n",
       "</div>"
      ],
      "text/plain": [
       "   3\n",
       "0  1\n",
       "1  1\n",
       "2  1\n",
       "3  1\n",
       "4  1"
      ]
     },
     "execution_count": 9,
     "metadata": {},
     "output_type": "execute_result"
    }
   ],
   "source": [
    "df_target.head()"
   ]
  },
  {
   "cell_type": "markdown",
   "id": "7401e57d",
   "metadata": {},
   "source": [
    "### 모델 학습"
   ]
  },
  {
   "cell_type": "markdown",
   "id": "526d7b4d",
   "metadata": {},
   "source": [
    "#### train / test split"
   ]
  },
  {
   "cell_type": "code",
   "execution_count": 10,
   "id": "b0ac3f5d",
   "metadata": {
    "ExecuteTime": {
     "end_time": "2021-11-30T06:51:50.280960Z",
     "start_time": "2021-11-30T06:51:49.401452Z"
    }
   },
   "outputs": [],
   "source": [
    "from sklearn import model_selection\n",
    "x_train, x_test, y_train, y_test = model_selection.train_test_split(df_data, df_target, test_size=0.2,random_state=0)"
   ]
  },
  {
   "cell_type": "code",
   "execution_count": 11,
   "id": "da6d8a25",
   "metadata": {
    "ExecuteTime": {
     "end_time": "2021-11-30T06:51:50.283581Z",
     "start_time": "2021-11-30T06:51:50.281906Z"
    }
   },
   "outputs": [
    {
     "name": "stdout",
     "output_type": "stream",
     "text": [
      "(2924, 3)\n",
      "(2924, 1)\n",
      "(732, 3)\n",
      "(732, 1)\n"
     ]
    }
   ],
   "source": [
    "print(x_train.shape)\n",
    "print(y_train.shape)\n",
    "print(x_test.shape)\n",
    "print(y_test.shape)"
   ]
  },
  {
   "cell_type": "markdown",
   "id": "7ff602ae",
   "metadata": {},
   "source": [
    "#### one-hot encoding"
   ]
  },
  {
   "cell_type": "code",
   "execution_count": 12,
   "id": "ff77843b",
   "metadata": {
    "ExecuteTime": {
     "end_time": "2021-11-30T06:51:51.568554Z",
     "start_time": "2021-11-30T06:51:51.561472Z"
    }
   },
   "outputs": [
    {
     "data": {
      "text/html": [
       "<div>\n",
       "<style scoped>\n",
       "    .dataframe tbody tr th:only-of-type {\n",
       "        vertical-align: middle;\n",
       "    }\n",
       "\n",
       "    .dataframe tbody tr th {\n",
       "        vertical-align: top;\n",
       "    }\n",
       "\n",
       "    .dataframe thead th {\n",
       "        text-align: right;\n",
       "    }\n",
       "</style>\n",
       "<table border=\"1\" class=\"dataframe\">\n",
       "  <thead>\n",
       "    <tr style=\"text-align: right;\">\n",
       "      <th></th>\n",
       "      <th>3</th>\n",
       "    </tr>\n",
       "  </thead>\n",
       "  <tbody>\n",
       "    <tr>\n",
       "      <th>1520</th>\n",
       "      <td>0</td>\n",
       "    </tr>\n",
       "    <tr>\n",
       "      <th>1152</th>\n",
       "      <td>0</td>\n",
       "    </tr>\n",
       "    <tr>\n",
       "      <th>720</th>\n",
       "      <td>0</td>\n",
       "    </tr>\n",
       "    <tr>\n",
       "      <th>728</th>\n",
       "      <td>1</td>\n",
       "    </tr>\n",
       "    <tr>\n",
       "      <th>1273</th>\n",
       "      <td>0</td>\n",
       "    </tr>\n",
       "  </tbody>\n",
       "</table>\n",
       "</div>"
      ],
      "text/plain": [
       "      3\n",
       "1520  0\n",
       "1152  0\n",
       "720   0\n",
       "728   1\n",
       "1273  0"
      ]
     },
     "execution_count": 12,
     "metadata": {},
     "output_type": "execute_result"
    }
   ],
   "source": [
    "y_train.head()"
   ]
  },
  {
   "cell_type": "code",
   "execution_count": 13,
   "id": "4ad190a4",
   "metadata": {
    "ExecuteTime": {
     "end_time": "2021-11-30T06:51:52.944609Z",
     "start_time": "2021-11-30T06:51:52.935340Z"
    }
   },
   "outputs": [
    {
     "name": "stdout",
     "output_type": "stream",
     "text": [
      "(2924, 2)\n",
      "(732, 2)\n"
     ]
    }
   ],
   "source": [
    "from sklearn import preprocessing\n",
    "\n",
    "# Apply 'One-hot encoding' on labels\n",
    "enc = preprocessing.OneHotEncoder(categories='auto')\n",
    "\n",
    "y_train = enc.fit_transform(y_train).toarray()\n",
    "y_test = enc.fit_transform(y_test).toarray()\n",
    "\n",
    "print(y_train.shape)\n",
    "print(y_test.shape)"
   ]
  },
  {
   "cell_type": "code",
   "execution_count": 14,
   "id": "0f5b0fed",
   "metadata": {
    "ExecuteTime": {
     "end_time": "2021-11-30T06:51:56.783986Z",
     "start_time": "2021-11-30T06:51:56.779317Z"
    }
   },
   "outputs": [
    {
     "data": {
      "text/plain": [
       "array([[1., 0.],\n",
       "       [1., 0.],\n",
       "       [1., 0.],\n",
       "       [0., 1.],\n",
       "       [1., 0.]])"
      ]
     },
     "execution_count": 14,
     "metadata": {},
     "output_type": "execute_result"
    }
   ],
   "source": [
    "y_train[:5]\n",
    "\n",
    "# 0 -> [1, 0] -> none\n",
    "# 1 -> [0, 1] -> clickss"
   ]
  },
  {
   "cell_type": "code",
   "execution_count": 15,
   "id": "ab2beeb3",
   "metadata": {
    "ExecuteTime": {
     "end_time": "2021-11-30T06:51:57.988343Z",
     "start_time": "2021-11-30T06:51:57.985683Z"
    }
   },
   "outputs": [],
   "source": [
    "# # -> one-hot vector\n",
    "# from tensorflow.keras import utils\n",
    "# y_train = utils.to_categorical(x_train) # 0 or 1 -> one-hot vector\n",
    "# y_test = utils.to_categorical(x_test) # 0 or 1 -> one-hot vector"
   ]
  },
  {
   "cell_type": "markdown",
   "id": "019df554",
   "metadata": {},
   "source": [
    "#### 모델학습"
   ]
  },
  {
   "cell_type": "code",
   "execution_count": 16,
   "id": "947f2097",
   "metadata": {
    "ExecuteTime": {
     "end_time": "2021-11-30T06:52:02.724969Z",
     "start_time": "2021-11-30T06:52:00.998941Z"
    }
   },
   "outputs": [],
   "source": [
    "import tensorflow as tf\n",
    "\n",
    "from tensorflow.keras import datasets, utils\n",
    "from tensorflow.keras import models, layers, activations, initializers, losses, optimizers, metrics"
   ]
  },
  {
   "cell_type": "code",
   "execution_count": 17,
   "id": "abf5b880",
   "metadata": {
    "ExecuteTime": {
     "end_time": "2021-11-30T06:52:03.578112Z",
     "start_time": "2021-11-30T06:52:03.519302Z"
    }
   },
   "outputs": [],
   "source": [
    "model = models.Sequential()\n",
    "\n",
    "model.add(layers.Dense(input_dim=3, units=64, activation=None, kernel_initializer=initializers.he_uniform())) # he-uniform initialization\n",
    "\n",
    "# model.add(layers.BatchNormalization()) # Use this line as if needed\n",
    "\n",
    "model.add(layers.Activation('elu')) # elu, relu / layers.ELU, layers.LeakyReLU\n",
    "\n",
    "model.add(layers.Dense(units=32, activation=None, kernel_initializer=initializers.he_uniform())) \n",
    "model.add(layers.Activation('elu')) \n",
    "\n",
    "model.add(layers.Dense(units=32, activation=None, kernel_initializer=initializers.he_uniform())) \n",
    "model.add(layers.Activation('elu'))\n",
    "\n",
    "# 마지막 hidden layer droup out\n",
    "model.add(layers.Dropout(rate=0.5))\n",
    "\n",
    "model.add(layers.Dense(units=2, activation='softmax')) # Apply softmax function on model's output"
   ]
  },
  {
   "cell_type": "code",
   "execution_count": 18,
   "id": "0df627ab",
   "metadata": {
    "ExecuteTime": {
     "end_time": "2021-11-30T06:52:05.437130Z",
     "start_time": "2021-11-30T06:52:05.416878Z"
    }
   },
   "outputs": [],
   "source": [
    "model.compile(optimizer=optimizers.Adam(),\n",
    "              loss=losses.categorical_crossentropy, \n",
    "              metrics=[metrics.categorical_accuracy])"
   ]
  },
  {
   "cell_type": "code",
   "execution_count": 19,
   "id": "eeb2df2c",
   "metadata": {
    "ExecuteTime": {
     "end_time": "2021-11-30T06:52:09.724201Z",
     "start_time": "2021-11-30T06:52:06.937434Z"
    }
   },
   "outputs": [
    {
     "name": "stdout",
     "output_type": "stream",
     "text": [
      "Epoch 1/100\n",
      "WARNING:tensorflow:AutoGraph could not transform <function Model.make_train_function.<locals>.train_function at 0x152494d30> and will run it as-is.\n",
      "Please report this to the TensorFlow team. When filing the bug, set the verbosity to 10 (on Linux, `export AUTOGRAPH_VERBOSITY=10`) and attach the full output.\n",
      "Cause: unsupported operand type(s) for -: 'NoneType' and 'int'\n",
      "To silence this warning, decorate the function with @tf.autograph.experimental.do_not_convert\n",
      "WARNING: AutoGraph could not transform <function Model.make_train_function.<locals>.train_function at 0x152494d30> and will run it as-is.\n",
      "Please report this to the TensorFlow team. When filing the bug, set the verbosity to 10 (on Linux, `export AUTOGRAPH_VERBOSITY=10`) and attach the full output.\n",
      "Cause: unsupported operand type(s) for -: 'NoneType' and 'int'\n",
      "To silence this warning, decorate the function with @tf.autograph.experimental.do_not_convert\n"
     ]
    },
    {
     "name": "stderr",
     "output_type": "stream",
     "text": [
      "2021-11-30 15:52:06.989711: I tensorflow/compiler/mlir/mlir_graph_optimization_pass.cc:116] None of the MLIR optimization passes are enabled (registered 2)\n",
      "2021-11-30 15:52:06.990161: W tensorflow/core/platform/profile_utils/cpu_utils.cc:126] Failed to get CPU frequency: 0 Hz\n"
     ]
    },
    {
     "name": "stdout",
     "output_type": "stream",
     "text": [
      " 1/11 [=>............................] - ETA: 2s - loss: 0.6708 - categorical_accuracy: 0.5950WARNING:tensorflow:AutoGraph could not transform <function Model.make_test_function.<locals>.test_function at 0x1554c2040> and will run it as-is.\n",
      "Please report this to the TensorFlow team. When filing the bug, set the verbosity to 10 (on Linux, `export AUTOGRAPH_VERBOSITY=10`) and attach the full output.\n",
      "Cause: unsupported operand type(s) for -: 'NoneType' and 'int'\n",
      "To silence this warning, decorate the function with @tf.autograph.experimental.do_not_convert\n",
      "WARNING: AutoGraph could not transform <function Model.make_test_function.<locals>.test_function at 0x1554c2040> and will run it as-is.\n",
      "Please report this to the TensorFlow team. When filing the bug, set the verbosity to 10 (on Linux, `export AUTOGRAPH_VERBOSITY=10`) and attach the full output.\n",
      "Cause: unsupported operand type(s) for -: 'NoneType' and 'int'\n",
      "To silence this warning, decorate the function with @tf.autograph.experimental.do_not_convert\n",
      "11/11 [==============================] - 0s 29ms/step - loss: 0.6294 - categorical_accuracy: 0.6177 - val_loss: 0.7133 - val_categorical_accuracy: 0.6082\n",
      "Epoch 2/100\n",
      "11/11 [==============================] - 0s 2ms/step - loss: 0.4351 - categorical_accuracy: 0.8548 - val_loss: 0.7352 - val_categorical_accuracy: 0.6207\n",
      "Epoch 3/100\n",
      "11/11 [==============================] - 0s 2ms/step - loss: 0.3098 - categorical_accuracy: 0.9390 - val_loss: 0.8388 - val_categorical_accuracy: 0.6241\n",
      "Epoch 4/100\n",
      "11/11 [==============================] - 0s 2ms/step - loss: 0.2014 - categorical_accuracy: 0.9623 - val_loss: 1.0270 - val_categorical_accuracy: 0.6162\n",
      "Epoch 5/100\n",
      "11/11 [==============================] - 0s 2ms/step - loss: 0.1428 - categorical_accuracy: 0.9755 - val_loss: 1.1474 - val_categorical_accuracy: 0.6390\n",
      "Epoch 6/100\n",
      "11/11 [==============================] - 0s 2ms/step - loss: 0.0994 - categorical_accuracy: 0.9866 - val_loss: 1.5649 - val_categorical_accuracy: 0.6207\n",
      "Epoch 7/100\n",
      "11/11 [==============================] - 0s 2ms/step - loss: 0.0668 - categorical_accuracy: 0.9898 - val_loss: 1.4906 - val_categorical_accuracy: 0.6708\n",
      "Epoch 8/100\n",
      "11/11 [==============================] - 0s 2ms/step - loss: 0.0496 - categorical_accuracy: 0.9924 - val_loss: 2.0366 - val_categorical_accuracy: 0.6093\n",
      "Epoch 9/100\n",
      "11/11 [==============================] - 0s 2ms/step - loss: 0.0383 - categorical_accuracy: 0.9938 - val_loss: 1.9294 - val_categorical_accuracy: 0.6515\n",
      "Epoch 10/100\n",
      "11/11 [==============================] - 0s 2ms/step - loss: 0.0287 - categorical_accuracy: 0.9949 - val_loss: 2.2058 - val_categorical_accuracy: 0.6424\n",
      "Epoch 11/100\n",
      "11/11 [==============================] - 0s 2ms/step - loss: 0.0294 - categorical_accuracy: 0.9928 - val_loss: 2.5753 - val_categorical_accuracy: 0.6241\n",
      "Epoch 12/100\n",
      "11/11 [==============================] - 0s 2ms/step - loss: 0.0208 - categorical_accuracy: 0.9972 - val_loss: 2.5775 - val_categorical_accuracy: 0.6321\n",
      "Epoch 13/100\n",
      "11/11 [==============================] - 0s 2ms/step - loss: 0.0185 - categorical_accuracy: 0.9969 - val_loss: 2.8520 - val_categorical_accuracy: 0.6207\n",
      "Epoch 14/100\n",
      "11/11 [==============================] - 0s 2ms/step - loss: 0.0176 - categorical_accuracy: 0.9974 - val_loss: 3.0138 - val_categorical_accuracy: 0.6276\n",
      "Epoch 15/100\n",
      "11/11 [==============================] - 0s 2ms/step - loss: 0.0117 - categorical_accuracy: 0.9983 - val_loss: 3.2661 - val_categorical_accuracy: 0.6116\n",
      "Epoch 16/100\n",
      "11/11 [==============================] - 0s 2ms/step - loss: 0.0128 - categorical_accuracy: 0.9961 - val_loss: 3.0523 - val_categorical_accuracy: 0.6173\n",
      "Epoch 17/100\n",
      "11/11 [==============================] - 0s 2ms/step - loss: 0.0105 - categorical_accuracy: 0.9990 - val_loss: 3.2689 - val_categorical_accuracy: 0.6241\n",
      "Epoch 18/100\n",
      "11/11 [==============================] - 0s 2ms/step - loss: 0.0104 - categorical_accuracy: 0.9966 - val_loss: 3.2571 - val_categorical_accuracy: 0.6139\n",
      "Epoch 19/100\n",
      "11/11 [==============================] - 0s 2ms/step - loss: 0.0087 - categorical_accuracy: 0.9990 - val_loss: 3.2447 - val_categorical_accuracy: 0.6469\n",
      "Epoch 20/100\n",
      "11/11 [==============================] - 0s 2ms/step - loss: 0.0099 - categorical_accuracy: 0.9979 - val_loss: 3.1695 - val_categorical_accuracy: 0.6481\n",
      "Epoch 21/100\n",
      "11/11 [==============================] - 0s 2ms/step - loss: 0.0086 - categorical_accuracy: 0.9986 - val_loss: 3.6608 - val_categorical_accuracy: 0.6185\n",
      "Epoch 22/100\n",
      "11/11 [==============================] - 0s 2ms/step - loss: 0.0106 - categorical_accuracy: 0.9983 - val_loss: 3.7747 - val_categorical_accuracy: 0.6128\n",
      "Epoch 23/100\n",
      "11/11 [==============================] - 0s 2ms/step - loss: 0.0062 - categorical_accuracy: 0.9991 - val_loss: 3.5312 - val_categorical_accuracy: 0.6321\n",
      "Epoch 24/100\n",
      "11/11 [==============================] - 0s 2ms/step - loss: 0.0061 - categorical_accuracy: 0.9994 - val_loss: 3.6752 - val_categorical_accuracy: 0.6321\n",
      "Epoch 25/100\n",
      "11/11 [==============================] - 0s 2ms/step - loss: 0.0072 - categorical_accuracy: 0.9986 - val_loss: 3.8701 - val_categorical_accuracy: 0.6321\n",
      "Epoch 26/100\n",
      "11/11 [==============================] - 0s 2ms/step - loss: 0.0048 - categorical_accuracy: 0.9995 - val_loss: 4.3023 - val_categorical_accuracy: 0.6173\n",
      "Epoch 27/100\n",
      "11/11 [==============================] - 0s 2ms/step - loss: 0.0058 - categorical_accuracy: 0.9986 - val_loss: 4.3078 - val_categorical_accuracy: 0.5979\n",
      "Epoch 28/100\n",
      "11/11 [==============================] - 0s 2ms/step - loss: 0.0065 - categorical_accuracy: 0.9982 - val_loss: 3.8327 - val_categorical_accuracy: 0.6606\n",
      "Epoch 29/100\n",
      "11/11 [==============================] - 0s 2ms/step - loss: 0.0063 - categorical_accuracy: 0.9984 - val_loss: 3.8829 - val_categorical_accuracy: 0.6503\n",
      "Epoch 30/100\n",
      "11/11 [==============================] - 0s 2ms/step - loss: 0.0085 - categorical_accuracy: 0.9974 - val_loss: 4.1341 - val_categorical_accuracy: 0.6435\n",
      "Epoch 31/100\n",
      "11/11 [==============================] - 0s 2ms/step - loss: 0.0046 - categorical_accuracy: 0.9989 - val_loss: 3.9116 - val_categorical_accuracy: 0.6549\n",
      "Epoch 32/100\n",
      "11/11 [==============================] - 0s 2ms/step - loss: 0.0030 - categorical_accuracy: 0.9998 - val_loss: 4.3134 - val_categorical_accuracy: 0.6298\n",
      "Epoch 33/100\n",
      "11/11 [==============================] - 0s 2ms/step - loss: 0.0060 - categorical_accuracy: 0.9991 - val_loss: 4.3554 - val_categorical_accuracy: 0.6128\n",
      "Epoch 34/100\n",
      "11/11 [==============================] - 0s 2ms/step - loss: 0.0042 - categorical_accuracy: 0.9988 - val_loss: 4.7536 - val_categorical_accuracy: 0.6105\n",
      "Epoch 35/100\n",
      "11/11 [==============================] - 0s 2ms/step - loss: 0.0062 - categorical_accuracy: 0.9988 - val_loss: 4.7210 - val_categorical_accuracy: 0.6241\n",
      "Epoch 36/100\n",
      "11/11 [==============================] - 0s 2ms/step - loss: 0.0038 - categorical_accuracy: 0.9993 - val_loss: 4.3673 - val_categorical_accuracy: 0.6446\n",
      "Epoch 37/100\n",
      "11/11 [==============================] - 0s 2ms/step - loss: 0.0034 - categorical_accuracy: 0.9993 - val_loss: 4.0683 - val_categorical_accuracy: 0.6435\n",
      "Epoch 38/100\n",
      "11/11 [==============================] - 0s 2ms/step - loss: 0.0050 - categorical_accuracy: 0.9989 - val_loss: 4.8788 - val_categorical_accuracy: 0.6185\n",
      "Epoch 39/100\n",
      "11/11 [==============================] - 0s 2ms/step - loss: 0.0060 - categorical_accuracy: 0.9981 - val_loss: 4.6377 - val_categorical_accuracy: 0.6321\n",
      "Epoch 40/100\n",
      "11/11 [==============================] - 0s 2ms/step - loss: 0.0060 - categorical_accuracy: 0.9981 - val_loss: 4.5847 - val_categorical_accuracy: 0.6492\n",
      "Epoch 41/100\n",
      "11/11 [==============================] - 0s 2ms/step - loss: 0.0032 - categorical_accuracy: 0.9995 - val_loss: 5.0014 - val_categorical_accuracy: 0.6276\n",
      "Epoch 42/100\n",
      "11/11 [==============================] - 0s 2ms/step - loss: 0.0030 - categorical_accuracy: 0.9992 - val_loss: 4.7356 - val_categorical_accuracy: 0.6424\n",
      "Epoch 43/100\n",
      "11/11 [==============================] - 0s 2ms/step - loss: 0.0079 - categorical_accuracy: 0.9990 - val_loss: 4.8524 - val_categorical_accuracy: 0.6390\n",
      "Epoch 44/100\n"
     ]
    },
    {
     "name": "stdout",
     "output_type": "stream",
     "text": [
      "11/11 [==============================] - 0s 2ms/step - loss: 0.0033 - categorical_accuracy: 0.9996 - val_loss: 4.9549 - val_categorical_accuracy: 0.6219\n",
      "Epoch 45/100\n",
      "11/11 [==============================] - 0s 2ms/step - loss: 0.0028 - categorical_accuracy: 0.9993 - val_loss: 5.1856 - val_categorical_accuracy: 0.6241\n",
      "Epoch 46/100\n",
      "11/11 [==============================] - 0s 2ms/step - loss: 0.0034 - categorical_accuracy: 0.9997 - val_loss: 4.7555 - val_categorical_accuracy: 0.6435\n",
      "Epoch 47/100\n",
      "11/11 [==============================] - 0s 2ms/step - loss: 0.0027 - categorical_accuracy: 0.9995 - val_loss: 5.4719 - val_categorical_accuracy: 0.6185\n",
      "Epoch 48/100\n",
      "11/11 [==============================] - 0s 2ms/step - loss: 0.0057 - categorical_accuracy: 0.9989 - val_loss: 5.4486 - val_categorical_accuracy: 0.6230\n",
      "Epoch 49/100\n",
      "11/11 [==============================] - 0s 2ms/step - loss: 0.0038 - categorical_accuracy: 0.9992 - val_loss: 5.4478 - val_categorical_accuracy: 0.6128\n",
      "Epoch 50/100\n",
      "11/11 [==============================] - 0s 2ms/step - loss: 0.0025 - categorical_accuracy: 0.9996 - val_loss: 5.2308 - val_categorical_accuracy: 0.6401\n",
      "Epoch 51/100\n",
      "11/11 [==============================] - 0s 2ms/step - loss: 0.0051 - categorical_accuracy: 0.9991 - val_loss: 5.6055 - val_categorical_accuracy: 0.6048\n",
      "Epoch 52/100\n",
      "11/11 [==============================] - 0s 2ms/step - loss: 0.0031 - categorical_accuracy: 0.9996 - val_loss: 5.1533 - val_categorical_accuracy: 0.6492\n",
      "Epoch 53/100\n",
      "11/11 [==============================] - 0s 2ms/step - loss: 0.0047 - categorical_accuracy: 0.9991 - val_loss: 5.2411 - val_categorical_accuracy: 0.6355\n",
      "Epoch 54/100\n",
      "11/11 [==============================] - 0s 2ms/step - loss: 0.0038 - categorical_accuracy: 0.9984 - val_loss: 5.2131 - val_categorical_accuracy: 0.6367\n",
      "Epoch 55/100\n",
      "11/11 [==============================] - 0s 2ms/step - loss: 0.0034 - categorical_accuracy: 0.9995 - val_loss: 5.6476 - val_categorical_accuracy: 0.6082\n",
      "Epoch 56/100\n",
      "11/11 [==============================] - 0s 2ms/step - loss: 0.0030 - categorical_accuracy: 0.9994 - val_loss: 5.7089 - val_categorical_accuracy: 0.6253\n",
      "Epoch 57/100\n",
      "11/11 [==============================] - 0s 2ms/step - loss: 0.0031 - categorical_accuracy: 0.9992 - val_loss: 5.4499 - val_categorical_accuracy: 0.6355\n",
      "Epoch 58/100\n",
      "11/11 [==============================] - 0s 2ms/step - loss: 0.0041 - categorical_accuracy: 0.9995 - val_loss: 5.4115 - val_categorical_accuracy: 0.6321\n",
      "Epoch 59/100\n",
      "11/11 [==============================] - 0s 2ms/step - loss: 0.0021 - categorical_accuracy: 0.9992 - val_loss: 5.2904 - val_categorical_accuracy: 0.6458\n",
      "Epoch 60/100\n",
      "11/11 [==============================] - 0s 2ms/step - loss: 0.0032 - categorical_accuracy: 0.9991 - val_loss: 5.0612 - val_categorical_accuracy: 0.6481\n",
      "Epoch 61/100\n",
      "11/11 [==============================] - 0s 2ms/step - loss: 0.0024 - categorical_accuracy: 0.9990 - val_loss: 5.9376 - val_categorical_accuracy: 0.6105\n",
      "Epoch 62/100\n",
      "11/11 [==============================] - 0s 2ms/step - loss: 0.0099 - categorical_accuracy: 0.9985 - val_loss: 5.5494 - val_categorical_accuracy: 0.6446\n",
      "Epoch 63/100\n",
      "11/11 [==============================] - 0s 2ms/step - loss: 0.0066 - categorical_accuracy: 0.9991 - val_loss: 5.6166 - val_categorical_accuracy: 0.6287\n",
      "Epoch 64/100\n",
      "11/11 [==============================] - 0s 2ms/step - loss: 0.0034 - categorical_accuracy: 0.9986 - val_loss: 5.3161 - val_categorical_accuracy: 0.6595\n",
      "Epoch 65/100\n",
      "11/11 [==============================] - 0s 2ms/step - loss: 0.0029 - categorical_accuracy: 0.9999 - val_loss: 5.8197 - val_categorical_accuracy: 0.6253\n",
      "Epoch 66/100\n",
      "11/11 [==============================] - 0s 2ms/step - loss: 0.0019 - categorical_accuracy: 0.9991 - val_loss: 6.0029 - val_categorical_accuracy: 0.6321\n",
      "Epoch 67/100\n",
      "11/11 [==============================] - 0s 3ms/step - loss: 0.0021 - categorical_accuracy: 0.9997 - val_loss: 5.7799 - val_categorical_accuracy: 0.6264\n",
      "Epoch 68/100\n",
      "11/11 [==============================] - 0s 2ms/step - loss: 0.0026 - categorical_accuracy: 0.9992 - val_loss: 5.9915 - val_categorical_accuracy: 0.6287\n",
      "Epoch 69/100\n",
      "11/11 [==============================] - 0s 2ms/step - loss: 0.0063 - categorical_accuracy: 0.9981 - val_loss: 5.9073 - val_categorical_accuracy: 0.6435\n",
      "Epoch 70/100\n",
      "11/11 [==============================] - 0s 2ms/step - loss: 0.0034 - categorical_accuracy: 0.9985 - val_loss: 5.7968 - val_categorical_accuracy: 0.6458\n",
      "Epoch 71/100\n",
      "11/11 [==============================] - 0s 2ms/step - loss: 0.0055 - categorical_accuracy: 0.9991 - val_loss: 6.1362 - val_categorical_accuracy: 0.6128\n",
      "Epoch 72/100\n",
      "11/11 [==============================] - 0s 2ms/step - loss: 0.0037 - categorical_accuracy: 0.9988 - val_loss: 5.7997 - val_categorical_accuracy: 0.6629\n",
      "Epoch 73/100\n",
      "11/11 [==============================] - 0s 2ms/step - loss: 0.0054 - categorical_accuracy: 0.9983 - val_loss: 6.2252 - val_categorical_accuracy: 0.6207\n",
      "Epoch 74/100\n",
      "11/11 [==============================] - 0s 2ms/step - loss: 0.0026 - categorical_accuracy: 0.9992 - val_loss: 5.9672 - val_categorical_accuracy: 0.6378\n",
      "Epoch 75/100\n",
      "11/11 [==============================] - 0s 2ms/step - loss: 0.0044 - categorical_accuracy: 0.9981 - val_loss: 6.1654 - val_categorical_accuracy: 0.6333\n",
      "Epoch 76/100\n",
      "11/11 [==============================] - 0s 2ms/step - loss: 0.0023 - categorical_accuracy: 0.9996 - val_loss: 5.8965 - val_categorical_accuracy: 0.6424\n",
      "Epoch 77/100\n",
      "11/11 [==============================] - 0s 2ms/step - loss: 0.0015 - categorical_accuracy: 0.9997 - val_loss: 6.4569 - val_categorical_accuracy: 0.6378\n",
      "Epoch 78/100\n",
      "11/11 [==============================] - 0s 2ms/step - loss: 0.0031 - categorical_accuracy: 0.9993 - val_loss: 5.5613 - val_categorical_accuracy: 0.6629\n",
      "Epoch 79/100\n",
      "11/11 [==============================] - 0s 2ms/step - loss: 0.0029 - categorical_accuracy: 0.9994 - val_loss: 6.7687 - val_categorical_accuracy: 0.6139\n",
      "Epoch 80/100\n",
      "11/11 [==============================] - 0s 2ms/step - loss: 0.0017 - categorical_accuracy: 0.9998 - val_loss: 6.6851 - val_categorical_accuracy: 0.6014\n",
      "Epoch 81/100\n",
      "11/11 [==============================] - 0s 2ms/step - loss: 0.0026 - categorical_accuracy: 0.9993 - val_loss: 6.4129 - val_categorical_accuracy: 0.6276\n",
      "Epoch 82/100\n",
      "11/11 [==============================] - 0s 2ms/step - loss: 0.0026 - categorical_accuracy: 0.9995 - val_loss: 6.6381 - val_categorical_accuracy: 0.6230\n",
      "Epoch 83/100\n",
      "11/11 [==============================] - 0s 2ms/step - loss: 0.0029 - categorical_accuracy: 0.9993 - val_loss: 6.7216 - val_categorical_accuracy: 0.6150\n",
      "Epoch 84/100\n",
      "11/11 [==============================] - 0s 2ms/step - loss: 0.0031 - categorical_accuracy: 0.9991 - val_loss: 6.4016 - val_categorical_accuracy: 0.6276\n",
      "Epoch 85/100\n",
      "11/11 [==============================] - 0s 2ms/step - loss: 0.0014 - categorical_accuracy: 0.9995 - val_loss: 6.5153 - val_categorical_accuracy: 0.6253\n",
      "Epoch 86/100\n",
      "11/11 [==============================] - 0s 2ms/step - loss: 0.0021 - categorical_accuracy: 0.9989 - val_loss: 6.3111 - val_categorical_accuracy: 0.6241\n",
      "Epoch 87/100\n",
      "11/11 [==============================] - 0s 2ms/step - loss: 0.0063 - categorical_accuracy: 0.9978 - val_loss: 6.1515 - val_categorical_accuracy: 0.6128\n",
      "Epoch 88/100\n",
      "11/11 [==============================] - 0s 2ms/step - loss: 0.0020 - categorical_accuracy: 0.9993 - val_loss: 6.5012 - val_categorical_accuracy: 0.6333\n",
      "Epoch 89/100\n",
      "11/11 [==============================] - 0s 2ms/step - loss: 0.0036 - categorical_accuracy: 0.9990 - val_loss: 6.9585 - val_categorical_accuracy: 0.6093\n",
      "Epoch 90/100\n",
      "11/11 [==============================] - 0s 2ms/step - loss: 0.0012 - categorical_accuracy: 0.9997 - val_loss: 6.5054 - val_categorical_accuracy: 0.6321\n",
      "Epoch 91/100\n",
      "11/11 [==============================] - 0s 2ms/step - loss: 0.0038 - categorical_accuracy: 0.9991 - val_loss: 6.5765 - val_categorical_accuracy: 0.6128\n",
      "Epoch 92/100\n",
      "11/11 [==============================] - 0s 2ms/step - loss: 0.0016 - categorical_accuracy: 0.9997 - val_loss: 6.7245 - val_categorical_accuracy: 0.6128\n",
      "Epoch 93/100\n"
     ]
    },
    {
     "name": "stdout",
     "output_type": "stream",
     "text": [
      "11/11 [==============================] - 0s 2ms/step - loss: 0.0024 - categorical_accuracy: 0.9993 - val_loss: 6.4730 - val_categorical_accuracy: 0.6344\n",
      "Epoch 94/100\n",
      "11/11 [==============================] - 0s 2ms/step - loss: 0.0015 - categorical_accuracy: 0.9993 - val_loss: 6.8181 - val_categorical_accuracy: 0.6241\n",
      "Epoch 95/100\n",
      "11/11 [==============================] - 0s 2ms/step - loss: 0.0039 - categorical_accuracy: 0.9968 - val_loss: 6.3920 - val_categorical_accuracy: 0.6310\n",
      "Epoch 96/100\n",
      "11/11 [==============================] - 0s 2ms/step - loss: 0.0035 - categorical_accuracy: 0.9973 - val_loss: 6.5040 - val_categorical_accuracy: 0.6230\n",
      "Epoch 97/100\n",
      "11/11 [==============================] - 0s 2ms/step - loss: 0.0016 - categorical_accuracy: 0.9999 - val_loss: 6.1344 - val_categorical_accuracy: 0.6446\n",
      "Epoch 98/100\n",
      "11/11 [==============================] - 0s 2ms/step - loss: 0.0013 - categorical_accuracy: 0.9998 - val_loss: 6.4787 - val_categorical_accuracy: 0.6412\n",
      "Epoch 99/100\n",
      "11/11 [==============================] - 0s 2ms/step - loss: 0.0022 - categorical_accuracy: 0.9996 - val_loss: 6.8622 - val_categorical_accuracy: 0.6481\n",
      "Epoch 100/100\n",
      "11/11 [==============================] - 0s 2ms/step - loss: 5.3203e-04 - categorical_accuracy: 1.0000 - val_loss: 6.6452 - val_categorical_accuracy: 0.6230\n"
     ]
    }
   ],
   "source": [
    "history = model.fit(x_train, y_train, batch_size=200, epochs=100, validation_split=0.3) "
   ]
  },
  {
   "cell_type": "markdown",
   "id": "2291f753",
   "metadata": {},
   "source": [
    "#### 모델 정확도 측정"
   ]
  },
  {
   "cell_type": "code",
   "execution_count": 22,
   "id": "d4328d18",
   "metadata": {
    "ExecuteTime": {
     "end_time": "2021-11-30T06:52:19.277393Z",
     "start_time": "2021-11-30T06:52:19.211645Z"
    }
   },
   "outputs": [
    {
     "name": "stdout",
     "output_type": "stream",
     "text": [
      "23/23 [==============================] - 0s 500us/step - loss: 0.0012 - categorical_accuracy: 0.9986\n",
      "loss (cross-entropy) : 0.0011589652858674526\n",
      "test accuracy : 0.998633861541748\n"
     ]
    }
   ],
   "source": [
    "result = model.evaluate(x_test, y_test)\n",
    "\n",
    "print('loss (cross-entropy) :', result[0])\n",
    "print('test accuracy :', result[1])"
   ]
  },
  {
   "cell_type": "code",
   "execution_count": 23,
   "id": "4f5d8b25",
   "metadata": {
    "ExecuteTime": {
     "end_time": "2021-11-30T06:52:20.921834Z",
     "start_time": "2021-11-30T06:52:20.816126Z"
    }
   },
   "outputs": [
    {
     "data": {
      "image/png": "[encoded data removed]",
      "text/plain": [
       "<Figure size 432x288 with 1 Axes>"
      ]
     },
     "metadata": {
      "needs_background": "light"
     },
     "output_type": "display_data"
    }
   ],
   "source": [
    "acc = history.history['categorical_accuracy']\n",
    "val_acc = history.history['val_categorical_accuracy']\n",
    "\n",
    "x_len = np.arange(len(acc))\n",
    "\n",
    "plt.plot(x_len, acc, marker='.', c='blue', label=\"Train-set Acc.\")\n",
    "plt.plot(x_len, val_acc, marker='.', c='red', label=\"Validation-set Acc.\")\n",
    "\n",
    "plt.legend(loc='upper right')\n",
    "plt.grid()\n",
    "plt.xlabel('epoch')\n",
    "plt.ylabel('Accuracy')\n",
    "plt.show()"
   ]
  },
  {
   "cell_type": "markdown",
   "id": "7ac29ae2",
   "metadata": {},
   "source": [
    "#### 모델 저장"
   ]
  },
  {
   "cell_type": "code",
   "execution_count": 24,
   "id": "020de047",
   "metadata": {
    "ExecuteTime": {
     "end_time": "2021-11-30T06:52:52.050910Z",
     "start_time": "2021-11-30T06:52:52.024205Z"
    }
   },
   "outputs": [],
   "source": [
    "model.save('models/ver3/model_ver3_1.h5')"
   ]
  },
  {
   "cell_type": "markdown",
   "id": "08a86ed3",
   "metadata": {},
   "source": [
    "### 모델 테스트"
   ]
  },
  {
   "cell_type": "code",
   "execution_count": 25,
   "id": "5968ad26",
   "metadata": {
    "ExecuteTime": {
     "end_time": "2021-11-30T06:52:58.363364Z",
     "start_time": "2021-11-30T06:52:58.360444Z"
    }
   },
   "outputs": [],
   "source": [
    "angles = [0.1, 0.4, 0.4]"
   ]
  },
  {
   "cell_type": "code",
   "execution_count": 26,
   "id": "189ea404",
   "metadata": {
    "ExecuteTime": {
     "end_time": "2021-11-30T06:52:58.696409Z",
     "start_time": "2021-11-30T06:52:58.589252Z"
    }
   },
   "outputs": [
    {
     "name": "stdout",
     "output_type": "stream",
     "text": [
      "WARNING:tensorflow:AutoGraph could not transform <function Model.make_predict_function.<locals>.predict_function at 0x156bc9dc0> and will run it as-is.\n",
      "Please report this to the TensorFlow team. When filing the bug, set the verbosity to 10 (on Linux, `export AUTOGRAPH_VERBOSITY=10`) and attach the full output.\n",
      "Cause: unsupported operand type(s) for -: 'NoneType' and 'int'\n",
      "To silence this warning, decorate the function with @tf.autograph.experimental.do_not_convert\n",
      "WARNING: AutoGraph could not transform <function Model.make_predict_function.<locals>.predict_function at 0x156bc9dc0> and will run it as-is.\n",
      "Please report this to the TensorFlow team. When filing the bug, set the verbosity to 10 (on Linux, `export AUTOGRAPH_VERBOSITY=10`) and attach the full output.\n",
      "Cause: unsupported operand type(s) for -: 'NoneType' and 'int'\n",
      "To silence this warning, decorate the function with @tf.autograph.experimental.do_not_convert\n",
      "[[1.0743702e-04 9.9989259e-01]]\n"
     ]
    }
   ],
   "source": [
    "pred = model.predict([angles])\n",
    "print(pred)"
   ]
  },
  {
   "cell_type": "code",
   "execution_count": 27,
   "id": "1d26c20c",
   "metadata": {
    "ExecuteTime": {
     "end_time": "2021-11-30T06:53:00.195905Z",
     "start_time": "2021-11-30T06:53:00.189908Z"
    }
   },
   "outputs": [
    {
     "data": {
      "text/plain": [
       "0.00010743702"
      ]
     },
     "execution_count": 27,
     "metadata": {},
     "output_type": "execute_result"
    }
   ],
   "source": [
    "pred[0][0]"
   ]
  }
 ],
 "metadata": {
  "kernelspec": {
   "display_name": "Python 3 (ipykernel)",
   "language": "python",
   "name": "python3"
  },
  "language_info": {
   "codemirror_mode": {
    "name": "ipython",
    "version": 3
   },
   "file_extension": ".py",
   "mimetype": "text/x-python",
   "name": "python",
   "nbconvert_exporter": "python",
   "pygments_lexer": "ipython3",
   "version": "3.8.10"
  },
  "toc": {
   "base_numbering": 1,
   "nav_menu": {},
   "number_sections": true,
   "sideBar": true,
   "skip_h1_title": false,
   "title_cell": "Table of Contents",
   "title_sidebar": "Contents",
   "toc_cell": false,
   "toc_position": {},
   "toc_section_display": true,
   "toc_window_display": false
  }
 },
 "nbformat": 4,
 "nbformat_minor": 5
}
